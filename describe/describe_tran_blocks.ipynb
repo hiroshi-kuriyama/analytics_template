{
 "cells": [
  {
   "cell_type": "code",
   "execution_count": 2,
   "metadata": {},
   "outputs": [],
   "source": [
    "import numpy as np\n",
    "import pandas as pd\n",
    "import matplotlib.pyplot as plt\n",
    "import datetime\n",
    "import seaborn as sns"
   ]
  },
  {
   "cell_type": "code",
   "execution_count": 3,
   "metadata": {},
   "outputs": [],
   "source": [
    "%matplotlib inline"
   ]
  },
  {
   "cell_type": "code",
   "execution_count": 4,
   "metadata": {},
   "outputs": [],
   "source": [
    "tran_blocks = pd.read_csv('../01_データ/analysis/transactions_last_blocks_with_mem_logs_median.txt', engine='python')"
   ]
  },
  {
   "cell_type": "code",
   "execution_count": 5,
   "metadata": {},
   "outputs": [
    {
     "data": {
      "text/plain": [
       "Index(['is_churn', 'is_cancel', 'cumul_purchase_num', 'cumul_valid_days',\n",
       "       'return_point', 'transaction_freq', 'valid_days', 'price_mean',\n",
       "       'paid_mean', 'plan_days_mean', 'plan_days_mode', 'price_mode',\n",
       "       'method_mode', 'interval_days', 'initial_date', 'last_date', 'msno',\n",
       "       'city', 'bd', 'gender', 'registered_via', 'registration_init_time',\n",
       "       'total_secs_per_day', 'num_unq_per_day', 'on_ratio',\n",
       "       'off_days_before_expire'],\n",
       "      dtype='object')"
      ]
     },
     "execution_count": 5,
     "metadata": {},
     "output_type": "execute_result"
    }
   ],
   "source": [
    "tran_blocks.columns"
   ]
  },
  {
   "cell_type": "code",
   "execution_count": 6,
   "metadata": {},
   "outputs": [],
   "source": [
    "# 日付型に変換\n",
    "tran_blocks['initial_date'] = pd.to_datetime(tran_blocks['initial_date'])\n",
    "tran_blocks['last_date'] = pd.to_datetime(tran_blocks['last_date'])\n",
    "tran_blocks['registration_init_time'] = pd.to_datetime(tran_blocks['registration_init_time'])"
   ]
  },
  {
   "cell_type": "code",
   "execution_count": 7,
   "metadata": {},
   "outputs": [],
   "source": [
    "# プラン料金に対して実際に支払った金額の割合\n",
    "\n",
    "tran_blocks['paid_ratio'] = tran_blocks['paid_mean'] / tran_blocks['price_mean']\n",
    "# プラン料金が0のときは0を代入\n",
    "tran_blocks['paid_ratio'] = tran_blocks['paid_ratio'].replace(np.inf, 0)\n",
    "tran_blocks['paid_ratio'] = tran_blocks['paid_ratio'].replace(np.NaN, 1)"
   ]
  },
  {
   "cell_type": "code",
   "execution_count": 28,
   "metadata": {},
   "outputs": [
    {
     "name": "stderr",
     "output_type": "stream",
     "text": [
      "C:\\Users\\hiroshi_kuriyama\\AppData\\Local\\conda\\conda\\envs\\python-basics\\lib\\site-packages\\ipykernel_launcher.py:6: SettingWithCopyWarning: \n",
      "A value is trying to be set on a copy of a slice from a DataFrame\n",
      "\n",
      "See the caveats in the documentation: http://pandas.pydata.org/pandas-docs/stable/indexing.html#indexing-view-versus-copy\n",
      "  \n"
     ]
    }
   ],
   "source": [
    "# membersデータから特徴量作成\n",
    "#city == 1 かどうか\n",
    "tran_blocks['is_city_1'] = (tran_blocks['city'] == 1) * 1\n",
    "\n",
    "#bd == NULL なら平均値を代入\n",
    "tran_blocks['bd'][tran_blocks['bd'].isnull()] = tran_blocks['bd'].mean()\n",
    "\n",
    "#gender == male かどうか\n",
    "#gender == female かどうか\n",
    "# ※NULLはともに0のレコード\n",
    "tran_blocks['is_male'] = (tran_blocks['gender'] == 1) * 1\n",
    "tran_blocks['is_gen_null'] = tran_blocks['gender'].isnull() * 1\n",
    "\n",
    "\n",
    "#registered_via をダミー変数に置き換える\n",
    "ctgl_registered_via = pd.get_dummies(tran_blocks['registered_via'], drop_first=True, prefix='is_registered_via')\n",
    "tran_blocks = pd.concat([tran_blocks, ctgl_registered_via], axis=1)\n",
    "\n",
    "#method_mode をダミー変数に置き換える\n",
    "ctgl_registered_via = pd.get_dummies(tran_blocks['method_mode'], drop_first=True, prefix='is_method_mode')\n",
    "tran_blocks = pd.concat([tran_blocks, ctgl_registered_via], axis=1)"
   ]
  },
  {
   "cell_type": "code",
   "execution_count": 29,
   "metadata": {},
   "outputs": [
    {
     "data": {
      "text/html": [
       "<div>\n",
       "<style scoped>\n",
       "    .dataframe tbody tr th:only-of-type {\n",
       "        vertical-align: middle;\n",
       "    }\n",
       "\n",
       "    .dataframe tbody tr th {\n",
       "        vertical-align: top;\n",
       "    }\n",
       "\n",
       "    .dataframe thead th {\n",
       "        text-align: right;\n",
       "    }\n",
       "</style>\n",
       "<table border=\"1\" class=\"dataframe\">\n",
       "  <thead>\n",
       "    <tr style=\"text-align: right;\">\n",
       "      <th></th>\n",
       "      <th>registered_via</th>\n",
       "      <th>is_registered_via_4</th>\n",
       "      <th>is_registered_via_4</th>\n",
       "      <th>is_registered_via_4</th>\n",
       "      <th>is_registered_via_7</th>\n",
       "      <th>is_registered_via_7</th>\n",
       "      <th>is_registered_via_7</th>\n",
       "      <th>is_registered_via_9</th>\n",
       "      <th>is_registered_via_9</th>\n",
       "      <th>is_registered_via_9</th>\n",
       "      <th>is_registered_via_13</th>\n",
       "      <th>is_registered_via_13</th>\n",
       "      <th>is_registered_via_13</th>\n",
       "    </tr>\n",
       "  </thead>\n",
       "  <tbody>\n",
       "    <tr>\n",
       "      <th>0</th>\n",
       "      <td>4</td>\n",
       "      <td>1</td>\n",
       "      <td>1</td>\n",
       "      <td>1</td>\n",
       "      <td>0</td>\n",
       "      <td>0</td>\n",
       "      <td>0</td>\n",
       "      <td>0</td>\n",
       "      <td>0</td>\n",
       "      <td>0</td>\n",
       "      <td>0</td>\n",
       "      <td>0</td>\n",
       "      <td>0</td>\n",
       "    </tr>\n",
       "    <tr>\n",
       "      <th>1</th>\n",
       "      <td>4</td>\n",
       "      <td>1</td>\n",
       "      <td>1</td>\n",
       "      <td>1</td>\n",
       "      <td>0</td>\n",
       "      <td>0</td>\n",
       "      <td>0</td>\n",
       "      <td>0</td>\n",
       "      <td>0</td>\n",
       "      <td>0</td>\n",
       "      <td>0</td>\n",
       "      <td>0</td>\n",
       "      <td>0</td>\n",
       "    </tr>\n",
       "    <tr>\n",
       "      <th>2</th>\n",
       "      <td>4</td>\n",
       "      <td>1</td>\n",
       "      <td>1</td>\n",
       "      <td>1</td>\n",
       "      <td>0</td>\n",
       "      <td>0</td>\n",
       "      <td>0</td>\n",
       "      <td>0</td>\n",
       "      <td>0</td>\n",
       "      <td>0</td>\n",
       "      <td>0</td>\n",
       "      <td>0</td>\n",
       "      <td>0</td>\n",
       "    </tr>\n",
       "    <tr>\n",
       "      <th>3</th>\n",
       "      <td>9</td>\n",
       "      <td>0</td>\n",
       "      <td>0</td>\n",
       "      <td>0</td>\n",
       "      <td>0</td>\n",
       "      <td>0</td>\n",
       "      <td>0</td>\n",
       "      <td>1</td>\n",
       "      <td>1</td>\n",
       "      <td>1</td>\n",
       "      <td>0</td>\n",
       "      <td>0</td>\n",
       "      <td>0</td>\n",
       "    </tr>\n",
       "    <tr>\n",
       "      <th>4</th>\n",
       "      <td>3</td>\n",
       "      <td>0</td>\n",
       "      <td>0</td>\n",
       "      <td>0</td>\n",
       "      <td>0</td>\n",
       "      <td>0</td>\n",
       "      <td>0</td>\n",
       "      <td>0</td>\n",
       "      <td>0</td>\n",
       "      <td>0</td>\n",
       "      <td>0</td>\n",
       "      <td>0</td>\n",
       "      <td>0</td>\n",
       "    </tr>\n",
       "  </tbody>\n",
       "</table>\n",
       "</div>"
      ],
      "text/plain": [
       "   registered_via  is_registered_via_4  is_registered_via_4  \\\n",
       "0               4                    1                    1   \n",
       "1               4                    1                    1   \n",
       "2               4                    1                    1   \n",
       "3               9                    0                    0   \n",
       "4               3                    0                    0   \n",
       "\n",
       "   is_registered_via_4  is_registered_via_7  is_registered_via_7  \\\n",
       "0                    1                    0                    0   \n",
       "1                    1                    0                    0   \n",
       "2                    1                    0                    0   \n",
       "3                    0                    0                    0   \n",
       "4                    0                    0                    0   \n",
       "\n",
       "   is_registered_via_7  is_registered_via_9  is_registered_via_9  \\\n",
       "0                    0                    0                    0   \n",
       "1                    0                    0                    0   \n",
       "2                    0                    0                    0   \n",
       "3                    0                    1                    1   \n",
       "4                    0                    0                    0   \n",
       "\n",
       "   is_registered_via_9  is_registered_via_13  is_registered_via_13  \\\n",
       "0                    0                     0                     0   \n",
       "1                    0                     0                     0   \n",
       "2                    0                     0                     0   \n",
       "3                    1                     0                     0   \n",
       "4                    0                     0                     0   \n",
       "\n",
       "   is_registered_via_13  \n",
       "0                     0  \n",
       "1                     0  \n",
       "2                     0  \n",
       "3                     0  \n",
       "4                     0  "
      ]
     },
     "execution_count": 29,
     "metadata": {},
     "output_type": "execute_result"
    }
   ],
   "source": [
    "#registered_via をダミー変数に置き換える\n",
    "ctgl_registered_via = pd.get_dummies(tran_blocks['registered_via'], drop_first=True, prefix='is_registered_via')\n",
    "tran_blocks = pd.concat([tran_blocks, ctgl_registered_via], axis=1)\n",
    "tran_blocks[['registered_via', 'is_registered_via_4', 'is_registered_via_7', 'is_registered_via_9', 'is_registered_via_13']].head()"
   ]
  },
  {
   "cell_type": "markdown",
   "metadata": {},
   "source": [
    "## 性別がNANかどうかで大きな違い"
   ]
  },
  {
   "cell_type": "code",
   "execution_count": 32,
   "metadata": {},
   "outputs": [
    {
     "data": {
      "text/plain": [
       "<matplotlib.axes._subplots.AxesSubplot at 0x195ff436f60>"
      ]
     },
     "execution_count": 32,
     "metadata": {},
     "output_type": "execute_result"
    },
    {
     "data": {
      "image/png": "[encoded data removed]",
      "text/plain": [
       "<Figure size 432x288 with 1 Axes>"
      ]
     },
     "metadata": {},
     "output_type": "display_data"
    }
   ],
   "source": [
    "tran_blocks.query('is_churn == 1')['is_gen_null'].value_counts().plot.bar(color='c')"
   ]
  },
  {
   "cell_type": "code",
   "execution_count": 33,
   "metadata": {},
   "outputs": [
    {
     "data": {
      "text/plain": [
       "<matplotlib.axes._subplots.AxesSubplot at 0x195846d3eb8>"
      ]
     },
     "execution_count": 33,
     "metadata": {},
     "output_type": "execute_result"
    },
    {
     "data": {
      "image/png": "[encoded data removed]",
      "text/plain": [
       "<Figure size 432x288 with 1 Axes>"
      ]
     },
     "metadata": {},
     "output_type": "display_data"
    }
   ],
   "source": [
    "tran_blocks.query('is_churn == 0')['is_gen_null'].value_counts().plot.bar(color='c')"
   ]
  },
  {
   "cell_type": "markdown",
   "metadata": {},
   "source": [
    "## cityが１かどうかで大きな違い"
   ]
  },
  {
   "cell_type": "code",
   "execution_count": 9,
   "metadata": {},
   "outputs": [
    {
     "data": {
      "text/plain": [
       "1     57183\n",
       "13    28264\n",
       "5     22074\n",
       "4     14489\n",
       "15    13306\n",
       "Name: city, dtype: int64"
      ]
     },
     "execution_count": 9,
     "metadata": {},
     "output_type": "execute_result"
    }
   ],
   "source": [
    "tran_blocks['city'].value_counts().sort_values(ascending=False).head()"
   ]
  },
  {
   "cell_type": "code",
   "execution_count": 21,
   "metadata": {},
   "outputs": [
    {
     "data": {
      "text/plain": [
       "1    0.351260\n",
       "3    0.008235\n",
       "4    0.072628\n",
       "5    0.111170\n",
       "6    0.039915\n",
       "Name: city, dtype: float64"
      ]
     },
     "execution_count": 21,
     "metadata": {},
     "output_type": "execute_result"
    },
    {
     "data": {
      "image/png": "[encoded data removed]",
      "text/plain": [
       "<Figure size 432x288 with 1 Axes>"
      ]
     },
     "metadata": {},
     "output_type": "display_data"
    }
   ],
   "source": [
    "city_churn_norm = tran_blocks.query('is_churn == 1')['city'].value_counts() / sum(tran_blocks['is_churn']==1)\n",
    "city_churn_norm.sort_index().plot.bar(color='c')"
   ]
  },
  {
   "cell_type": "code",
   "execution_count": 27,
   "metadata": {},
   "outputs": [
    {
     "data": {
      "text/plain": [
       "<matplotlib.axes._subplots.AxesSubplot at 0x195ffc132e8>"
      ]
     },
     "execution_count": 27,
     "metadata": {},
     "output_type": "execute_result"
    },
    {
     "data": {
      "image/png": "[encoded data removed]",
      "text/plain": [
       "<Figure size 432x288 with 1 Axes>"
      ]
     },
     "metadata": {},
     "output_type": "display_data"
    }
   ],
   "source": [
    "city_return_norm = tran_blocks.query('is_churn == 0')['city'].value_counts() / sum(tran_blocks['is_churn']==0)\n",
    "city_return_norm.sort_index().plot.bar(color='c',ylim=[0, 0.6])"
   ]
  },
  {
   "cell_type": "markdown",
   "metadata": {},
   "source": [
    "## method_modeではグラフの形が全然ちがう"
   ]
  },
  {
   "cell_type": "code",
   "execution_count": 12,
   "metadata": {},
   "outputs": [
    {
     "data": {
      "text/plain": [
       "38    45273\n",
       "35    40137\n",
       "36    17525\n",
       "40    15103\n",
       "39    13274\n",
       "Name: method_mode, dtype: int64"
      ]
     },
     "execution_count": 12,
     "metadata": {},
     "output_type": "execute_result"
    }
   ],
   "source": [
    "tran_blocks['method_mode'].value_counts().sort_values(ascending=False).head()"
   ]
  },
  {
   "cell_type": "code",
   "execution_count": 13,
   "metadata": {},
   "outputs": [
    {
     "data": {
      "text/plain": [
       "<matplotlib.axes._subplots.AxesSubplot at 0x195fedd5a58>"
      ]
     },
     "execution_count": 13,
     "metadata": {},
     "output_type": "execute_result"
    },
    {
     "data": {
      "image/png": "[encoded data removed]",
      "text/plain": [
       "<Figure size 432x288 with 1 Axes>"
      ]
     },
     "metadata": {},
     "output_type": "display_data"
    }
   ],
   "source": [
    "tran_blocks.query('is_churn == 1')['method_mode'].value_counts().sort_index().plot.bar(color='c')"
   ]
  },
  {
   "cell_type": "code",
   "execution_count": 14,
   "metadata": {},
   "outputs": [
    {
     "data": {
      "text/plain": [
       "<matplotlib.axes._subplots.AxesSubplot at 0x195fee3b5f8>"
      ]
     },
     "execution_count": 14,
     "metadata": {},
     "output_type": "execute_result"
    },
    {
     "data": {
      "image/png": "[encoded data removed]",
      "text/plain": [
       "<Figure size 432x288 with 1 Axes>"
      ]
     },
     "metadata": {},
     "output_type": "display_data"
    }
   ],
   "source": [
    "tran_blocks.query('is_churn == 0')['method_mode'].value_counts().sort_index().plot.bar(color='c')"
   ]
  },
  {
   "cell_type": "code",
   "execution_count": 15,
   "metadata": {},
   "outputs": [
    {
     "data": {
      "text/plain": [
       "Index(['is_churn', 'is_cancel', 'cumul_purchase_num', 'cumul_valid_days',\n",
       "       'return_point', 'transaction_freq', 'valid_days', 'price_mean',\n",
       "       'paid_mean', 'plan_days_mean', 'plan_days_mode', 'price_mode',\n",
       "       'method_mode', 'interval_days', 'initial_date', 'last_date', 'msno',\n",
       "       'city', 'bd', 'gender', 'registered_via', 'registration_init_time',\n",
       "       'total_secs_per_day', 'num_unq_per_day', 'on_ratio',\n",
       "       'off_days_before_expire', 'paid_ratio', 'is_registered_via_4',\n",
       "       'is_registered_via_7', 'is_registered_via_9', 'is_registered_via_13',\n",
       "       'is_method_mode_3', 'is_method_mode_5', 'is_method_mode_6',\n",
       "       'is_method_mode_8', 'is_method_mode_10', 'is_method_mode_11',\n",
       "       'is_method_mode_12', 'is_method_mode_13', 'is_method_mode_14',\n",
       "       'is_method_mode_15', 'is_method_mode_16', 'is_method_mode_17',\n",
       "       'is_method_mode_18', 'is_method_mode_19', 'is_method_mode_20',\n",
       "       'is_method_mode_21', 'is_method_mode_22', 'is_method_mode_23',\n",
       "       'is_method_mode_24', 'is_method_mode_25', 'is_method_mode_26',\n",
       "       'is_method_mode_27', 'is_method_mode_28', 'is_method_mode_29',\n",
       "       'is_method_mode_30', 'is_method_mode_31', 'is_method_mode_32',\n",
       "       'is_method_mode_33', 'is_method_mode_34', 'is_method_mode_35',\n",
       "       'is_method_mode_36', 'is_method_mode_37', 'is_method_mode_38',\n",
       "       'is_method_mode_39', 'is_method_mode_40', 'is_method_mode_41'],\n",
       "      dtype='object')"
      ]
     },
     "execution_count": 15,
     "metadata": {},
     "output_type": "execute_result"
    }
   ],
   "source": [
    "#method_mode をダミー変数に置き換える\n",
    "ctgl_registered_via = pd.get_dummies(tran_blocks['method_mode'], drop_first=True, prefix='is_method_mode')\n",
    "tran_blocks = pd.concat([tran_blocks, ctgl_registered_via], axis=1)\n",
    "tran_blocks.columns"
   ]
  },
  {
   "cell_type": "markdown",
   "metadata": {},
   "source": [
    "## 頻度が1000以下のis_method_modeは特徴量から削除（テストと訓練分けるときに０になってしまうかもだから）"
   ]
  },
  {
   "cell_type": "code",
   "execution_count": 16,
   "metadata": {},
   "outputs": [
    {
     "data": {
      "text/plain": [
       "is_method_mode_10          2\n",
       "is_method_mode_11          6\n",
       "is_method_mode_3          14\n",
       "is_method_mode_18         22\n",
       "is_method_mode_24         30\n",
       "is_method_mode_5          37\n",
       "is_method_mode_6          42\n",
       "is_method_mode_8          46\n",
       "is_method_mode_26         56\n",
       "is_method_mode_14        100\n",
       "is_method_mode_15        137\n",
       "is_method_mode_21        159\n",
       "is_method_mode_25        195\n",
       "is_method_mode_16        221\n",
       "is_method_mode_19        231\n",
       "is_method_mode_23        232\n",
       "is_method_mode_17        236\n",
       "is_method_mode_12        358\n",
       "is_method_mode_27        489\n",
       "is_registered_via_13     490\n",
       "is_method_mode_13        645\n",
       "is_method_mode_31       1931\n",
       "is_method_mode_22       1984\n",
       "is_method_mode_30       1987\n",
       "is_method_mode_20       1989\n",
       "dtype: int64"
      ]
     },
     "execution_count": 16,
     "metadata": {},
     "output_type": "execute_result"
    }
   ],
   "source": [
    "tran_blocks.iloc[:,29:].sum(axis=0).sort_values().head(25)"
   ]
  },
  {
   "cell_type": "code",
   "execution_count": null,
   "metadata": {},
   "outputs": [],
   "source": []
  },
  {
   "cell_type": "code",
   "execution_count": null,
   "metadata": {},
   "outputs": [],
   "source": []
  }
 ],
 "metadata": {
  "kernelspec": {
   "display_name": "Python 3",
   "language": "python",
   "name": "python3"
  },
  "language_info": {
   "codemirror_mode": {
    "name": "ipython",
    "version": 3
   },
   "file_extension": ".py",
   "mimetype": "text/x-python",
   "name": "python",
   "nbconvert_exporter": "python",
   "pygments_lexer": "ipython3",
   "version": "3.6.5"
  }
 },
 "nbformat": 4,
 "nbformat_minor": 2
}
