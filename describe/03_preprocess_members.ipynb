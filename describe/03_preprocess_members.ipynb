{
 "cells": [
  {
   "cell_type": "markdown",
   "metadata": {},
   "source": [
    "# membersデータ\n",
    "- 前処理・可視化"
   ]
  },
  {
   "cell_type": "code",
   "execution_count": 1,
   "metadata": {
    "collapsed": true,
    "scrolled": false
   },
   "outputs": [],
   "source": [
    "import os\n",
    "\n",
    "import numpy as np\n",
    "import pandas as pd\n",
    "import seaborn as sns\n",
    "import matplotlib as mpl\n",
    "import matplotlib.pyplot as plt\n",
    "\n",
    "comma_formatter = mpl.ticker.FuncFormatter(lambda x, _: u'{:,.0f}'.format(x))\n",
    "sns.set(style='darkgrid', context='talk')\n",
    "mpl.rcParams['font.family'] = 'Meiryo'\n",
    "% matplotlib inline"
   ]
  },
  {
   "cell_type": "code",
   "execution_count": 2,
   "metadata": {
    "collapsed": true
   },
   "outputs": [],
   "source": [
    "data_dir = '../../data'\n",
    "fig_dir = '../figure'\n",
    "output_dir = '../output'"
   ]
  },
  {
   "cell_type": "code",
   "execution_count": null,
   "metadata": {
    "collapsed": true
   },
   "outputs": [],
   "source": []
  },
  {
   "cell_type": "code",
   "execution_count": null,
   "metadata": {
    "collapsed": true
   },
   "outputs": [],
   "source": []
  },
  {
   "cell_type": "markdown",
   "metadata": {},
   "source": [
    "# データ読み込み"
   ]
  },
  {
   "cell_type": "code",
   "execution_count": 3,
   "metadata": {
    "collapsed": true,
    "scrolled": false
   },
   "outputs": [],
   "source": [
    "fname = os.path.join(data_dir, 'members.csv.gz')\n",
    "df_members_raw = pd.read_csv(fname, \n",
    "                             dtype={'city': np.object_, 'registered_via': np.object_}, \n",
    "                             parse_dates=['registration_init_time'])"
   ]
  },
  {
   "cell_type": "code",
   "execution_count": 4,
   "metadata": {},
   "outputs": [
    {
     "name": "stdout",
     "output_type": "stream",
     "text": [
      "count: 959,713\n"
     ]
    }
   ],
   "source": [
    "print('count: {:,}'.format(len(df_members_raw)))"
   ]
  },
  {
   "cell_type": "code",
   "execution_count": 5,
   "metadata": {},
   "outputs": [
    {
     "name": "stdout",
     "output_type": "stream",
     "text": [
      "<class 'pandas.core.frame.DataFrame'>\n",
      "RangeIndex: 959713 entries, 0 to 959712\n",
      "Data columns (total 6 columns):\n",
      "msno                      959713 non-null object\n",
      "city                      959713 non-null object\n",
      "bd                        959713 non-null int64\n",
      "gender                    330195 non-null object\n",
      "registered_via            959713 non-null object\n",
      "registration_init_time    959713 non-null datetime64[ns]\n",
      "dtypes: datetime64[ns](1), int64(1), object(4)\n",
      "memory usage: 43.9+ MB\n"
     ]
    }
   ],
   "source": [
    "# 概要\n",
    "df_members_raw.info()"
   ]
  },
  {
   "cell_type": "code",
   "execution_count": 6,
   "metadata": {},
   "outputs": [
    {
     "data": {
      "text/html": [
       "<div>\n",
       "<style>\n",
       "    .dataframe thead tr:only-child th {\n",
       "        text-align: right;\n",
       "    }\n",
       "\n",
       "    .dataframe thead th {\n",
       "        text-align: left;\n",
       "    }\n",
       "\n",
       "    .dataframe tbody tr th {\n",
       "        vertical-align: top;\n",
       "    }\n",
       "</style>\n",
       "<table border=\"1\" class=\"dataframe\">\n",
       "  <thead>\n",
       "    <tr style=\"text-align: right;\">\n",
       "      <th></th>\n",
       "      <th>msno</th>\n",
       "      <th>city</th>\n",
       "      <th>bd</th>\n",
       "      <th>gender</th>\n",
       "      <th>registered_via</th>\n",
       "      <th>registration_init_time</th>\n",
       "    </tr>\n",
       "  </thead>\n",
       "  <tbody>\n",
       "    <tr>\n",
       "      <th>0</th>\n",
       "      <td>++/cenboWx88n4PDN/1PBC8t9/qy/RPvozJdlRiL5a0=</td>\n",
       "      <td>1</td>\n",
       "      <td>0</td>\n",
       "      <td>NaN</td>\n",
       "      <td>9</td>\n",
       "      <td>2015-06-12</td>\n",
       "    </tr>\n",
       "    <tr>\n",
       "      <th>1</th>\n",
       "      <td>+++rMjxjARDHEx9zEFOpvJEDBDhT1ncn0PEnCx3llA0=</td>\n",
       "      <td>6</td>\n",
       "      <td>22</td>\n",
       "      <td>female</td>\n",
       "      <td>3</td>\n",
       "      <td>2012-08-02</td>\n",
       "    </tr>\n",
       "    <tr>\n",
       "      <th>2</th>\n",
       "      <td>++0t0Uy2D3r1pRVxg28G3r3l5PfhFlCPMGElwHqbYL8=</td>\n",
       "      <td>1</td>\n",
       "      <td>51</td>\n",
       "      <td>male</td>\n",
       "      <td>3</td>\n",
       "      <td>2014-09-24</td>\n",
       "    </tr>\n",
       "    <tr>\n",
       "      <th>3</th>\n",
       "      <td>++/ORWBI93a/9vljzuLj77ZwsyS4Qx2K/M0qjLXrxE4=</td>\n",
       "      <td>5</td>\n",
       "      <td>35</td>\n",
       "      <td>male</td>\n",
       "      <td>9</td>\n",
       "      <td>2012-04-02</td>\n",
       "    </tr>\n",
       "    <tr>\n",
       "      <th>4</th>\n",
       "      <td>++2bxOj+9oNH2mAemW+GwWGdzyiGPGbV/Mh210wYAZ4=</td>\n",
       "      <td>1</td>\n",
       "      <td>28</td>\n",
       "      <td>male</td>\n",
       "      <td>3</td>\n",
       "      <td>2015-08-24</td>\n",
       "    </tr>\n",
       "  </tbody>\n",
       "</table>\n",
       "</div>"
      ],
      "text/plain": [
       "                                           msno city  bd  gender  \\\n",
       "0  ++/cenboWx88n4PDN/1PBC8t9/qy/RPvozJdlRiL5a0=    1   0     NaN   \n",
       "1  +++rMjxjARDHEx9zEFOpvJEDBDhT1ncn0PEnCx3llA0=    6  22  female   \n",
       "2  ++0t0Uy2D3r1pRVxg28G3r3l5PfhFlCPMGElwHqbYL8=    1  51    male   \n",
       "3  ++/ORWBI93a/9vljzuLj77ZwsyS4Qx2K/M0qjLXrxE4=    5  35    male   \n",
       "4  ++2bxOj+9oNH2mAemW+GwWGdzyiGPGbV/Mh210wYAZ4=    1  28    male   \n",
       "\n",
       "  registered_via registration_init_time  \n",
       "0              9             2015-06-12  \n",
       "1              3             2012-08-02  \n",
       "2              3             2014-09-24  \n",
       "3              9             2012-04-02  \n",
       "4              3             2015-08-24  "
      ]
     },
     "execution_count": 6,
     "metadata": {},
     "output_type": "execute_result"
    }
   ],
   "source": [
    "# 先頭\n",
    "df_members_raw.head()"
   ]
  },
  {
   "cell_type": "code",
   "execution_count": null,
   "metadata": {
    "collapsed": true
   },
   "outputs": [],
   "source": []
  },
  {
   "cell_type": "code",
   "execution_count": null,
   "metadata": {
    "collapsed": true
   },
   "outputs": [],
   "source": []
  },
  {
   "cell_type": "markdown",
   "metadata": {},
   "source": [
    "## 統計量"
   ]
  },
  {
   "cell_type": "code",
   "execution_count": 7,
   "metadata": {
    "scrolled": true
   },
   "outputs": [
    {
     "data": {
      "text/html": [
       "<div>\n",
       "<style>\n",
       "    .dataframe thead tr:only-child th {\n",
       "        text-align: right;\n",
       "    }\n",
       "\n",
       "    .dataframe thead th {\n",
       "        text-align: left;\n",
       "    }\n",
       "\n",
       "    .dataframe tbody tr th {\n",
       "        vertical-align: top;\n",
       "    }\n",
       "</style>\n",
       "<table border=\"1\" class=\"dataframe\">\n",
       "  <thead>\n",
       "    <tr style=\"text-align: right;\">\n",
       "      <th></th>\n",
       "      <th>msno</th>\n",
       "      <th>city</th>\n",
       "      <th>bd</th>\n",
       "      <th>gender</th>\n",
       "      <th>registered_via</th>\n",
       "      <th>registration_init_time</th>\n",
       "    </tr>\n",
       "  </thead>\n",
       "  <tbody>\n",
       "    <tr>\n",
       "      <th>count</th>\n",
       "      <td>959713</td>\n",
       "      <td>959713</td>\n",
       "      <td>959713.000000</td>\n",
       "      <td>330195</td>\n",
       "      <td>959713</td>\n",
       "      <td>959713</td>\n",
       "    </tr>\n",
       "    <tr>\n",
       "      <th>unique</th>\n",
       "      <td>959713</td>\n",
       "      <td>21</td>\n",
       "      <td>NaN</td>\n",
       "      <td>2</td>\n",
       "      <td>7</td>\n",
       "      <td>4734</td>\n",
       "    </tr>\n",
       "    <tr>\n",
       "      <th>top</th>\n",
       "      <td>dCkbs8z74Q5M6LgNmZBwsMYyirdj5jn8vAIBUnHJ9+8=</td>\n",
       "      <td>1</td>\n",
       "      <td>NaN</td>\n",
       "      <td>male</td>\n",
       "      <td>4</td>\n",
       "      <td>2015-10-09 00:00:00</td>\n",
       "    </tr>\n",
       "    <tr>\n",
       "      <th>freq</th>\n",
       "      <td>1</td>\n",
       "      <td>664735</td>\n",
       "      <td>NaN</td>\n",
       "      <td>169214</td>\n",
       "      <td>440796</td>\n",
       "      <td>2169</td>\n",
       "    </tr>\n",
       "    <tr>\n",
       "      <th>first</th>\n",
       "      <td>NaN</td>\n",
       "      <td>NaN</td>\n",
       "      <td>NaN</td>\n",
       "      <td>NaN</td>\n",
       "      <td>NaN</td>\n",
       "      <td>2004-03-26 00:00:00</td>\n",
       "    </tr>\n",
       "    <tr>\n",
       "      <th>last</th>\n",
       "      <td>NaN</td>\n",
       "      <td>NaN</td>\n",
       "      <td>NaN</td>\n",
       "      <td>NaN</td>\n",
       "      <td>NaN</td>\n",
       "      <td>2017-05-19 00:00:00</td>\n",
       "    </tr>\n",
       "    <tr>\n",
       "      <th>mean</th>\n",
       "      <td>NaN</td>\n",
       "      <td>NaN</td>\n",
       "      <td>9.764185</td>\n",
       "      <td>NaN</td>\n",
       "      <td>NaN</td>\n",
       "      <td>NaN</td>\n",
       "    </tr>\n",
       "    <tr>\n",
       "      <th>std</th>\n",
       "      <td>NaN</td>\n",
       "      <td>NaN</td>\n",
       "      <td>16.740003</td>\n",
       "      <td>NaN</td>\n",
       "      <td>NaN</td>\n",
       "      <td>NaN</td>\n",
       "    </tr>\n",
       "    <tr>\n",
       "      <th>min</th>\n",
       "      <td>NaN</td>\n",
       "      <td>NaN</td>\n",
       "      <td>-951.000000</td>\n",
       "      <td>NaN</td>\n",
       "      <td>NaN</td>\n",
       "      <td>NaN</td>\n",
       "    </tr>\n",
       "    <tr>\n",
       "      <th>25%</th>\n",
       "      <td>NaN</td>\n",
       "      <td>NaN</td>\n",
       "      <td>0.000000</td>\n",
       "      <td>NaN</td>\n",
       "      <td>NaN</td>\n",
       "      <td>NaN</td>\n",
       "    </tr>\n",
       "    <tr>\n",
       "      <th>50%</th>\n",
       "      <td>NaN</td>\n",
       "      <td>NaN</td>\n",
       "      <td>0.000000</td>\n",
       "      <td>NaN</td>\n",
       "      <td>NaN</td>\n",
       "      <td>NaN</td>\n",
       "    </tr>\n",
       "    <tr>\n",
       "      <th>75%</th>\n",
       "      <td>NaN</td>\n",
       "      <td>NaN</td>\n",
       "      <td>21.000000</td>\n",
       "      <td>NaN</td>\n",
       "      <td>NaN</td>\n",
       "      <td>NaN</td>\n",
       "    </tr>\n",
       "    <tr>\n",
       "      <th>max</th>\n",
       "      <td>NaN</td>\n",
       "      <td>NaN</td>\n",
       "      <td>2009.000000</td>\n",
       "      <td>NaN</td>\n",
       "      <td>NaN</td>\n",
       "      <td>NaN</td>\n",
       "    </tr>\n",
       "  </tbody>\n",
       "</table>\n",
       "</div>"
      ],
      "text/plain": [
       "                                                msno    city             bd  \\\n",
       "count                                         959713  959713  959713.000000   \n",
       "unique                                        959713      21            NaN   \n",
       "top     dCkbs8z74Q5M6LgNmZBwsMYyirdj5jn8vAIBUnHJ9+8=       1            NaN   \n",
       "freq                                               1  664735            NaN   \n",
       "first                                            NaN     NaN            NaN   \n",
       "last                                             NaN     NaN            NaN   \n",
       "mean                                             NaN     NaN       9.764185   \n",
       "std                                              NaN     NaN      16.740003   \n",
       "min                                              NaN     NaN    -951.000000   \n",
       "25%                                              NaN     NaN       0.000000   \n",
       "50%                                              NaN     NaN       0.000000   \n",
       "75%                                              NaN     NaN      21.000000   \n",
       "max                                              NaN     NaN    2009.000000   \n",
       "\n",
       "        gender registered_via registration_init_time  \n",
       "count   330195         959713                 959713  \n",
       "unique       2              7                   4734  \n",
       "top       male              4    2015-10-09 00:00:00  \n",
       "freq    169214         440796                   2169  \n",
       "first      NaN            NaN    2004-03-26 00:00:00  \n",
       "last       NaN            NaN    2017-05-19 00:00:00  \n",
       "mean       NaN            NaN                    NaN  \n",
       "std        NaN            NaN                    NaN  \n",
       "min        NaN            NaN                    NaN  \n",
       "25%        NaN            NaN                    NaN  \n",
       "50%        NaN            NaN                    NaN  \n",
       "75%        NaN            NaN                    NaN  \n",
       "max        NaN            NaN                    NaN  "
      ]
     },
     "execution_count": 7,
     "metadata": {},
     "output_type": "execute_result"
    }
   ],
   "source": [
    "# 統計量\n",
    "desc_raw = df_members_raw.describe(include='all')\n",
    "desc_raw"
   ]
  },
  {
   "cell_type": "code",
   "execution_count": 8,
   "metadata": {},
   "outputs": [
    {
     "data": {
      "text/plain": [
       "msno                      False\n",
       "city                      False\n",
       "bd                        False\n",
       "gender                     True\n",
       "registered_via            False\n",
       "registration_init_time    False\n",
       "dtype: bool"
      ]
     },
     "execution_count": 8,
     "metadata": {},
     "output_type": "execute_result"
    }
   ],
   "source": [
    "# 欠損値\n",
    "df_members_raw.isnull().any()"
   ]
  },
  {
   "cell_type": "markdown",
   "metadata": {},
   "source": [
    "- bdがマイナスなのはおかしい（最大値も大きすぎ）\n",
    "- genderは欠損値あり"
   ]
  },
  {
   "cell_type": "code",
   "execution_count": 9,
   "metadata": {
    "collapsed": true
   },
   "outputs": [],
   "source": [
    "# 一意なmsnoであることを確認\n",
    "assert df_members_raw.msno.nunique() == len(df_members_raw)"
   ]
  },
  {
   "cell_type": "code",
   "execution_count": null,
   "metadata": {
    "collapsed": true
   },
   "outputs": [],
   "source": []
  },
  {
   "cell_type": "code",
   "execution_count": null,
   "metadata": {
    "collapsed": true
   },
   "outputs": [],
   "source": []
  },
  {
   "cell_type": "markdown",
   "metadata": {},
   "source": [
    "# 集計・可視化"
   ]
  },
  {
   "cell_type": "markdown",
   "metadata": {},
   "source": [
    "## city"
   ]
  },
  {
   "cell_type": "code",
   "execution_count": 10,
   "metadata": {},
   "outputs": [
    {
     "data": {
      "text/plain": [
       "1     0.692639\n",
       "5     0.060389\n",
       "13    0.052088\n",
       "4     0.038229\n",
       "22    0.032776\n",
       "15    0.029728\n",
       "6     0.020864\n",
       "14    0.014092\n",
       "12    0.010135\n",
       "9     0.007651\n",
       "11    0.007341\n",
       "8     0.006896\n",
       "18    0.005839\n",
       "10    0.005073\n",
       "21    0.004671\n",
       "3     0.004234\n",
       "17    0.004162\n",
       "7     0.001650\n",
       "16    0.000760\n",
       "20    0.000631\n",
       "19    0.000151\n",
       "Name: city, dtype: float64"
      ]
     },
     "execution_count": 10,
     "metadata": {},
     "output_type": "execute_result"
    }
   ],
   "source": [
    "# 分布\n",
    "city_dist = df_members_raw.city.value_counts(normalize=1)\n",
    "city_dist"
   ]
  },
  {
   "cell_type": "code",
   "execution_count": 11,
   "metadata": {},
   "outputs": [
    {
     "data": {
      "image/png": "[encoded data removed]",
      "text/plain": [
       "<matplotlib.figure.Figure at 0x1198f0cc0>"
      ]
     },
     "metadata": {},
     "output_type": "display_data"
    }
   ],
   "source": [
    "# 可視化\n",
    "city_dist.sort_index().plot.bar()\n",
    "plt.title('city')\n",
    "plt.ylabel('Proportion')\n",
    "plt.tight_layout()\n",
    "plt.savefig(os.path.join(fig_dir, 'barplot_city.png'), dpi=200)\n",
    "# - `city=1` が7割を占める\n",
    "# - `city=2` は欠損"
   ]
  },
  {
   "cell_type": "code",
   "execution_count": null,
   "metadata": {
    "collapsed": true
   },
   "outputs": [],
   "source": []
  },
  {
   "cell_type": "code",
   "execution_count": null,
   "metadata": {
    "collapsed": true
   },
   "outputs": [],
   "source": []
  },
  {
   "cell_type": "markdown",
   "metadata": {},
   "source": [
    "## bd"
   ]
  },
  {
   "cell_type": "code",
   "execution_count": 12,
   "metadata": {},
   "outputs": [
    {
     "data": {
      "text/plain": [
       "0     0.669120\n",
       "20    0.016725\n",
       "21    0.016541\n",
       "22    0.016448\n",
       "23    0.015018\n",
       "Name: bd, dtype: float64"
      ]
     },
     "execution_count": 12,
     "metadata": {},
     "output_type": "execute_result"
    }
   ],
   "source": [
    "# 分布\n",
    "df_members_raw.bd.value_counts(normalize=1).head() # 一部データ\n",
    "\n",
    "# - `bd=0` が約7割を占める"
   ]
  },
  {
   "cell_type": "code",
   "execution_count": 13,
   "metadata": {},
   "outputs": [
    {
     "data": {
      "image/png": "[encoded data removed]",
      "text/plain": [
       "<matplotlib.figure.Figure at 0x11e7035f8>"
      ]
     },
     "metadata": {},
     "output_type": "display_data"
    }
   ],
   "source": [
    "# ヒストグラム\n",
    "ax = df_members_raw.bd.hist(bins=200)\n",
    "ax.set_title('bd')\n",
    "ax.set_ylabel('Frequency')\n",
    "ax.set_yticks\n",
    "ax.yaxis.set_major_formatter(comma_formatter)\n",
    "plt.tight_layout()\n",
    "plt.savefig(os.path.join(fig_dir, 'hist_bd.png'), dpi=200)\n",
    "# - 負も含むデータ"
   ]
  },
  {
   "cell_type": "code",
   "execution_count": 14,
   "metadata": {},
   "outputs": [
    {
     "data": {
      "image/png": "[encoded data removed]",
      "text/plain": [
       "<matplotlib.figure.Figure at 0x109ba5320>"
      ]
     },
     "metadata": {},
     "output_type": "display_data"
    }
   ],
   "source": [
    "# bd（0以上に絞る）\n",
    "ax = df_members_raw[df_members_raw.bd >= 0].bd.hist(bins=100, range=(0, 100))\n",
    "ax.set_title('bd')\n",
    "ax.set_ylabel('Frequency')\n",
    "ax.yaxis.set_major_formatter(comma_formatter)\n",
    "plt.tight_layout()\n",
    "plt.savefig(os.path.join(fig_dir, 'hist_bd_over0.png'), dpi=200)\n",
    "plt.show()"
   ]
  },
  {
   "cell_type": "markdown",
   "metadata": {},
   "source": [
    " - 0歳の人がやたら多い"
   ]
  },
  {
   "cell_type": "code",
   "execution_count": 15,
   "metadata": {},
   "outputs": [
    {
     "data": {
      "text/plain": [
       "False"
      ]
     },
     "execution_count": 15,
     "metadata": {},
     "output_type": "execute_result"
    }
   ],
   "source": [
    "# 欠損値の有無\n",
    "df_members_raw.bd.isnull().any()"
   ]
  },
  {
   "cell_type": "markdown",
   "metadata": {},
   "source": [
    "- 記入なしの人が0歳になっていると考えられそう\n",
    "    - => 欠損値として処理する"
   ]
  },
  {
   "cell_type": "code",
   "execution_count": null,
   "metadata": {
    "collapsed": true
   },
   "outputs": [],
   "source": []
  },
  {
   "cell_type": "code",
   "execution_count": null,
   "metadata": {
    "collapsed": true
   },
   "outputs": [],
   "source": []
  },
  {
   "cell_type": "markdown",
   "metadata": {},
   "source": [
    "## gender"
   ]
  },
  {
   "cell_type": "code",
   "execution_count": 16,
   "metadata": {},
   "outputs": [
    {
     "data": {
      "text/plain": [
       "NaN       0.655944\n",
       "male      0.176317\n",
       "female    0.167739\n",
       "Name: gender, dtype: float64"
      ]
     },
     "execution_count": 16,
     "metadata": {},
     "output_type": "execute_result"
    }
   ],
   "source": [
    "gender_dist = df_members_raw.gender.value_counts(dropna=0, normalize=1)\n",
    "gender_dist\n",
    "# - 欠損が65%\n",
    "# - 男女比は半々"
   ]
  },
  {
   "cell_type": "code",
   "execution_count": 17,
   "metadata": {},
   "outputs": [
    {
     "data": {
      "image/png": "[encoded data removed]",
      "text/plain": [
       "<matplotlib.figure.Figure at 0x114e37550>"
      ]
     },
     "metadata": {},
     "output_type": "display_data"
    }
   ],
   "source": [
    "gender_dist.plot.bar()\n",
    "plt.title('gender')\n",
    "plt.ylabel('Proportion')\n",
    "plt.tight_layout()\n",
    "plt.savefig(os.path.join(fig_dir, 'barplot_gender.png'), dpi=200)\n",
    "# - 男性が18%、女性が17%\n",
    "# - 欠損が65&"
   ]
  },
  {
   "cell_type": "code",
   "execution_count": null,
   "metadata": {
    "collapsed": true
   },
   "outputs": [],
   "source": []
  },
  {
   "cell_type": "code",
   "execution_count": null,
   "metadata": {
    "collapsed": true
   },
   "outputs": [],
   "source": []
  },
  {
   "cell_type": "markdown",
   "metadata": {},
   "source": [
    "## registered_via"
   ]
  },
  {
   "cell_type": "code",
   "execution_count": 18,
   "metadata": {},
   "outputs": [
    {
     "data": {
      "text/plain": [
       "4     0.459300\n",
       "9     0.207773\n",
       "3     0.198721\n",
       "7     0.133320\n",
       "13    0.000845\n",
       "16    0.000040\n",
       "10    0.000002\n",
       "Name: registered_via, dtype: float64"
      ]
     },
     "execution_count": 18,
     "metadata": {},
     "output_type": "execute_result"
    }
   ],
   "source": [
    "registered_via_dist = df_members_raw.registered_via.value_counts(normalize=1)\n",
    "registered_via_dist"
   ]
  },
  {
   "cell_type": "code",
   "execution_count": 19,
   "metadata": {},
   "outputs": [
    {
     "data": {
      "image/png": "[encoded data removed]",
      "text/plain": [
       "<matplotlib.figure.Figure at 0x113e81f60>"
      ]
     },
     "metadata": {},
     "output_type": "display_data"
    }
   ],
   "source": [
    "registered_via_dist.plot.bar()\n",
    "plt.title('registered via')\n",
    "plt.ylabel('Frequency (rate)')\n",
    "plt.tight_layout()\n",
    "plt.savefig(os.path.join(fig_dir, 'barplot_registered_via.png'), dpi=200)\n",
    "# - `registered_via=4` が45%程度\n",
    "# - `registered_via in (4, 9, 3, 7)` で99%以上を占める\n",
    "# - （コードの意味する内容は不明）"
   ]
  },
  {
   "cell_type": "code",
   "execution_count": null,
   "metadata": {
    "collapsed": true
   },
   "outputs": [],
   "source": []
  },
  {
   "cell_type": "code",
   "execution_count": null,
   "metadata": {
    "collapsed": true
   },
   "outputs": [],
   "source": []
  },
  {
   "cell_type": "markdown",
   "metadata": {},
   "source": [
    "## registration_init_time"
   ]
  },
  {
   "cell_type": "code",
   "execution_count": 20,
   "metadata": {},
   "outputs": [
    {
     "data": {
      "text/plain": [
       "(Timestamp('2004-03-26 00:00:00'), Timestamp('2017-05-19 00:00:00'))"
      ]
     },
     "execution_count": 20,
     "metadata": {},
     "output_type": "execute_result"
    }
   ],
   "source": [
    "# regisration min/max\n",
    "df_members_raw.registration_init_time.min(), df_members_raw.registration_init_time.max()\n",
    "# - 古くからデータあり"
   ]
  },
  {
   "cell_type": "code",
   "execution_count": 21,
   "metadata": {},
   "outputs": [
    {
     "data": {
      "image/png": "[encoded data removed]",
      "text/plain": [
       "<matplotlib.figure.Figure at 0x118662f98>"
      ]
     },
     "metadata": {},
     "output_type": "display_data"
    }
   ],
   "source": [
    "# 登録時期の推移\n",
    "df_members_raw.registration_init_time.value_counts().plot(figsize=(20, 4))\n",
    "plt.title('registration_init_time')\n",
    "plt.ylabel('Frequency')\n",
    "plt.tight_layout()\n",
    "plt.savefig(os.path.join(fig_dir, 'line_registration_init_time.png'), dpi=200)"
   ]
  },
  {
   "cell_type": "code",
   "execution_count": null,
   "metadata": {
    "collapsed": true
   },
   "outputs": [],
   "source": []
  },
  {
   "cell_type": "code",
   "execution_count": null,
   "metadata": {
    "collapsed": true
   },
   "outputs": [],
   "source": []
  },
  {
   "cell_type": "markdown",
   "metadata": {},
   "source": [
    "# 前処理\n",
    "- 方針：\n",
    "    - `bd <= 0` は欠損値扱いとする\n",
    "    - `bd > 0` について、分位点を規準に欠損値扱いとする"
   ]
  },
  {
   "cell_type": "code",
   "execution_count": 22,
   "metadata": {
    "collapsed": true
   },
   "outputs": [],
   "source": [
    "# 前処理用データ作成\n",
    "df_members = df_members_raw.copy()"
   ]
  },
  {
   "cell_type": "code",
   "execution_count": 23,
   "metadata": {
    "collapsed": true,
    "scrolled": true
   },
   "outputs": [],
   "source": [
    "# bd <= 0の場合はnullで埋める\n",
    "df_members.loc[df_members.bd <= 0, 'bd'] = np.nan"
   ]
  },
  {
   "cell_type": "code",
   "execution_count": 24,
   "metadata": {},
   "outputs": [
    {
     "data": {
      "image/png": "[encoded data removed]",
      "text/plain": [
       "<matplotlib.figure.Figure at 0x117032080>"
      ]
     },
     "metadata": {},
     "output_type": "display_data"
    }
   ],
   "source": [
    "# 改めてヒストグラム（0~100の範囲に絞る）\n",
    "ax = df_members.bd.hist(bins=100, range=(0, 100), figsize=(10, 6))\n",
    "ax.set_title('bd')\n",
    "ax.set_ylabel('Frequency')\n",
    "ax.yaxis.set_major_formatter(comma_formatter)\n",
    "plt.tight_layout()\n",
    "plt.savefig(os.path.join(fig_dir, 'hist_bd_cleaned.png'), dpi=200)"
   ]
  },
  {
   "cell_type": "code",
   "execution_count": 25,
   "metadata": {
    "collapsed": true
   },
   "outputs": [],
   "source": [
    "# 分位点\n",
    "qr_01 = df_members.bd.quantile(0.01)\n",
    "qr_10 = df_members.bd.quantile(0.1)\n",
    "qr_90 = df_members.bd.quantile(0.9)\n",
    "qr_99 = df_members.bd.quantile(0.99)\n",
    "\n",
    "qr_001 = df_members.bd.quantile(0.001)\n",
    "qr_002 = df_members.bd.quantile(0.002)\n",
    "qr_003 = df_members.bd.quantile(0.003)\n",
    "qr_997 = df_members.bd.quantile(0.997)\n",
    "qr_998 = df_members.bd.quantile(0.998)\n",
    "qr_999 = df_members.bd.quantile(0.999)"
   ]
  },
  {
   "cell_type": "code",
   "execution_count": 26,
   "metadata": {},
   "outputs": [
    {
     "data": {
      "text/plain": [
       "(15.0, 18.0, 44.0, 63.0)"
      ]
     },
     "execution_count": 26,
     "metadata": {},
     "output_type": "execute_result"
    }
   ],
   "source": [
    "qr_01, qr_10, qr_90, qr_99"
   ]
  },
  {
   "cell_type": "code",
   "execution_count": 27,
   "metadata": {
    "scrolled": true
   },
   "outputs": [
    {
     "data": {
      "text/plain": [
       "(14.0, 14.0, 14.0, 92.0, 102.0, 111.0)"
      ]
     },
     "execution_count": 27,
     "metadata": {},
     "output_type": "execute_result"
    }
   ],
   "source": [
    "qr_001, qr_002, qr_003, qr_997, qr_998, qr_999"
   ]
  },
  {
   "cell_type": "code",
   "execution_count": null,
   "metadata": {
    "collapsed": true
   },
   "outputs": [],
   "source": []
  },
  {
   "cell_type": "markdown",
   "metadata": {},
   "source": [
    "- 分位点以下・以上をnanで埋める"
   ]
  },
  {
   "cell_type": "code",
   "execution_count": 28,
   "metadata": {
    "collapsed": true
   },
   "outputs": [],
   "source": [
    "# bd上位・下位0.2%をnull埋め\n",
    "index = (df_members.bd > qr_997) | (df_members.bd < qr_003)\n",
    "df_members.loc[index, 'bd'] = np.nan"
   ]
  },
  {
   "cell_type": "code",
   "execution_count": 29,
   "metadata": {},
   "outputs": [
    {
     "data": {
      "text/html": [
       "<div>\n",
       "<style>\n",
       "    .dataframe thead tr:only-child th {\n",
       "        text-align: right;\n",
       "    }\n",
       "\n",
       "    .dataframe thead th {\n",
       "        text-align: left;\n",
       "    }\n",
       "\n",
       "    .dataframe tbody tr th {\n",
       "        vertical-align: top;\n",
       "    }\n",
       "</style>\n",
       "<table border=\"1\" class=\"dataframe\">\n",
       "  <thead>\n",
       "    <tr style=\"text-align: right;\">\n",
       "      <th></th>\n",
       "      <th>msno</th>\n",
       "      <th>city</th>\n",
       "      <th>bd</th>\n",
       "      <th>gender</th>\n",
       "      <th>registered_via</th>\n",
       "      <th>registration_init_time</th>\n",
       "    </tr>\n",
       "  </thead>\n",
       "  <tbody>\n",
       "    <tr>\n",
       "      <th>0</th>\n",
       "      <td>++/cenboWx88n4PDN/1PBC8t9/qy/RPvozJdlRiL5a0=</td>\n",
       "      <td>1</td>\n",
       "      <td>NaN</td>\n",
       "      <td>NaN</td>\n",
       "      <td>9</td>\n",
       "      <td>2015-06-12</td>\n",
       "    </tr>\n",
       "    <tr>\n",
       "      <th>1</th>\n",
       "      <td>+++rMjxjARDHEx9zEFOpvJEDBDhT1ncn0PEnCx3llA0=</td>\n",
       "      <td>6</td>\n",
       "      <td>22.0</td>\n",
       "      <td>female</td>\n",
       "      <td>3</td>\n",
       "      <td>2012-08-02</td>\n",
       "    </tr>\n",
       "    <tr>\n",
       "      <th>2</th>\n",
       "      <td>++0t0Uy2D3r1pRVxg28G3r3l5PfhFlCPMGElwHqbYL8=</td>\n",
       "      <td>1</td>\n",
       "      <td>51.0</td>\n",
       "      <td>male</td>\n",
       "      <td>3</td>\n",
       "      <td>2014-09-24</td>\n",
       "    </tr>\n",
       "    <tr>\n",
       "      <th>3</th>\n",
       "      <td>++/ORWBI93a/9vljzuLj77ZwsyS4Qx2K/M0qjLXrxE4=</td>\n",
       "      <td>5</td>\n",
       "      <td>35.0</td>\n",
       "      <td>male</td>\n",
       "      <td>9</td>\n",
       "      <td>2012-04-02</td>\n",
       "    </tr>\n",
       "    <tr>\n",
       "      <th>4</th>\n",
       "      <td>++2bxOj+9oNH2mAemW+GwWGdzyiGPGbV/Mh210wYAZ4=</td>\n",
       "      <td>1</td>\n",
       "      <td>28.0</td>\n",
       "      <td>male</td>\n",
       "      <td>3</td>\n",
       "      <td>2015-08-24</td>\n",
       "    </tr>\n",
       "  </tbody>\n",
       "</table>\n",
       "</div>"
      ],
      "text/plain": [
       "                                           msno city    bd  gender  \\\n",
       "0  ++/cenboWx88n4PDN/1PBC8t9/qy/RPvozJdlRiL5a0=    1   NaN     NaN   \n",
       "1  +++rMjxjARDHEx9zEFOpvJEDBDhT1ncn0PEnCx3llA0=    6  22.0  female   \n",
       "2  ++0t0Uy2D3r1pRVxg28G3r3l5PfhFlCPMGElwHqbYL8=    1  51.0    male   \n",
       "3  ++/ORWBI93a/9vljzuLj77ZwsyS4Qx2K/M0qjLXrxE4=    5  35.0    male   \n",
       "4  ++2bxOj+9oNH2mAemW+GwWGdzyiGPGbV/Mh210wYAZ4=    1  28.0    male   \n",
       "\n",
       "  registered_via registration_init_time  \n",
       "0              9             2015-06-12  \n",
       "1              3             2012-08-02  \n",
       "2              3             2014-09-24  \n",
       "3              9             2012-04-02  \n",
       "4              3             2015-08-24  "
      ]
     },
     "execution_count": 29,
     "metadata": {},
     "output_type": "execute_result"
    }
   ],
   "source": [
    "df_members.head()"
   ]
  },
  {
   "cell_type": "code",
   "execution_count": 30,
   "metadata": {
    "scrolled": true
   },
   "outputs": [
    {
     "data": {
      "text/html": [
       "<div>\n",
       "<style>\n",
       "    .dataframe thead tr:only-child th {\n",
       "        text-align: right;\n",
       "    }\n",
       "\n",
       "    .dataframe thead th {\n",
       "        text-align: left;\n",
       "    }\n",
       "\n",
       "    .dataframe tbody tr th {\n",
       "        vertical-align: top;\n",
       "    }\n",
       "</style>\n",
       "<table border=\"1\" class=\"dataframe\">\n",
       "  <thead>\n",
       "    <tr style=\"text-align: right;\">\n",
       "      <th></th>\n",
       "      <th>msno</th>\n",
       "      <th>city</th>\n",
       "      <th>bd</th>\n",
       "      <th>gender</th>\n",
       "      <th>registered_via</th>\n",
       "      <th>registration_init_time</th>\n",
       "    </tr>\n",
       "  </thead>\n",
       "  <tbody>\n",
       "    <tr>\n",
       "      <th>count</th>\n",
       "      <td>959713</td>\n",
       "      <td>959713</td>\n",
       "      <td>316331.000000</td>\n",
       "      <td>330195</td>\n",
       "      <td>959713</td>\n",
       "      <td>959713</td>\n",
       "    </tr>\n",
       "    <tr>\n",
       "      <th>unique</th>\n",
       "      <td>959713</td>\n",
       "      <td>21</td>\n",
       "      <td>NaN</td>\n",
       "      <td>2</td>\n",
       "      <td>7</td>\n",
       "      <td>4734</td>\n",
       "    </tr>\n",
       "    <tr>\n",
       "      <th>top</th>\n",
       "      <td>dCkbs8z74Q5M6LgNmZBwsMYyirdj5jn8vAIBUnHJ9+8=</td>\n",
       "      <td>1</td>\n",
       "      <td>NaN</td>\n",
       "      <td>male</td>\n",
       "      <td>4</td>\n",
       "      <td>2015-10-09 00:00:00</td>\n",
       "    </tr>\n",
       "    <tr>\n",
       "      <th>freq</th>\n",
       "      <td>1</td>\n",
       "      <td>664735</td>\n",
       "      <td>NaN</td>\n",
       "      <td>169214</td>\n",
       "      <td>440796</td>\n",
       "      <td>2169</td>\n",
       "    </tr>\n",
       "    <tr>\n",
       "      <th>first</th>\n",
       "      <td>NaN</td>\n",
       "      <td>NaN</td>\n",
       "      <td>NaN</td>\n",
       "      <td>NaN</td>\n",
       "      <td>NaN</td>\n",
       "      <td>2004-03-26 00:00:00</td>\n",
       "    </tr>\n",
       "    <tr>\n",
       "      <th>last</th>\n",
       "      <td>NaN</td>\n",
       "      <td>NaN</td>\n",
       "      <td>NaN</td>\n",
       "      <td>NaN</td>\n",
       "      <td>NaN</td>\n",
       "      <td>2017-05-19 00:00:00</td>\n",
       "    </tr>\n",
       "    <tr>\n",
       "      <th>mean</th>\n",
       "      <td>NaN</td>\n",
       "      <td>NaN</td>\n",
       "      <td>29.192412</td>\n",
       "      <td>NaN</td>\n",
       "      <td>NaN</td>\n",
       "      <td>NaN</td>\n",
       "    </tr>\n",
       "    <tr>\n",
       "      <th>std</th>\n",
       "      <td>NaN</td>\n",
       "      <td>NaN</td>\n",
       "      <td>10.225107</td>\n",
       "      <td>NaN</td>\n",
       "      <td>NaN</td>\n",
       "      <td>NaN</td>\n",
       "    </tr>\n",
       "    <tr>\n",
       "      <th>min</th>\n",
       "      <td>NaN</td>\n",
       "      <td>NaN</td>\n",
       "      <td>14.000000</td>\n",
       "      <td>NaN</td>\n",
       "      <td>NaN</td>\n",
       "      <td>NaN</td>\n",
       "    </tr>\n",
       "    <tr>\n",
       "      <th>25%</th>\n",
       "      <td>NaN</td>\n",
       "      <td>NaN</td>\n",
       "      <td>21.000000</td>\n",
       "      <td>NaN</td>\n",
       "      <td>NaN</td>\n",
       "      <td>NaN</td>\n",
       "    </tr>\n",
       "    <tr>\n",
       "      <th>50%</th>\n",
       "      <td>NaN</td>\n",
       "      <td>NaN</td>\n",
       "      <td>27.000000</td>\n",
       "      <td>NaN</td>\n",
       "      <td>NaN</td>\n",
       "      <td>NaN</td>\n",
       "    </tr>\n",
       "    <tr>\n",
       "      <th>75%</th>\n",
       "      <td>NaN</td>\n",
       "      <td>NaN</td>\n",
       "      <td>35.000000</td>\n",
       "      <td>NaN</td>\n",
       "      <td>NaN</td>\n",
       "      <td>NaN</td>\n",
       "    </tr>\n",
       "    <tr>\n",
       "      <th>max</th>\n",
       "      <td>NaN</td>\n",
       "      <td>NaN</td>\n",
       "      <td>92.000000</td>\n",
       "      <td>NaN</td>\n",
       "      <td>NaN</td>\n",
       "      <td>NaN</td>\n",
       "    </tr>\n",
       "  </tbody>\n",
       "</table>\n",
       "</div>"
      ],
      "text/plain": [
       "                                                msno    city             bd  \\\n",
       "count                                         959713  959713  316331.000000   \n",
       "unique                                        959713      21            NaN   \n",
       "top     dCkbs8z74Q5M6LgNmZBwsMYyirdj5jn8vAIBUnHJ9+8=       1            NaN   \n",
       "freq                                               1  664735            NaN   \n",
       "first                                            NaN     NaN            NaN   \n",
       "last                                             NaN     NaN            NaN   \n",
       "mean                                             NaN     NaN      29.192412   \n",
       "std                                              NaN     NaN      10.225107   \n",
       "min                                              NaN     NaN      14.000000   \n",
       "25%                                              NaN     NaN      21.000000   \n",
       "50%                                              NaN     NaN      27.000000   \n",
       "75%                                              NaN     NaN      35.000000   \n",
       "max                                              NaN     NaN      92.000000   \n",
       "\n",
       "        gender registered_via registration_init_time  \n",
       "count   330195         959713                 959713  \n",
       "unique       2              7                   4734  \n",
       "top       male              4    2015-10-09 00:00:00  \n",
       "freq    169214         440796                   2169  \n",
       "first      NaN            NaN    2004-03-26 00:00:00  \n",
       "last       NaN            NaN    2017-05-19 00:00:00  \n",
       "mean       NaN            NaN                    NaN  \n",
       "std        NaN            NaN                    NaN  \n",
       "min        NaN            NaN                    NaN  \n",
       "25%        NaN            NaN                    NaN  \n",
       "50%        NaN            NaN                    NaN  \n",
       "75%        NaN            NaN                    NaN  \n",
       "max        NaN            NaN                    NaN  "
      ]
     },
     "execution_count": 30,
     "metadata": {},
     "output_type": "execute_result"
    }
   ],
   "source": [
    "# クリーニング後の統計量\n",
    "desc_preprocessed = df_members.describe(include='all')\n",
    "desc_preprocessed"
   ]
  },
  {
   "cell_type": "code",
   "execution_count": null,
   "metadata": {
    "collapsed": true
   },
   "outputs": [],
   "source": []
  },
  {
   "cell_type": "code",
   "execution_count": null,
   "metadata": {
    "collapsed": true
   },
   "outputs": [],
   "source": []
  },
  {
   "cell_type": "code",
   "execution_count": null,
   "metadata": {
    "collapsed": true
   },
   "outputs": [],
   "source": []
  },
  {
   "cell_type": "markdown",
   "metadata": {},
   "source": [
    "# 書き出し"
   ]
  },
  {
   "cell_type": "code",
   "execution_count": 31,
   "metadata": {
    "collapsed": true
   },
   "outputs": [],
   "source": [
    "# 書き出し\n",
    "fname = os.path.join(data_dir, 'df_members_preprocessed.csv.gz')\n",
    "fname_desc = os.path.join(output_dir, 'df_members_raw_describe.csv')\n",
    "fname_desc_2 = os.path.join(output_dir, 'df_members_preprocessed_describe.csv')\n",
    "\n",
    "# 前処理データ\n",
    "df_members.to_csv(fname, index=False, compression='gzip')\n",
    "\n",
    "# 統計量\n",
    "desc_raw.to_csv(fname_desc)\n",
    "desc_preprocessed.to_csv(fname_desc_2)"
   ]
  },
  {
   "cell_type": "code",
   "execution_count": null,
   "metadata": {
    "collapsed": true
   },
   "outputs": [],
   "source": []
  },
  {
   "cell_type": "code",
   "execution_count": null,
   "metadata": {
    "collapsed": true
   },
   "outputs": [],
   "source": []
  }
 ],
 "metadata": {
  "kernelspec": {
   "display_name": "Python 3",
   "language": "python",
   "name": "python3"
  },
  "language_info": {
   "codemirror_mode": {
    "name": "ipython",
    "version": 3
   },
   "file_extension": ".py",
   "mimetype": "text/x-python",
   "name": "python",
   "nbconvert_exporter": "python",
   "pygments_lexer": "ipython3",
   "version": "3.6.2"
  },
  "toc": {
   "colors": {
    "hover_highlight": "#DAA520",
    "navigate_num": "#000000",
    "navigate_text": "#333333",
    "running_highlight": "#FF0000",
    "selected_highlight": "#FFD700",
    "sidebar_border": "#EEEEEE",
    "wrapper_background": "#FFFFFF"
   },
   "moveMenuLeft": true,
   "nav_menu": {
    "height": "210px",
    "width": "252px"
   },
   "navigate_menu": true,
   "number_sections": true,
   "sideBar": true,
   "threshold": 4,
   "toc_cell": false,
   "toc_section_display": "block",
   "toc_window_display": true,
   "widenNotebook": false
  }
 },
 "nbformat": 4,
 "nbformat_minor": 2
}
