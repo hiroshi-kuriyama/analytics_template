{
 "cells": [
  {
   "cell_type": "markdown",
   "metadata": {},
   "source": [
    "# user_logデータ\n",
    "- 前処理・可視化\n",
    "- 注：データ量が多いため、処理時間かかる"
   ]
  },
  {
   "cell_type": "code",
   "execution_count": 1,
   "metadata": {
    "collapsed": true
   },
   "outputs": [],
   "source": [
    "import os\n",
    "\n",
    "import numpy as np\n",
    "import pandas as pd\n",
    "import seaborn as sns\n",
    "import matplotlib as mpl\n",
    "import matplotlib.pyplot as plt\n",
    "\n",
    "comma_formatter = mpl.ticker.FuncFormatter(lambda x, _: u'{:,.0f}'.format(x))\n",
    "sns.set(style='darkgrid', context='talk')\n",
    "mpl.rcParams['font.family'] = 'Meiryo'\n",
    "% matplotlib inline"
   ]
  },
  {
   "cell_type": "code",
   "execution_count": 2,
   "metadata": {
    "collapsed": true
   },
   "outputs": [],
   "source": [
    "data_dir = '../../data'\n",
    "fig_dir = '../figure'\n",
    "output_dir = '../output'"
   ]
  },
  {
   "cell_type": "code",
   "execution_count": null,
   "metadata": {
    "collapsed": true
   },
   "outputs": [],
   "source": []
  },
  {
   "cell_type": "code",
   "execution_count": null,
   "metadata": {
    "collapsed": true
   },
   "outputs": [],
   "source": []
  },
  {
   "cell_type": "markdown",
   "metadata": {},
   "source": [
    "# データ読み込み"
   ]
  },
  {
   "cell_type": "code",
   "execution_count": 3,
   "metadata": {},
   "outputs": [
    {
     "name": "stdout",
     "output_type": "stream",
     "text": [
      "CPU times: user 3min 8s, sys: 12 s, total: 3min 20s\n",
      "Wall time: 3min 26s\n"
     ]
    }
   ],
   "source": [
    "%%time\n",
    "fname = os.path.join(data_dir, 'user_logs.csv.gz')\n",
    "df_user_logs_raw = pd.read_csv(fname, parse_dates=['date']) # TIME CONSUMING"
   ]
  },
  {
   "cell_type": "code",
   "execution_count": 4,
   "metadata": {},
   "outputs": [
    {
     "name": "stdout",
     "output_type": "stream",
     "text": [
      "count: 73,647,922\n"
     ]
    }
   ],
   "source": [
    "print('count: {:,}'.format(len(df_user_logs_raw)))"
   ]
  },
  {
   "cell_type": "code",
   "execution_count": 5,
   "metadata": {
    "scrolled": true
   },
   "outputs": [
    {
     "data": {
      "text/html": [
       "<div>\n",
       "<style>\n",
       "    .dataframe thead tr:only-child th {\n",
       "        text-align: right;\n",
       "    }\n",
       "\n",
       "    .dataframe thead th {\n",
       "        text-align: left;\n",
       "    }\n",
       "\n",
       "    .dataframe tbody tr th {\n",
       "        vertical-align: top;\n",
       "    }\n",
       "</style>\n",
       "<table border=\"1\" class=\"dataframe\">\n",
       "  <thead>\n",
       "    <tr style=\"text-align: right;\">\n",
       "      <th></th>\n",
       "      <th>msno</th>\n",
       "      <th>date</th>\n",
       "      <th>num_25</th>\n",
       "      <th>num_50</th>\n",
       "      <th>num_75</th>\n",
       "      <th>num_985</th>\n",
       "      <th>num_100</th>\n",
       "      <th>num_unq</th>\n",
       "      <th>total_secs</th>\n",
       "    </tr>\n",
       "  </thead>\n",
       "  <tbody>\n",
       "    <tr>\n",
       "      <th>0</th>\n",
       "      <td>+++rMjxjARDHEx9zEFOpvJEDBDhT1ncn0PEnCx3llA0=</td>\n",
       "      <td>2015-01-15</td>\n",
       "      <td>1</td>\n",
       "      <td>0</td>\n",
       "      <td>0</td>\n",
       "      <td>0</td>\n",
       "      <td>0</td>\n",
       "      <td>1</td>\n",
       "      <td>65.071</td>\n",
       "    </tr>\n",
       "    <tr>\n",
       "      <th>1</th>\n",
       "      <td>sHa/eolo6Tnk+K3rVVitG7kgdK2P1o0wozm77evfvt8=</td>\n",
       "      <td>2016-11-08</td>\n",
       "      <td>0</td>\n",
       "      <td>0</td>\n",
       "      <td>0</td>\n",
       "      <td>0</td>\n",
       "      <td>6</td>\n",
       "      <td>1</td>\n",
       "      <td>1407.630</td>\n",
       "    </tr>\n",
       "  </tbody>\n",
       "</table>\n",
       "</div>"
      ],
      "text/plain": [
       "                                           msno       date  num_25  num_50  \\\n",
       "0  +++rMjxjARDHEx9zEFOpvJEDBDhT1ncn0PEnCx3llA0= 2015-01-15       1       0   \n",
       "1  sHa/eolo6Tnk+K3rVVitG7kgdK2P1o0wozm77evfvt8= 2016-11-08       0       0   \n",
       "\n",
       "   num_75  num_985  num_100  num_unq  total_secs  \n",
       "0       0        0        0        1      65.071  \n",
       "1       0        0        6        1    1407.630  "
      ]
     },
     "execution_count": 5,
     "metadata": {},
     "output_type": "execute_result"
    }
   ],
   "source": [
    "df_user_logs_raw.head(2)"
   ]
  },
  {
   "cell_type": "code",
   "execution_count": 6,
   "metadata": {
    "scrolled": true
   },
   "outputs": [
    {
     "data": {
      "text/html": [
       "<div>\n",
       "<style>\n",
       "    .dataframe thead tr:only-child th {\n",
       "        text-align: right;\n",
       "    }\n",
       "\n",
       "    .dataframe thead th {\n",
       "        text-align: left;\n",
       "    }\n",
       "\n",
       "    .dataframe tbody tr th {\n",
       "        vertical-align: top;\n",
       "    }\n",
       "</style>\n",
       "<table border=\"1\" class=\"dataframe\">\n",
       "  <thead>\n",
       "    <tr style=\"text-align: right;\">\n",
       "      <th></th>\n",
       "      <th>msno</th>\n",
       "      <th>date</th>\n",
       "      <th>num_25</th>\n",
       "      <th>num_50</th>\n",
       "      <th>num_75</th>\n",
       "      <th>num_985</th>\n",
       "      <th>num_100</th>\n",
       "      <th>num_unq</th>\n",
       "      <th>total_secs</th>\n",
       "    </tr>\n",
       "  </thead>\n",
       "  <tbody>\n",
       "    <tr>\n",
       "      <th>count</th>\n",
       "      <td>73647922</td>\n",
       "      <td>73647922</td>\n",
       "      <td>7.364792e+07</td>\n",
       "      <td>7.364792e+07</td>\n",
       "      <td>7.364792e+07</td>\n",
       "      <td>7.364792e+07</td>\n",
       "      <td>7.364792e+07</td>\n",
       "      <td>7.364792e+07</td>\n",
       "      <td>7.364792e+07</td>\n",
       "    </tr>\n",
       "    <tr>\n",
       "      <th>unique</th>\n",
       "      <td>981717</td>\n",
       "      <td>790</td>\n",
       "      <td>NaN</td>\n",
       "      <td>NaN</td>\n",
       "      <td>NaN</td>\n",
       "      <td>NaN</td>\n",
       "      <td>NaN</td>\n",
       "      <td>NaN</td>\n",
       "      <td>NaN</td>\n",
       "    </tr>\n",
       "    <tr>\n",
       "      <th>top</th>\n",
       "      <td>a9om23G8xlynpKU8X/q68ccjxCTyonue/Y9E5RfZ8V0=</td>\n",
       "      <td>2017-01-26 00:00:00</td>\n",
       "      <td>NaN</td>\n",
       "      <td>NaN</td>\n",
       "      <td>NaN</td>\n",
       "      <td>NaN</td>\n",
       "      <td>NaN</td>\n",
       "      <td>NaN</td>\n",
       "      <td>NaN</td>\n",
       "    </tr>\n",
       "    <tr>\n",
       "      <th>freq</th>\n",
       "      <td>790</td>\n",
       "      <td>113417</td>\n",
       "      <td>NaN</td>\n",
       "      <td>NaN</td>\n",
       "      <td>NaN</td>\n",
       "      <td>NaN</td>\n",
       "      <td>NaN</td>\n",
       "      <td>NaN</td>\n",
       "      <td>NaN</td>\n",
       "    </tr>\n",
       "    <tr>\n",
       "      <th>first</th>\n",
       "      <td>NaN</td>\n",
       "      <td>2015-01-01 00:00:00</td>\n",
       "      <td>NaN</td>\n",
       "      <td>NaN</td>\n",
       "      <td>NaN</td>\n",
       "      <td>NaN</td>\n",
       "      <td>NaN</td>\n",
       "      <td>NaN</td>\n",
       "      <td>NaN</td>\n",
       "    </tr>\n",
       "    <tr>\n",
       "      <th>last</th>\n",
       "      <td>NaN</td>\n",
       "      <td>2017-02-28 00:00:00</td>\n",
       "      <td>NaN</td>\n",
       "      <td>NaN</td>\n",
       "      <td>NaN</td>\n",
       "      <td>NaN</td>\n",
       "      <td>NaN</td>\n",
       "      <td>NaN</td>\n",
       "      <td>NaN</td>\n",
       "    </tr>\n",
       "    <tr>\n",
       "      <th>mean</th>\n",
       "      <td>NaN</td>\n",
       "      <td>NaN</td>\n",
       "      <td>6.512171e+00</td>\n",
       "      <td>1.637387e+00</td>\n",
       "      <td>1.015126e+00</td>\n",
       "      <td>1.129535e+00</td>\n",
       "      <td>3.066527e+01</td>\n",
       "      <td>3.003986e+01</td>\n",
       "      <td>-1.437835e+12</td>\n",
       "    </tr>\n",
       "    <tr>\n",
       "      <th>std</th>\n",
       "      <td>NaN</td>\n",
       "      <td>NaN</td>\n",
       "      <td>1.537442e+01</td>\n",
       "      <td>4.240055e+00</td>\n",
       "      <td>2.165061e+00</td>\n",
       "      <td>2.817380e+00</td>\n",
       "      <td>4.335244e+01</td>\n",
       "      <td>3.365628e+01</td>\n",
       "      <td>1.152707e+14</td>\n",
       "    </tr>\n",
       "    <tr>\n",
       "      <th>min</th>\n",
       "      <td>NaN</td>\n",
       "      <td>NaN</td>\n",
       "      <td>0.000000e+00</td>\n",
       "      <td>0.000000e+00</td>\n",
       "      <td>0.000000e+00</td>\n",
       "      <td>0.000000e+00</td>\n",
       "      <td>0.000000e+00</td>\n",
       "      <td>1.000000e+00</td>\n",
       "      <td>-9.223372e+15</td>\n",
       "    </tr>\n",
       "    <tr>\n",
       "      <th>25%</th>\n",
       "      <td>NaN</td>\n",
       "      <td>NaN</td>\n",
       "      <td>0.000000e+00</td>\n",
       "      <td>0.000000e+00</td>\n",
       "      <td>0.000000e+00</td>\n",
       "      <td>0.000000e+00</td>\n",
       "      <td>6.000000e+00</td>\n",
       "      <td>8.000000e+00</td>\n",
       "      <td>1.889238e+03</td>\n",
       "    </tr>\n",
       "    <tr>\n",
       "      <th>50%</th>\n",
       "      <td>NaN</td>\n",
       "      <td>NaN</td>\n",
       "      <td>2.000000e+00</td>\n",
       "      <td>1.000000e+00</td>\n",
       "      <td>0.000000e+00</td>\n",
       "      <td>0.000000e+00</td>\n",
       "      <td>1.700000e+01</td>\n",
       "      <td>1.900000e+01</td>\n",
       "      <td>4.623125e+03</td>\n",
       "    </tr>\n",
       "    <tr>\n",
       "      <th>75%</th>\n",
       "      <td>NaN</td>\n",
       "      <td>NaN</td>\n",
       "      <td>7.000000e+00</td>\n",
       "      <td>2.000000e+00</td>\n",
       "      <td>1.000000e+00</td>\n",
       "      <td>1.000000e+00</td>\n",
       "      <td>3.800000e+01</td>\n",
       "      <td>4.000000e+01</td>\n",
       "      <td>1.024607e+04</td>\n",
       "    </tr>\n",
       "    <tr>\n",
       "      <th>max</th>\n",
       "      <td>NaN</td>\n",
       "      <td>NaN</td>\n",
       "      <td>9.258000e+03</td>\n",
       "      <td>1.414000e+03</td>\n",
       "      <td>7.900000e+02</td>\n",
       "      <td>9.360000e+02</td>\n",
       "      <td>4.200400e+04</td>\n",
       "      <td>2.934000e+03</td>\n",
       "      <td>9.223372e+15</td>\n",
       "    </tr>\n",
       "  </tbody>\n",
       "</table>\n",
       "</div>"
      ],
      "text/plain": [
       "                                                msno                 date  \\\n",
       "count                                       73647922             73647922   \n",
       "unique                                        981717                  790   \n",
       "top     a9om23G8xlynpKU8X/q68ccjxCTyonue/Y9E5RfZ8V0=  2017-01-26 00:00:00   \n",
       "freq                                             790               113417   \n",
       "first                                            NaN  2015-01-01 00:00:00   \n",
       "last                                             NaN  2017-02-28 00:00:00   \n",
       "mean                                             NaN                  NaN   \n",
       "std                                              NaN                  NaN   \n",
       "min                                              NaN                  NaN   \n",
       "25%                                              NaN                  NaN   \n",
       "50%                                              NaN                  NaN   \n",
       "75%                                              NaN                  NaN   \n",
       "max                                              NaN                  NaN   \n",
       "\n",
       "              num_25        num_50        num_75       num_985       num_100  \\\n",
       "count   7.364792e+07  7.364792e+07  7.364792e+07  7.364792e+07  7.364792e+07   \n",
       "unique           NaN           NaN           NaN           NaN           NaN   \n",
       "top              NaN           NaN           NaN           NaN           NaN   \n",
       "freq             NaN           NaN           NaN           NaN           NaN   \n",
       "first            NaN           NaN           NaN           NaN           NaN   \n",
       "last             NaN           NaN           NaN           NaN           NaN   \n",
       "mean    6.512171e+00  1.637387e+00  1.015126e+00  1.129535e+00  3.066527e+01   \n",
       "std     1.537442e+01  4.240055e+00  2.165061e+00  2.817380e+00  4.335244e+01   \n",
       "min     0.000000e+00  0.000000e+00  0.000000e+00  0.000000e+00  0.000000e+00   \n",
       "25%     0.000000e+00  0.000000e+00  0.000000e+00  0.000000e+00  6.000000e+00   \n",
       "50%     2.000000e+00  1.000000e+00  0.000000e+00  0.000000e+00  1.700000e+01   \n",
       "75%     7.000000e+00  2.000000e+00  1.000000e+00  1.000000e+00  3.800000e+01   \n",
       "max     9.258000e+03  1.414000e+03  7.900000e+02  9.360000e+02  4.200400e+04   \n",
       "\n",
       "             num_unq    total_secs  \n",
       "count   7.364792e+07  7.364792e+07  \n",
       "unique           NaN           NaN  \n",
       "top              NaN           NaN  \n",
       "freq             NaN           NaN  \n",
       "first            NaN           NaN  \n",
       "last             NaN           NaN  \n",
       "mean    3.003986e+01 -1.437835e+12  \n",
       "std     3.365628e+01  1.152707e+14  \n",
       "min     1.000000e+00 -9.223372e+15  \n",
       "25%     8.000000e+00  1.889238e+03  \n",
       "50%     1.900000e+01  4.623125e+03  \n",
       "75%     4.000000e+01  1.024607e+04  \n",
       "max     2.934000e+03  9.223372e+15  "
      ]
     },
     "execution_count": 6,
     "metadata": {},
     "output_type": "execute_result"
    }
   ],
   "source": [
    "desc_raw = df_user_logs_raw.describe(include='all') # TIME CONSUMING\n",
    "desc_raw"
   ]
  },
  {
   "cell_type": "markdown",
   "metadata": {},
   "source": [
    "- total_secs\n",
    "    - 負値が存在する。最大値が大きすぎる => 補完\n",
    "- 曲数も気にかけたほうが良さそう"
   ]
  },
  {
   "cell_type": "code",
   "execution_count": null,
   "metadata": {
    "collapsed": true
   },
   "outputs": [],
   "source": []
  },
  {
   "cell_type": "code",
   "execution_count": null,
   "metadata": {
    "collapsed": true
   },
   "outputs": [],
   "source": []
  },
  {
   "cell_type": "code",
   "execution_count": null,
   "metadata": {
    "collapsed": true
   },
   "outputs": [],
   "source": []
  },
  {
   "cell_type": "markdown",
   "metadata": {},
   "source": [
    "# 集計・可視化"
   ]
  },
  {
   "cell_type": "markdown",
   "metadata": {},
   "source": [
    "## レコード数など"
   ]
  },
  {
   "cell_type": "markdown",
   "metadata": {},
   "source": [
    "- 日別レコード数"
   ]
  },
  {
   "cell_type": "code",
   "execution_count": 7,
   "metadata": {
    "scrolled": true
   },
   "outputs": [
    {
     "data": {
      "text/plain": [
       "2015-01-01    73217\n",
       "2015-01-02    75381\n",
       "2015-01-03    76698\n",
       "2015-01-04    77681\n",
       "2015-01-05    76713\n",
       "Name: date, dtype: int64"
      ]
     },
     "execution_count": 7,
     "metadata": {},
     "output_type": "execute_result"
    }
   ],
   "source": [
    "# 日別レコード数\n",
    "date_dist = df_user_logs_raw.date.value_counts().sort_index()\n",
    "date_dist.head() # 一部"
   ]
  },
  {
   "cell_type": "code",
   "execution_count": 8,
   "metadata": {},
   "outputs": [
    {
     "data": {
      "image/png": "[encoded data removed]",
      "text/plain": [
       "<matplotlib.figure.Figure at 0x25222beb8>"
      ]
     },
     "metadata": {},
     "output_type": "display_data"
    }
   ],
   "source": [
    "date_dist.plot.line()\n",
    "plt.xlabel('user_logs_date')\n",
    "plt.ylabel('Num of logs')\n",
    "plt.tight_layout()\n",
    "plt.savefig(os.path.join(fig_dir, 'line_user_logs_date.png'), dpi=200)\n",
    "# - 1.4倍程度の伸び"
   ]
  },
  {
   "cell_type": "code",
   "execution_count": null,
   "metadata": {
    "collapsed": true
   },
   "outputs": [],
   "source": []
  },
  {
   "cell_type": "code",
   "execution_count": null,
   "metadata": {
    "collapsed": true
   },
   "outputs": [],
   "source": []
  },
  {
   "cell_type": "markdown",
   "metadata": {},
   "source": [
    "- 月間アクティブユーザー（MAU）"
   ]
  },
  {
   "cell_type": "code",
   "execution_count": 9,
   "metadata": {
    "collapsed": true
   },
   "outputs": [],
   "source": [
    "# 重いのでサンプリング\n",
    "df_user_logs_sample = df_user_logs_raw.sample(n=100000, random_state=0)"
   ]
  },
  {
   "cell_type": "code",
   "execution_count": 10,
   "metadata": {
    "collapsed": true
   },
   "outputs": [],
   "source": [
    "# 年月\n",
    "df_user_logs_sample['ym'] = df_user_logs_sample.date.dt.strftime('%Y-%m')"
   ]
  },
  {
   "cell_type": "code",
   "execution_count": 11,
   "metadata": {
    "scrolled": true
   },
   "outputs": [
    {
     "data": {
      "image/png": "[encoded data removed]",
      "text/plain": [
       "<matplotlib.figure.Figure at 0x1d9abd7b8>"
      ]
     },
     "metadata": {},
     "output_type": "display_data"
    }
   ],
   "source": [
    "# 月間アクティブユーザー数（MAU）も増えている（サンプリングデータ）\n",
    "mau = df_user_logs_sample.groupby('ym').msno.nunique()\n",
    "mau = mau / mau.iloc[0]\n",
    "mau.plot.line()\n",
    "plt.title('MAUの伸び（2015/01 = 1.0）')\n",
    "plt.ylabel('MAU')\n",
    "plt.savefig(os.path.join(fig_dir, 'line_mau_growth.png'), dpi=200)"
   ]
  },
  {
   "cell_type": "code",
   "execution_count": null,
   "metadata": {
    "collapsed": true
   },
   "outputs": [],
   "source": []
  },
  {
   "cell_type": "code",
   "execution_count": null,
   "metadata": {
    "collapsed": true
   },
   "outputs": [],
   "source": []
  },
  {
   "cell_type": "markdown",
   "metadata": {},
   "source": [
    "- 相関係数"
   ]
  },
  {
   "cell_type": "code",
   "execution_count": 12,
   "metadata": {},
   "outputs": [
    {
     "data": {
      "text/html": [
       "<div>\n",
       "<style>\n",
       "    .dataframe thead tr:only-child th {\n",
       "        text-align: right;\n",
       "    }\n",
       "\n",
       "    .dataframe thead th {\n",
       "        text-align: left;\n",
       "    }\n",
       "\n",
       "    .dataframe tbody tr th {\n",
       "        vertical-align: top;\n",
       "    }\n",
       "</style>\n",
       "<table border=\"1\" class=\"dataframe\">\n",
       "  <thead>\n",
       "    <tr style=\"text-align: right;\">\n",
       "      <th></th>\n",
       "      <th>num_25</th>\n",
       "      <th>num_50</th>\n",
       "      <th>num_75</th>\n",
       "      <th>num_985</th>\n",
       "      <th>num_100</th>\n",
       "      <th>num_unq</th>\n",
       "    </tr>\n",
       "  </thead>\n",
       "  <tbody>\n",
       "    <tr>\n",
       "      <th>num_25</th>\n",
       "      <td>1.000000</td>\n",
       "      <td>0.462879</td>\n",
       "      <td>0.431006</td>\n",
       "      <td>0.278831</td>\n",
       "      <td>0.125637</td>\n",
       "      <td>0.487033</td>\n",
       "    </tr>\n",
       "    <tr>\n",
       "      <th>num_50</th>\n",
       "      <td>0.462879</td>\n",
       "      <td>1.000000</td>\n",
       "      <td>0.628925</td>\n",
       "      <td>0.273036</td>\n",
       "      <td>0.099398</td>\n",
       "      <td>0.370673</td>\n",
       "    </tr>\n",
       "    <tr>\n",
       "      <th>num_75</th>\n",
       "      <td>0.431006</td>\n",
       "      <td>0.628925</td>\n",
       "      <td>1.000000</td>\n",
       "      <td>0.377091</td>\n",
       "      <td>0.146004</td>\n",
       "      <td>0.377056</td>\n",
       "    </tr>\n",
       "    <tr>\n",
       "      <th>num_985</th>\n",
       "      <td>0.278831</td>\n",
       "      <td>0.273036</td>\n",
       "      <td>0.377091</td>\n",
       "      <td>1.000000</td>\n",
       "      <td>0.152915</td>\n",
       "      <td>0.320180</td>\n",
       "    </tr>\n",
       "    <tr>\n",
       "      <th>num_100</th>\n",
       "      <td>0.125637</td>\n",
       "      <td>0.099398</td>\n",
       "      <td>0.146004</td>\n",
       "      <td>0.152915</td>\n",
       "      <td>1.000000</td>\n",
       "      <td>0.740437</td>\n",
       "    </tr>\n",
       "    <tr>\n",
       "      <th>num_unq</th>\n",
       "      <td>0.487033</td>\n",
       "      <td>0.370673</td>\n",
       "      <td>0.377056</td>\n",
       "      <td>0.320180</td>\n",
       "      <td>0.740437</td>\n",
       "      <td>1.000000</td>\n",
       "    </tr>\n",
       "  </tbody>\n",
       "</table>\n",
       "</div>"
      ],
      "text/plain": [
       "           num_25    num_50    num_75   num_985   num_100   num_unq\n",
       "num_25   1.000000  0.462879  0.431006  0.278831  0.125637  0.487033\n",
       "num_50   0.462879  1.000000  0.628925  0.273036  0.099398  0.370673\n",
       "num_75   0.431006  0.628925  1.000000  0.377091  0.146004  0.377056\n",
       "num_985  0.278831  0.273036  0.377091  1.000000  0.152915  0.320180\n",
       "num_100  0.125637  0.099398  0.146004  0.152915  1.000000  0.740437\n",
       "num_unq  0.487033  0.370673  0.377056  0.320180  0.740437  1.000000"
      ]
     },
     "execution_count": 12,
     "metadata": {},
     "output_type": "execute_result"
    }
   ],
   "source": [
    "# 相関係数\n",
    "cols_num = df_user_logs_raw.columns[df_user_logs_raw.columns.str.contains('num_')].values\n",
    "df_user_logs_sample[cols_num].corr()"
   ]
  },
  {
   "cell_type": "code",
   "execution_count": null,
   "metadata": {
    "collapsed": true
   },
   "outputs": [],
   "source": []
  },
  {
   "cell_type": "code",
   "execution_count": null,
   "metadata": {
    "collapsed": true
   },
   "outputs": [],
   "source": []
  },
  {
   "cell_type": "markdown",
   "metadata": {},
   "source": [
    "## total_secs"
   ]
  },
  {
   "cell_type": "code",
   "execution_count": 13,
   "metadata": {},
   "outputs": [
    {
     "data": {
      "image/png": "[encoded data removed]",
      "text/plain": [
       "<matplotlib.figure.Figure at 0x23530cda0>"
      ]
     },
     "metadata": {},
     "output_type": "display_data"
    }
   ],
   "source": [
    "# 箱ひげ図\n",
    "sns.boxplot(df_user_logs_sample.total_secs)\n",
    "plt.savefig(os.path.join(fig_dir, 'boxplot_total_secs_sample.png'), dpi=200)\n",
    "# - 異常値あり"
   ]
  },
  {
   "cell_type": "code",
   "execution_count": 14,
   "metadata": {},
   "outputs": [
    {
     "data": {
      "image/png": "[encoded data removed]",
      "text/plain": [
       "<matplotlib.figure.Figure at 0x13ac0b9e8>"
      ]
     },
     "metadata": {},
     "output_type": "display_data"
    }
   ],
   "source": [
    "# 合計視聴分数\n",
    "sns.boxplot(df_user_logs_sample.total_secs / 60)\n",
    "plt.xlabel('分')\n",
    "plt.title('合計視聴分数')\n",
    "plt.xlim(-1e+1, 5e+2)\n",
    "plt.tight_layout()\n",
    "plt.savefig(os.path.join(fig_dir, 'boxplot_total_secs_sample_2.png'), dpi=200)"
   ]
  },
  {
   "cell_type": "code",
   "execution_count": 15,
   "metadata": {},
   "outputs": [
    {
     "data": {
      "text/plain": [
       "count     1.000000e+05\n",
       "mean     -1.475740e+12\n",
       "std       1.166587e+14\n",
       "min      -9.223372e+15\n",
       "50%       4.681351e+03\n",
       "99%       4.452634e+04\n",
       "99.9%     7.936838e+04\n",
       "99.99%    1.436534e+05\n",
       "max       7.621949e+05\n",
       "Name: total_secs, dtype: float64"
      ]
     },
     "execution_count": 15,
     "metadata": {},
     "output_type": "execute_result"
    }
   ],
   "source": [
    "df_user_logs_sample.total_secs.describe(percentiles=[0.99, 0.999, 0.9999])\n",
    "# - 正常っぽい total_secs の範囲は 99%点~99.99%点付近\n",
    "# => 1e+5 を前処理時の閾値に用いる"
   ]
  },
  {
   "cell_type": "code",
   "execution_count": null,
   "metadata": {
    "collapsed": true
   },
   "outputs": [],
   "source": []
  },
  {
   "cell_type": "markdown",
   "metadata": {},
   "source": [
    "- 平均曲長の推定"
   ]
  },
  {
   "cell_type": "code",
   "execution_count": 16,
   "metadata": {
    "collapsed": true
   },
   "outputs": [],
   "source": [
    "# 異常そうなレコードを除く\n",
    "# - num_100だけが入っているレコードを用いる\n",
    "# - 合計視聴秒数が [0, 1e+5] であるもの\n",
    "index_1 = df_user_logs_raw[['num_25', 'num_50', 'num_75', 'num_985']].sum(axis=1) == 0\n",
    "index_2 = df_user_logs_raw.total_secs.between(0, 1e+5)\n",
    "df_user_logs_valid = df_user_logs_raw[index_1 & index_2]"
   ]
  },
  {
   "cell_type": "code",
   "execution_count": 17,
   "metadata": {},
   "outputs": [
    {
     "data": {
      "text/plain": [
       "count    9.969721e+06\n",
       "mean     4.164432e+00\n",
       "std      1.686539e+00\n",
       "min      1.833333e-04\n",
       "25%      3.820634e+00\n",
       "50%      4.133450e+00\n",
       "75%      4.391617e+00\n",
       "max      1.457850e+03\n",
       "dtype: float64"
      ]
     },
     "execution_count": 17,
     "metadata": {},
     "output_type": "execute_result"
    }
   ],
   "source": [
    "# 平均曲長\n",
    "average_secs = df_user_logs_valid.total_secs / df_user_logs_valid.num_100 / 60\n",
    "average_secs.describe()\n",
    "# - 1曲あたりの平均曲長は 4.164分（中央値: 4.133分）"
   ]
  },
  {
   "cell_type": "code",
   "execution_count": 18,
   "metadata": {},
   "outputs": [
    {
     "data": {
      "image/png": "[encoded data removed]",
      "text/plain": [
       "<matplotlib.figure.Figure at 0x1bcc455c0>"
      ]
     },
     "metadata": {},
     "output_type": "display_data"
    }
   ],
   "source": [
    "# 平均曲長を推定\n",
    "sns.boxplot(average_secs)\n",
    "plt.xlim(0, 100)\n",
    "plt.title('平均曲長（分）')\n",
    "plt.xlabel('分')\n",
    "plt.tight_layout()\n",
    "plt.savefig(os.path.join(fig_dir, 'boxplot_average_minutes_per_song.png'), dpi=200)"
   ]
  },
  {
   "cell_type": "code",
   "execution_count": null,
   "metadata": {
    "collapsed": true
   },
   "outputs": [],
   "source": []
  },
  {
   "cell_type": "code",
   "execution_count": null,
   "metadata": {
    "collapsed": true
   },
   "outputs": [],
   "source": []
  },
  {
   "cell_type": "markdown",
   "metadata": {},
   "source": [
    "# 前処理"
   ]
  },
  {
   "cell_type": "markdown",
   "metadata": {},
   "source": [
    "- total_secsの対処\n",
    "    - 異常と考えられるtotal_secsレコードを推定"
   ]
  },
  {
   "cell_type": "code",
   "execution_count": 19,
   "metadata": {
    "collapsed": true
   },
   "outputs": [],
   "source": [
    "# 曲数カラム\n",
    "cols_num = df_user_logs_raw.columns[df_user_logs_raw.columns.str.contains('num_[0-9]+')]\n",
    "\n",
    "# 曲長の係数\n",
    "coef = np.array([0.25, 0.50, 0.75, 0.985, 1])\n",
    "\n",
    "# total_secsの推定値（平均曲長（分） * 60秒）\n",
    "total_secs_est = (df_user_logs_raw[cols_num] * coef).sum(axis=1) * 4.164 * 60\n",
    "\n",
    "# 補完対象\n",
    "# - total_secsが負、かつ1日の秒数より大きいデータ\n",
    "index = (df_user_logs_raw.total_secs < 0) | (df_user_logs_raw.total_secs > 24*60*60)\n",
    "df_user_logs_raw.loc[index, 'total_secs'] = total_secs_est[index]"
   ]
  },
  {
   "cell_type": "code",
   "execution_count": 20,
   "metadata": {},
   "outputs": [
    {
     "data": {
      "text/html": [
       "<div>\n",
       "<style>\n",
       "    .dataframe thead tr:only-child th {\n",
       "        text-align: right;\n",
       "    }\n",
       "\n",
       "    .dataframe thead th {\n",
       "        text-align: left;\n",
       "    }\n",
       "\n",
       "    .dataframe tbody tr th {\n",
       "        vertical-align: top;\n",
       "    }\n",
       "</style>\n",
       "<table border=\"1\" class=\"dataframe\">\n",
       "  <thead>\n",
       "    <tr style=\"text-align: right;\">\n",
       "      <th></th>\n",
       "      <th>msno</th>\n",
       "      <th>date</th>\n",
       "      <th>num_25</th>\n",
       "      <th>num_50</th>\n",
       "      <th>num_75</th>\n",
       "      <th>num_985</th>\n",
       "      <th>num_100</th>\n",
       "      <th>num_unq</th>\n",
       "      <th>total_secs</th>\n",
       "    </tr>\n",
       "  </thead>\n",
       "  <tbody>\n",
       "    <tr>\n",
       "      <th>0</th>\n",
       "      <td>+++rMjxjARDHEx9zEFOpvJEDBDhT1ncn0PEnCx3llA0=</td>\n",
       "      <td>2015-01-15</td>\n",
       "      <td>1</td>\n",
       "      <td>0</td>\n",
       "      <td>0</td>\n",
       "      <td>0</td>\n",
       "      <td>0</td>\n",
       "      <td>1</td>\n",
       "      <td>65.071</td>\n",
       "    </tr>\n",
       "    <tr>\n",
       "      <th>1</th>\n",
       "      <td>sHa/eolo6Tnk+K3rVVitG7kgdK2P1o0wozm77evfvt8=</td>\n",
       "      <td>2016-11-08</td>\n",
       "      <td>0</td>\n",
       "      <td>0</td>\n",
       "      <td>0</td>\n",
       "      <td>0</td>\n",
       "      <td>6</td>\n",
       "      <td>1</td>\n",
       "      <td>1407.630</td>\n",
       "    </tr>\n",
       "    <tr>\n",
       "      <th>2</th>\n",
       "      <td>sxarnAsqdmYky9X21JVVyWGLkxxVZje7zdbWboC/1j0=</td>\n",
       "      <td>2015-08-20</td>\n",
       "      <td>1</td>\n",
       "      <td>1</td>\n",
       "      <td>0</td>\n",
       "      <td>1</td>\n",
       "      <td>91</td>\n",
       "      <td>40</td>\n",
       "      <td>22850.465</td>\n",
       "    </tr>\n",
       "    <tr>\n",
       "      <th>3</th>\n",
       "      <td>++0JQrW5emxGI8c12iOa6NrdW5jInaSsMMizAsN/Gr8=</td>\n",
       "      <td>2016-01-18</td>\n",
       "      <td>4</td>\n",
       "      <td>0</td>\n",
       "      <td>0</td>\n",
       "      <td>2</td>\n",
       "      <td>10</td>\n",
       "      <td>14</td>\n",
       "      <td>3103.074</td>\n",
       "    </tr>\n",
       "    <tr>\n",
       "      <th>4</th>\n",
       "      <td>+++rMjxjARDHEx9zEFOpvJEDBDhT1ncn0PEnCx3llA0=</td>\n",
       "      <td>2015-01-19</td>\n",
       "      <td>0</td>\n",
       "      <td>0</td>\n",
       "      <td>0</td>\n",
       "      <td>0</td>\n",
       "      <td>2</td>\n",
       "      <td>1</td>\n",
       "      <td>474.698</td>\n",
       "    </tr>\n",
       "  </tbody>\n",
       "</table>\n",
       "</div>"
      ],
      "text/plain": [
       "                                           msno       date  num_25  num_50  \\\n",
       "0  +++rMjxjARDHEx9zEFOpvJEDBDhT1ncn0PEnCx3llA0= 2015-01-15       1       0   \n",
       "1  sHa/eolo6Tnk+K3rVVitG7kgdK2P1o0wozm77evfvt8= 2016-11-08       0       0   \n",
       "2  sxarnAsqdmYky9X21JVVyWGLkxxVZje7zdbWboC/1j0= 2015-08-20       1       1   \n",
       "3  ++0JQrW5emxGI8c12iOa6NrdW5jInaSsMMizAsN/Gr8= 2016-01-18       4       0   \n",
       "4  +++rMjxjARDHEx9zEFOpvJEDBDhT1ncn0PEnCx3llA0= 2015-01-19       0       0   \n",
       "\n",
       "   num_75  num_985  num_100  num_unq  total_secs  \n",
       "0       0        0        0        1      65.071  \n",
       "1       0        0        6        1    1407.630  \n",
       "2       0        1       91       40   22850.465  \n",
       "3       0        2       10       14    3103.074  \n",
       "4       0        0        2        1     474.698  "
      ]
     },
     "execution_count": 20,
     "metadata": {},
     "output_type": "execute_result"
    }
   ],
   "source": [
    "df_user_logs_raw.head()"
   ]
  },
  {
   "cell_type": "code",
   "execution_count": null,
   "metadata": {
    "collapsed": true
   },
   "outputs": [],
   "source": []
  },
  {
   "cell_type": "code",
   "execution_count": null,
   "metadata": {
    "collapsed": true
   },
   "outputs": [],
   "source": []
  },
  {
   "cell_type": "markdown",
   "metadata": {},
   "source": [
    "- 補完してもなお残る異常値は除去する"
   ]
  },
  {
   "cell_type": "code",
   "execution_count": 21,
   "metadata": {
    "collapsed": true
   },
   "outputs": [],
   "source": [
    "# 依然残る異常値を判別（99.9%点）\n",
    "total_secs_thrs = df_user_logs_raw.total_secs.quantile(.999)\n",
    "\n",
    "# 絞り込み\n",
    "index_ok = df_user_logs_raw.total_secs <= total_secs_thrs\n",
    "df_user_logs = df_user_logs_raw[index_ok]"
   ]
  },
  {
   "cell_type": "code",
   "execution_count": 22,
   "metadata": {},
   "outputs": [
    {
     "data": {
      "text/html": [
       "<div>\n",
       "<style>\n",
       "    .dataframe thead tr:only-child th {\n",
       "        text-align: right;\n",
       "    }\n",
       "\n",
       "    .dataframe thead th {\n",
       "        text-align: left;\n",
       "    }\n",
       "\n",
       "    .dataframe tbody tr th {\n",
       "        vertical-align: top;\n",
       "    }\n",
       "</style>\n",
       "<table border=\"1\" class=\"dataframe\">\n",
       "  <thead>\n",
       "    <tr style=\"text-align: right;\">\n",
       "      <th></th>\n",
       "      <th>msno</th>\n",
       "      <th>date</th>\n",
       "      <th>num_25</th>\n",
       "      <th>num_50</th>\n",
       "      <th>num_75</th>\n",
       "      <th>num_985</th>\n",
       "      <th>num_100</th>\n",
       "      <th>num_unq</th>\n",
       "      <th>total_secs</th>\n",
       "    </tr>\n",
       "  </thead>\n",
       "  <tbody>\n",
       "    <tr>\n",
       "      <th>count</th>\n",
       "      <td>73574274</td>\n",
       "      <td>73574274</td>\n",
       "      <td>7.357427e+07</td>\n",
       "      <td>7.357427e+07</td>\n",
       "      <td>7.357427e+07</td>\n",
       "      <td>7.357427e+07</td>\n",
       "      <td>7.357427e+07</td>\n",
       "      <td>7.357427e+07</td>\n",
       "      <td>7.357427e+07</td>\n",
       "    </tr>\n",
       "    <tr>\n",
       "      <th>unique</th>\n",
       "      <td>981711</td>\n",
       "      <td>790</td>\n",
       "      <td>NaN</td>\n",
       "      <td>NaN</td>\n",
       "      <td>NaN</td>\n",
       "      <td>NaN</td>\n",
       "      <td>NaN</td>\n",
       "      <td>NaN</td>\n",
       "      <td>NaN</td>\n",
       "    </tr>\n",
       "    <tr>\n",
       "      <th>top</th>\n",
       "      <td>CwQDYAJLbw7JxpWMrVL7i0QERCfMa4/OVpm3YOKI5M4=</td>\n",
       "      <td>2017-01-26 00:00:00</td>\n",
       "      <td>NaN</td>\n",
       "      <td>NaN</td>\n",
       "      <td>NaN</td>\n",
       "      <td>NaN</td>\n",
       "      <td>NaN</td>\n",
       "      <td>NaN</td>\n",
       "      <td>NaN</td>\n",
       "    </tr>\n",
       "    <tr>\n",
       "      <th>freq</th>\n",
       "      <td>790</td>\n",
       "      <td>113291</td>\n",
       "      <td>NaN</td>\n",
       "      <td>NaN</td>\n",
       "      <td>NaN</td>\n",
       "      <td>NaN</td>\n",
       "      <td>NaN</td>\n",
       "      <td>NaN</td>\n",
       "      <td>NaN</td>\n",
       "    </tr>\n",
       "    <tr>\n",
       "      <th>first</th>\n",
       "      <td>NaN</td>\n",
       "      <td>2015-01-01 00:00:00</td>\n",
       "      <td>NaN</td>\n",
       "      <td>NaN</td>\n",
       "      <td>NaN</td>\n",
       "      <td>NaN</td>\n",
       "      <td>NaN</td>\n",
       "      <td>NaN</td>\n",
       "      <td>NaN</td>\n",
       "    </tr>\n",
       "    <tr>\n",
       "      <th>last</th>\n",
       "      <td>NaN</td>\n",
       "      <td>2017-02-28 00:00:00</td>\n",
       "      <td>NaN</td>\n",
       "      <td>NaN</td>\n",
       "      <td>NaN</td>\n",
       "      <td>NaN</td>\n",
       "      <td>NaN</td>\n",
       "      <td>NaN</td>\n",
       "      <td>NaN</td>\n",
       "    </tr>\n",
       "    <tr>\n",
       "      <th>mean</th>\n",
       "      <td>NaN</td>\n",
       "      <td>NaN</td>\n",
       "      <td>6.506128e+00</td>\n",
       "      <td>1.635338e+00</td>\n",
       "      <td>1.013484e+00</td>\n",
       "      <td>1.126400e+00</td>\n",
       "      <td>3.024352e+01</td>\n",
       "      <td>2.990868e+01</td>\n",
       "      <td>8.013455e+03</td>\n",
       "    </tr>\n",
       "    <tr>\n",
       "      <th>std</th>\n",
       "      <td>NaN</td>\n",
       "      <td>NaN</td>\n",
       "      <td>1.528903e+01</td>\n",
       "      <td>4.184903e+00</td>\n",
       "      <td>2.113645e+00</td>\n",
       "      <td>2.745608e+00</td>\n",
       "      <td>3.851438e+01</td>\n",
       "      <td>3.312273e+01</td>\n",
       "      <td>9.485040e+03</td>\n",
       "    </tr>\n",
       "    <tr>\n",
       "      <th>min</th>\n",
       "      <td>NaN</td>\n",
       "      <td>NaN</td>\n",
       "      <td>0.000000e+00</td>\n",
       "      <td>0.000000e+00</td>\n",
       "      <td>0.000000e+00</td>\n",
       "      <td>0.000000e+00</td>\n",
       "      <td>0.000000e+00</td>\n",
       "      <td>1.000000e+00</td>\n",
       "      <td>1.000000e-03</td>\n",
       "    </tr>\n",
       "    <tr>\n",
       "      <th>25%</th>\n",
       "      <td>NaN</td>\n",
       "      <td>NaN</td>\n",
       "      <td>0.000000e+00</td>\n",
       "      <td>0.000000e+00</td>\n",
       "      <td>0.000000e+00</td>\n",
       "      <td>0.000000e+00</td>\n",
       "      <td>6.000000e+00</td>\n",
       "      <td>8.000000e+00</td>\n",
       "      <td>1.888471e+03</td>\n",
       "    </tr>\n",
       "    <tr>\n",
       "      <th>50%</th>\n",
       "      <td>NaN</td>\n",
       "      <td>NaN</td>\n",
       "      <td>2.000000e+00</td>\n",
       "      <td>1.000000e+00</td>\n",
       "      <td>0.000000e+00</td>\n",
       "      <td>0.000000e+00</td>\n",
       "      <td>1.600000e+01</td>\n",
       "      <td>1.900000e+01</td>\n",
       "      <td>4.618007e+03</td>\n",
       "    </tr>\n",
       "    <tr>\n",
       "      <th>75%</th>\n",
       "      <td>NaN</td>\n",
       "      <td>NaN</td>\n",
       "      <td>7.000000e+00</td>\n",
       "      <td>2.000000e+00</td>\n",
       "      <td>1.000000e+00</td>\n",
       "      <td>1.000000e+00</td>\n",
       "      <td>3.800000e+01</td>\n",
       "      <td>4.000000e+01</td>\n",
       "      <td>1.022070e+04</td>\n",
       "    </tr>\n",
       "    <tr>\n",
       "      <th>max</th>\n",
       "      <td>NaN</td>\n",
       "      <td>NaN</td>\n",
       "      <td>9.258000e+03</td>\n",
       "      <td>6.540000e+02</td>\n",
       "      <td>3.400000e+02</td>\n",
       "      <td>9.360000e+02</td>\n",
       "      <td>8.756000e+03</td>\n",
       "      <td>1.687000e+03</td>\n",
       "      <td>7.980104e+04</td>\n",
       "    </tr>\n",
       "  </tbody>\n",
       "</table>\n",
       "</div>"
      ],
      "text/plain": [
       "                                                msno                 date  \\\n",
       "count                                       73574274             73574274   \n",
       "unique                                        981711                  790   \n",
       "top     CwQDYAJLbw7JxpWMrVL7i0QERCfMa4/OVpm3YOKI5M4=  2017-01-26 00:00:00   \n",
       "freq                                             790               113291   \n",
       "first                                            NaN  2015-01-01 00:00:00   \n",
       "last                                             NaN  2017-02-28 00:00:00   \n",
       "mean                                             NaN                  NaN   \n",
       "std                                              NaN                  NaN   \n",
       "min                                              NaN                  NaN   \n",
       "25%                                              NaN                  NaN   \n",
       "50%                                              NaN                  NaN   \n",
       "75%                                              NaN                  NaN   \n",
       "max                                              NaN                  NaN   \n",
       "\n",
       "              num_25        num_50        num_75       num_985       num_100  \\\n",
       "count   7.357427e+07  7.357427e+07  7.357427e+07  7.357427e+07  7.357427e+07   \n",
       "unique           NaN           NaN           NaN           NaN           NaN   \n",
       "top              NaN           NaN           NaN           NaN           NaN   \n",
       "freq             NaN           NaN           NaN           NaN           NaN   \n",
       "first            NaN           NaN           NaN           NaN           NaN   \n",
       "last             NaN           NaN           NaN           NaN           NaN   \n",
       "mean    6.506128e+00  1.635338e+00  1.013484e+00  1.126400e+00  3.024352e+01   \n",
       "std     1.528903e+01  4.184903e+00  2.113645e+00  2.745608e+00  3.851438e+01   \n",
       "min     0.000000e+00  0.000000e+00  0.000000e+00  0.000000e+00  0.000000e+00   \n",
       "25%     0.000000e+00  0.000000e+00  0.000000e+00  0.000000e+00  6.000000e+00   \n",
       "50%     2.000000e+00  1.000000e+00  0.000000e+00  0.000000e+00  1.600000e+01   \n",
       "75%     7.000000e+00  2.000000e+00  1.000000e+00  1.000000e+00  3.800000e+01   \n",
       "max     9.258000e+03  6.540000e+02  3.400000e+02  9.360000e+02  8.756000e+03   \n",
       "\n",
       "             num_unq    total_secs  \n",
       "count   7.357427e+07  7.357427e+07  \n",
       "unique           NaN           NaN  \n",
       "top              NaN           NaN  \n",
       "freq             NaN           NaN  \n",
       "first            NaN           NaN  \n",
       "last             NaN           NaN  \n",
       "mean    2.990868e+01  8.013455e+03  \n",
       "std     3.312273e+01  9.485040e+03  \n",
       "min     1.000000e+00  1.000000e-03  \n",
       "25%     8.000000e+00  1.888471e+03  \n",
       "50%     1.900000e+01  4.618007e+03  \n",
       "75%     4.000000e+01  1.022070e+04  \n",
       "max     1.687000e+03  7.980104e+04  "
      ]
     },
     "execution_count": 22,
     "metadata": {},
     "output_type": "execute_result"
    }
   ],
   "source": [
    "# 統計量\n",
    "desc_2 = df_user_logs.describe(include='all') # TIME CONSUMING\n",
    "desc_2"
   ]
  },
  {
   "cell_type": "code",
   "execution_count": 23,
   "metadata": {},
   "outputs": [
    {
     "data": {
      "text/plain": [
       "msno          False\n",
       "date          False\n",
       "num_25        False\n",
       "num_50        False\n",
       "num_75        False\n",
       "num_985       False\n",
       "num_100       False\n",
       "num_unq       False\n",
       "total_secs    False\n",
       "dtype: bool"
      ]
     },
     "execution_count": 23,
     "metadata": {},
     "output_type": "execute_result"
    }
   ],
   "source": [
    "df_user_logs.isnull().any()"
   ]
  },
  {
   "cell_type": "code",
   "execution_count": null,
   "metadata": {
    "collapsed": true
   },
   "outputs": [],
   "source": []
  },
  {
   "cell_type": "code",
   "execution_count": null,
   "metadata": {
    "collapsed": true
   },
   "outputs": [],
   "source": []
  },
  {
   "cell_type": "markdown",
   "metadata": {},
   "source": [
    "# 書き出し"
   ]
  },
  {
   "cell_type": "code",
   "execution_count": 24,
   "metadata": {},
   "outputs": [
    {
     "data": {
      "text/plain": [
       "(73647922, 73574274)"
      ]
     },
     "execution_count": 24,
     "metadata": {},
     "output_type": "execute_result"
    }
   ],
   "source": [
    "len(df_user_logs_raw), len(df_user_logs)"
   ]
  },
  {
   "cell_type": "code",
   "execution_count": 25,
   "metadata": {
    "collapsed": true
   },
   "outputs": [],
   "source": [
    "from sklearn.externals import joblib"
   ]
  },
  {
   "cell_type": "code",
   "execution_count": 26,
   "metadata": {},
   "outputs": [
    {
     "name": "stdout",
     "output_type": "stream",
     "text": [
      "CPU times: user 11.2 s, sys: 16.8 s, total: 28 s\n",
      "Wall time: 47.2 s\n"
     ]
    }
   ],
   "source": [
    "%%time\n",
    "\n",
    "# データが大きいのでpickle化\n",
    "fname = os.path.join(data_dir, 'df_user_logs_preprocessed.pickle')\n",
    "joblib.dump(df_user_logs, fname, protocol=3, compress=0)"
   ]
  },
  {
   "cell_type": "code",
   "execution_count": 27,
   "metadata": {
    "collapsed": true
   },
   "outputs": [],
   "source": [
    "# ファイル名\n",
    "fname_desc = os.path.join(output_dir, 'df_user_logs_raw_decribe.csv')\n",
    "fname_desc_2 = os.path.join(output_dir, 'df_user_logs_preprocessed_decribe.csv')\n",
    "\n",
    "# 統計量\n",
    "desc_raw.to_csv(fname_desc)\n",
    "desc_2.to_csv(fname_desc_2)"
   ]
  },
  {
   "cell_type": "code",
   "execution_count": null,
   "metadata": {
    "collapsed": true
   },
   "outputs": [],
   "source": []
  },
  {
   "cell_type": "code",
   "execution_count": null,
   "metadata": {
    "collapsed": true
   },
   "outputs": [],
   "source": []
  }
 ],
 "metadata": {
  "kernelspec": {
   "display_name": "Python 3",
   "language": "python",
   "name": "python3"
  },
  "language_info": {
   "codemirror_mode": {
    "name": "ipython",
    "version": 3
   },
   "file_extension": ".py",
   "mimetype": "text/x-python",
   "name": "python",
   "nbconvert_exporter": "python",
   "pygments_lexer": "ipython3",
   "version": "3.6.5"
  },
  "toc": {
   "colors": {
    "hover_highlight": "#DAA520",
    "navigate_num": "#000000",
    "navigate_text": "#333333",
    "running_highlight": "#FF0000",
    "selected_highlight": "#FFD700",
    "sidebar_border": "#EEEEEE",
    "wrapper_background": "#FFFFFF"
   },
   "moveMenuLeft": true,
   "nav_menu": {
    "height": "84px",
    "width": "252px"
   },
   "navigate_menu": true,
   "number_sections": true,
   "sideBar": true,
   "threshold": 4,
   "toc_cell": false,
   "toc_position": {
    "height": "838px",
    "left": "0px",
    "right": "1468px",
    "top": "106px",
    "width": "212px"
   },
   "toc_section_display": "block",
   "toc_window_display": true,
   "widenNotebook": false
  }
 },
 "nbformat": 4,
 "nbformat_minor": 2
}
