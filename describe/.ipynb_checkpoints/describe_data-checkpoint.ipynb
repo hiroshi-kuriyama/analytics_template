{
 "cells": [
  {
   "cell_type": "markdown",
   "metadata": {},
   "source": [
    "# transactionsデータ\n",
    "- 前処理・可視化"
   ]
  },
  {
   "cell_type": "code",
   "execution_count": 12,
   "metadata": {
    "collapsed": true,
    "scrolled": false
   },
   "outputs": [],
   "source": [
    "import os\n",
    "\n",
    "import numpy as np\n",
    "import pandas as pd\n",
    "import seaborn as sns\n",
    "import matplotlib as mpl\n",
    "import matplotlib.pyplot as plt\n",
    "\n",
    "comma_formatter = mpl.ticker.FuncFormatter(lambda x, _: u'{:,.0f}'.format(x))\n",
    "sns.set(style='darkgrid', context='talk')\n",
    "# mpl.rcParams['font.family'] = 'Meiryo'\n",
    "% matplotlib inline"
   ]
  },
  {
   "cell_type": "code",
   "execution_count": 13,
   "metadata": {
    "collapsed": true
   },
   "outputs": [],
   "source": [
    "data_dir = 'C:/Users/hiroshi_kuriyama/Desktop/新人研修/08_データ分析演習1/01_データ/ローデータ/'\n",
    "# fig_dir = '../figure'\n",
    "# output_dir = '../output'"
   ]
  },
  {
   "cell_type": "code",
   "execution_count": null,
   "metadata": {
    "collapsed": true
   },
   "outputs": [],
   "source": []
  },
  {
   "cell_type": "code",
   "execution_count": null,
   "metadata": {
    "collapsed": true
   },
   "outputs": [],
   "source": []
  },
  {
   "cell_type": "markdown",
   "metadata": {},
   "source": [
    "# データ読み込み"
   ]
  },
  {
   "cell_type": "code",
   "execution_count": 14,
   "metadata": {
    "collapsed": true
   },
   "outputs": [],
   "source": [
    "fname = os.path.join(data_dir, 'transactions.csv.gz')\n",
    "df_transactions_raw = pd.read_csv(fname, dtype=np.object_, parse_dates=['transaction_date', 'membership_expire_date'])"
   ]
  },
  {
   "cell_type": "code",
   "execution_count": 15,
   "metadata": {},
   "outputs": [
    {
     "name": "stdout",
     "output_type": "stream",
     "text": [
      "count: 3,318,230\n"
     ]
    }
   ],
   "source": [
    "print('count: {:,}'.format(len(df_transactions_raw)))"
   ]
  },
  {
   "cell_type": "code",
   "execution_count": 16,
   "metadata": {},
   "outputs": [
    {
     "name": "stdout",
     "output_type": "stream",
     "text": [
      "<class 'pandas.core.frame.DataFrame'>\n",
      "RangeIndex: 3318230 entries, 0 to 3318229\n",
      "Data columns (total 9 columns):\n",
      "msno                      object\n",
      "payment_method_id         object\n",
      "payment_plan_days         object\n",
      "plan_list_price           object\n",
      "actual_amount_paid        object\n",
      "is_auto_renew             object\n",
      "transaction_date          datetime64[ns]\n",
      "membership_expire_date    datetime64[ns]\n",
      "is_cancel                 object\n",
      "dtypes: datetime64[ns](2), object(7)\n",
      "memory usage: 227.8+ MB\n"
     ]
    }
   ],
   "source": [
    "# 概要\n",
    "df_transactions_raw.info()"
   ]
  },
  {
   "cell_type": "code",
   "execution_count": 17,
   "metadata": {
    "scrolled": true
   },
   "outputs": [
    {
     "data": {
      "text/html": [
       "<div>\n",
       "<style scoped>\n",
       "    .dataframe tbody tr th:only-of-type {\n",
       "        vertical-align: middle;\n",
       "    }\n",
       "\n",
       "    .dataframe tbody tr th {\n",
       "        vertical-align: top;\n",
       "    }\n",
       "\n",
       "    .dataframe thead th {\n",
       "        text-align: right;\n",
       "    }\n",
       "</style>\n",
       "<table border=\"1\" class=\"dataframe\">\n",
       "  <thead>\n",
       "    <tr style=\"text-align: right;\">\n",
       "      <th></th>\n",
       "      <th>msno</th>\n",
       "      <th>payment_method_id</th>\n",
       "      <th>payment_plan_days</th>\n",
       "      <th>plan_list_price</th>\n",
       "      <th>actual_amount_paid</th>\n",
       "      <th>is_auto_renew</th>\n",
       "      <th>transaction_date</th>\n",
       "      <th>membership_expire_date</th>\n",
       "      <th>is_cancel</th>\n",
       "    </tr>\n",
       "  </thead>\n",
       "  <tbody>\n",
       "    <tr>\n",
       "      <th>0</th>\n",
       "      <td>++0t0Uy2D3r1pRVxg28G3r3l5PfhFlCPMGElwHqbYL8=</td>\n",
       "      <td>35</td>\n",
       "      <td>7</td>\n",
       "      <td>0</td>\n",
       "      <td>0</td>\n",
       "      <td>0</td>\n",
       "      <td>2015-06-14</td>\n",
       "      <td>2015-06-15</td>\n",
       "      <td>0</td>\n",
       "    </tr>\n",
       "    <tr>\n",
       "      <th>1</th>\n",
       "      <td>++6eU4LsQ3UQ20ILS7d99XK8WbiVgbyYL4FUgzZR134=</td>\n",
       "      <td>38</td>\n",
       "      <td>30</td>\n",
       "      <td>149</td>\n",
       "      <td>149</td>\n",
       "      <td>0</td>\n",
       "      <td>2015-09-29</td>\n",
       "      <td>2015-10-29</td>\n",
       "      <td>0</td>\n",
       "    </tr>\n",
       "    <tr>\n",
       "      <th>2</th>\n",
       "      <td>++1TnybRWMiv1YN2UW5hyicLSm3AhDaU/89lFkZC//8=</td>\n",
       "      <td>41</td>\n",
       "      <td>30</td>\n",
       "      <td>149</td>\n",
       "      <td>0</td>\n",
       "      <td>1</td>\n",
       "      <td>2015-11-14</td>\n",
       "      <td>2015-12-14</td>\n",
       "      <td>0</td>\n",
       "    </tr>\n",
       "    <tr>\n",
       "      <th>3</th>\n",
       "      <td>++6eU4LsQ3UQ20ILS7d99XK8WbiVgbyYL4FUgzZR134=</td>\n",
       "      <td>38</td>\n",
       "      <td>30</td>\n",
       "      <td>149</td>\n",
       "      <td>149</td>\n",
       "      <td>0</td>\n",
       "      <td>2015-10-31</td>\n",
       "      <td>2015-11-30</td>\n",
       "      <td>0</td>\n",
       "    </tr>\n",
       "    <tr>\n",
       "      <th>4</th>\n",
       "      <td>++1TnybRWMiv1YN2UW5hyicLSm3AhDaU/89lFkZC//8=</td>\n",
       "      <td>41</td>\n",
       "      <td>30</td>\n",
       "      <td>149</td>\n",
       "      <td>0</td>\n",
       "      <td>1</td>\n",
       "      <td>2015-12-13</td>\n",
       "      <td>2015-12-13</td>\n",
       "      <td>1</td>\n",
       "    </tr>\n",
       "  </tbody>\n",
       "</table>\n",
       "</div>"
      ],
      "text/plain": [
       "                                           msno payment_method_id  \\\n",
       "0  ++0t0Uy2D3r1pRVxg28G3r3l5PfhFlCPMGElwHqbYL8=                35   \n",
       "1  ++6eU4LsQ3UQ20ILS7d99XK8WbiVgbyYL4FUgzZR134=                38   \n",
       "2  ++1TnybRWMiv1YN2UW5hyicLSm3AhDaU/89lFkZC//8=                41   \n",
       "3  ++6eU4LsQ3UQ20ILS7d99XK8WbiVgbyYL4FUgzZR134=                38   \n",
       "4  ++1TnybRWMiv1YN2UW5hyicLSm3AhDaU/89lFkZC//8=                41   \n",
       "\n",
       "  payment_plan_days plan_list_price actual_amount_paid is_auto_renew  \\\n",
       "0                 7               0                  0             0   \n",
       "1                30             149                149             0   \n",
       "2                30             149                  0             1   \n",
       "3                30             149                149             0   \n",
       "4                30             149                  0             1   \n",
       "\n",
       "  transaction_date membership_expire_date is_cancel  \n",
       "0       2015-06-14             2015-06-15         0  \n",
       "1       2015-09-29             2015-10-29         0  \n",
       "2       2015-11-14             2015-12-14         0  \n",
       "3       2015-10-31             2015-11-30         0  \n",
       "4       2015-12-13             2015-12-13         1  "
      ]
     },
     "execution_count": 17,
     "metadata": {},
     "output_type": "execute_result"
    }
   ],
   "source": [
    "# データの中身を確認\n",
    "df_transactions_raw.head()"
   ]
  },
  {
   "cell_type": "code",
   "execution_count": null,
   "metadata": {
    "collapsed": true
   },
   "outputs": [],
   "source": []
  },
  {
   "cell_type": "markdown",
   "metadata": {},
   "source": [
    "## 統計量"
   ]
  },
  {
   "cell_type": "code",
   "execution_count": 18,
   "metadata": {
    "scrolled": true
   },
   "outputs": [
    {
     "data": {
      "text/html": [
       "<div>\n",
       "<style scoped>\n",
       "    .dataframe tbody tr th:only-of-type {\n",
       "        vertical-align: middle;\n",
       "    }\n",
       "\n",
       "    .dataframe tbody tr th {\n",
       "        vertical-align: top;\n",
       "    }\n",
       "\n",
       "    .dataframe thead th {\n",
       "        text-align: right;\n",
       "    }\n",
       "</style>\n",
       "<table border=\"1\" class=\"dataframe\">\n",
       "  <thead>\n",
       "    <tr style=\"text-align: right;\">\n",
       "      <th></th>\n",
       "      <th>msno</th>\n",
       "      <th>payment_method_id</th>\n",
       "      <th>payment_plan_days</th>\n",
       "      <th>plan_list_price</th>\n",
       "      <th>actual_amount_paid</th>\n",
       "      <th>is_auto_renew</th>\n",
       "      <th>transaction_date</th>\n",
       "      <th>membership_expire_date</th>\n",
       "      <th>is_cancel</th>\n",
       "    </tr>\n",
       "  </thead>\n",
       "  <tbody>\n",
       "    <tr>\n",
       "      <th>count</th>\n",
       "      <td>3318230</td>\n",
       "      <td>3318230</td>\n",
       "      <td>3318230</td>\n",
       "      <td>3318230</td>\n",
       "      <td>3318230</td>\n",
       "      <td>3318230</td>\n",
       "      <td>3318230</td>\n",
       "      <td>3318230</td>\n",
       "      <td>3318230</td>\n",
       "    </tr>\n",
       "    <tr>\n",
       "      <th>unique</th>\n",
       "      <td>403793</td>\n",
       "      <td>40</td>\n",
       "      <td>34</td>\n",
       "      <td>46</td>\n",
       "      <td>48</td>\n",
       "      <td>2</td>\n",
       "      <td>790</td>\n",
       "      <td>821</td>\n",
       "      <td>2</td>\n",
       "    </tr>\n",
       "    <tr>\n",
       "      <th>top</th>\n",
       "      <td>+PhENZHX27M62GNCb9LuaFZ1JdzPQyt1WCDiPwOCg10=</td>\n",
       "      <td>41</td>\n",
       "      <td>30</td>\n",
       "      <td>149</td>\n",
       "      <td>149</td>\n",
       "      <td>1</td>\n",
       "      <td>2016-10-31 00:00:00</td>\n",
       "      <td>2015-06-15 00:00:00</td>\n",
       "      <td>0</td>\n",
       "    </tr>\n",
       "    <tr>\n",
       "      <th>freq</th>\n",
       "      <td>41</td>\n",
       "      <td>1608835</td>\n",
       "      <td>2884922</td>\n",
       "      <td>1953201</td>\n",
       "      <td>1957591</td>\n",
       "      <td>2802224</td>\n",
       "      <td>35139</td>\n",
       "      <td>33025</td>\n",
       "      <td>3199984</td>\n",
       "    </tr>\n",
       "    <tr>\n",
       "      <th>first</th>\n",
       "      <td>NaN</td>\n",
       "      <td>NaN</td>\n",
       "      <td>NaN</td>\n",
       "      <td>NaN</td>\n",
       "      <td>NaN</td>\n",
       "      <td>NaN</td>\n",
       "      <td>2015-01-01 00:00:00</td>\n",
       "      <td>2015-01-01 00:00:00</td>\n",
       "      <td>NaN</td>\n",
       "    </tr>\n",
       "    <tr>\n",
       "      <th>last</th>\n",
       "      <td>NaN</td>\n",
       "      <td>NaN</td>\n",
       "      <td>NaN</td>\n",
       "      <td>NaN</td>\n",
       "      <td>NaN</td>\n",
       "      <td>NaN</td>\n",
       "      <td>2017-02-28 00:00:00</td>\n",
       "      <td>2017-03-31 00:00:00</td>\n",
       "      <td>NaN</td>\n",
       "    </tr>\n",
       "  </tbody>\n",
       "</table>\n",
       "</div>"
      ],
      "text/plain": [
       "                                                msno payment_method_id  \\\n",
       "count                                        3318230           3318230   \n",
       "unique                                        403793                40   \n",
       "top     +PhENZHX27M62GNCb9LuaFZ1JdzPQyt1WCDiPwOCg10=                41   \n",
       "freq                                              41           1608835   \n",
       "first                                            NaN               NaN   \n",
       "last                                             NaN               NaN   \n",
       "\n",
       "       payment_plan_days plan_list_price actual_amount_paid is_auto_renew  \\\n",
       "count            3318230         3318230            3318230       3318230   \n",
       "unique                34              46                 48             2   \n",
       "top                   30             149                149             1   \n",
       "freq             2884922         1953201            1957591       2802224   \n",
       "first                NaN             NaN                NaN           NaN   \n",
       "last                 NaN             NaN                NaN           NaN   \n",
       "\n",
       "           transaction_date membership_expire_date is_cancel  \n",
       "count               3318230                3318230   3318230  \n",
       "unique                  790                    821         2  \n",
       "top     2016-10-31 00:00:00    2015-06-15 00:00:00         0  \n",
       "freq                  35139                  33025   3199984  \n",
       "first   2015-01-01 00:00:00    2015-01-01 00:00:00       NaN  \n",
       "last    2017-02-28 00:00:00    2017-03-31 00:00:00       NaN  "
      ]
     },
     "execution_count": 18,
     "metadata": {},
     "output_type": "execute_result"
    }
   ],
   "source": [
    "desc_raw = df_transactions_raw.describe(include='all')\n",
    "desc_raw"
   ]
  },
  {
   "cell_type": "code",
   "execution_count": 19,
   "metadata": {},
   "outputs": [
    {
     "data": {
      "text/plain": [
       "msno                      False\n",
       "payment_method_id         False\n",
       "payment_plan_days         False\n",
       "plan_list_price           False\n",
       "actual_amount_paid        False\n",
       "is_auto_renew             False\n",
       "transaction_date          False\n",
       "membership_expire_date    False\n",
       "is_cancel                 False\n",
       "dtype: bool"
      ]
     },
     "execution_count": 19,
     "metadata": {},
     "output_type": "execute_result"
    }
   ],
   "source": [
    "# 欠損値\n",
    "df_transactions_raw.isnull().any()"
   ]
  },
  {
   "cell_type": "markdown",
   "metadata": {},
   "source": [
    "欠損値なし"
   ]
  },
  {
   "cell_type": "code",
   "execution_count": null,
   "metadata": {
    "collapsed": true
   },
   "outputs": [],
   "source": []
  },
  {
   "cell_type": "markdown",
   "metadata": {},
   "source": [
    "# 集計・可視化"
   ]
  },
  {
   "cell_type": "markdown",
   "metadata": {},
   "source": [
    "## 度数分布"
   ]
  },
  {
   "cell_type": "code",
   "execution_count": 20,
   "metadata": {},
   "outputs": [
    {
     "data": {
      "text/plain": [
       "41    1608835\n",
       "40     375241\n",
       "38     276622\n",
       "39     265365\n",
       "37     184418\n",
       "34     134481\n",
       "36     125735\n",
       "35      91269\n",
       "33      69020\n",
       "31      46867\n",
       "Name: payment_method_id, dtype: int64"
      ]
     },
     "execution_count": 20,
     "metadata": {},
     "output_type": "execute_result"
    }
   ],
   "source": [
    "payment_method_dist = df_transactions_raw['payment_method_id'].value_counts()\n",
    "payment_method_dist.head(10) # 一部"
   ]
  },
  {
   "cell_type": "code",
   "execution_count": 21,
   "metadata": {},
   "outputs": [
    {
     "data": {
      "text/plain": [
       "41    0.484847\n",
       "40    0.113085\n",
       "38    0.083364\n",
       "39    0.079972\n",
       "37    0.055577\n",
       "34    0.040528\n",
       "36    0.037892\n",
       "35    0.027505\n",
       "33    0.020800\n",
       "31    0.014124\n",
       "Name: payment_method_id, dtype: float64"
      ]
     },
     "execution_count": 21,
     "metadata": {},
     "output_type": "execute_result"
    }
   ],
   "source": [
    "# normalized\n",
    "payment_method_norm_dist = df_transactions_raw['payment_method_id'].value_counts(normalize=1)\n",
    "payment_method_norm_dist.head(10) # 一部"
   ]
  },
  {
   "cell_type": "code",
   "execution_count": 22,
   "metadata": {},
   "outputs": [
    {
     "data": {
      "image/png": "[encoded data removed]",
      "text/plain": [
       "<Figure size 432x288 with 1 Axes>"
      ]
     },
     "metadata": {},
     "output_type": "display_data"
    }
   ],
   "source": [
    "payment_method_norm_dist.plot.bar(color='steelblue')\n",
    "plt.xlabel('payment_method_id')\n",
    "plt.ylabel('Proportion')\n",
    "plt.tight_layout()\n",
    "# plt.savefig(os.path.join(fig_dir, 'barplot_payment_method_id.png'), dpi=200)\n",
    "# - `payment_method_id=41` が半数\n",
    "# - （コードの具体的意味は不明）"
   ]
  },
  {
   "cell_type": "code",
   "execution_count": null,
   "metadata": {
    "collapsed": true
   },
   "outputs": [],
   "source": []
  },
  {
   "cell_type": "code",
   "execution_count": null,
   "metadata": {
    "collapsed": true
   },
   "outputs": [],
   "source": []
  },
  {
   "cell_type": "markdown",
   "metadata": {},
   "source": [
    "## ヒストグラム"
   ]
  },
  {
   "cell_type": "code",
   "execution_count": 27,
   "metadata": {},
   "outputs": [
    {
     "data": {
      "text/plain": [
       "(array([2.436770e+05, 1.740000e+02, 7.888450e+05, 2.124119e+06,\n",
       "        1.058850e+05, 0.000000e+00, 2.000000e+00, 1.692000e+03,\n",
       "        8.700000e+01, 0.000000e+00, 4.700000e+01, 2.618000e+03,\n",
       "        4.212000e+03, 7.704000e+03, 1.100000e+01, 0.000000e+00,\n",
       "        0.000000e+00, 1.440000e+02, 0.000000e+00, 1.030000e+03,\n",
       "        1.000000e+00, 0.000000e+00, 1.940600e+04, 8.720000e+02,\n",
       "        0.000000e+00, 1.270000e+02, 0.000000e+00, 0.000000e+00,\n",
       "        1.000000e+01, 0.000000e+00, 9.260000e+02, 0.000000e+00,\n",
       "        0.000000e+00, 0.000000e+00, 0.000000e+00, 0.000000e+00,\n",
       "        0.000000e+00, 0.000000e+00, 1.000000e+00, 2.150000e+03,\n",
       "        0.000000e+00, 0.000000e+00, 0.000000e+00, 0.000000e+00,\n",
       "        1.447200e+04, 1.000000e+00, 0.000000e+00, 0.000000e+00,\n",
       "        0.000000e+00, 1.700000e+01]),\n",
       " array([   0.,   40.,   80.,  120.,  160.,  200.,  240.,  280.,  320.,\n",
       "         360.,  400.,  440.,  480.,  520.,  560.,  600.,  640.,  680.,\n",
       "         720.,  760.,  800.,  840.,  880.,  920.,  960., 1000., 1040.,\n",
       "        1080., 1120., 1160., 1200., 1240., 1280., 1320., 1360., 1400.,\n",
       "        1440., 1480., 1520., 1560., 1600., 1640., 1680., 1720., 1760.,\n",
       "        1800., 1840., 1880., 1920., 1960., 2000.]),\n",
       " <a list of 50 Patch objects>)"
      ]
     },
     "execution_count": 27,
     "metadata": {},
     "output_type": "execute_result"
    },
    {
     "data": {
      "image/png": "[encoded data removed]",
      "text/plain": [
       "<Figure size 432x288 with 1 Axes>"
      ]
     },
     "metadata": {},
     "output_type": "display_data"
    }
   ],
   "source": [
    "plt.hist(df_transactions_raw['plan_list_price'].astype(float), bins=50)"
   ]
  },
  {
   "cell_type": "code",
   "execution_count": 28,
   "metadata": {},
   "outputs": [
    {
     "data": {
      "text/plain": [
       "<matplotlib.axes._subplots.AxesSubplot at 0x1a64958eb38>"
      ]
     },
     "execution_count": 28,
     "metadata": {},
     "output_type": "execute_result"
    },
    {
     "data": {
      "image/png": "[encoded data removed]",
      "text/plain": [
       "<Figure size 432x288 with 1 Axes>"
      ]
     },
     "metadata": {},
     "output_type": "display_data"
    }
   ],
   "source": [
    "df_transactions_raw['plan_list_price'].astype(float).plot.hist()"
   ]
  },
  {
   "cell_type": "code",
   "execution_count": null,
   "metadata": {},
   "outputs": [],
   "source": []
  },
  {
   "cell_type": "code",
   "execution_count": null,
   "metadata": {
    "collapsed": true
   },
   "outputs": [],
   "source": []
  },
  {
   "cell_type": "markdown",
   "metadata": {},
   "source": [
    "## 散布図"
   ]
  },
  {
   "cell_type": "code",
   "execution_count": 29,
   "metadata": {},
   "outputs": [
    {
     "data": {
      "image/png": "[encoded data removed]",
      "text/plain": [
       "<Figure size 432x288 with 1 Axes>"
      ]
     },
     "metadata": {},
     "output_type": "display_data"
    }
   ],
   "source": [
    "# プランの金額と実際の支払額\n",
    "# （処理負荷軽減のため、1万件サンプリング）\n",
    "cols = ['plan_list_price', 'actual_amount_paid']\n",
    "\n",
    "np.random.seed(0)\n",
    "tmp = df_transactions_raw[cols].astype('float').sample(n=100000)\n",
    "tmp.plot.scatter(cols[0], cols[1], alpha=0.2)\n",
    "plt.tight_layout()\n",
    "# plt.savefig(os.path.join(fig_dir, 'scatter_plan-list-price_vs_actual_amount_paid.png'), dpi=200)\n",
    "\n",
    "# - 概ね一致しているが一部異なっている（割引などか??）"
   ]
  },
  {
   "cell_type": "code",
   "execution_count": null,
   "metadata": {
    "collapsed": true
   },
   "outputs": [],
   "source": []
  },
  {
   "cell_type": "code",
   "execution_count": null,
   "metadata": {
    "collapsed": true
   },
   "outputs": [],
   "source": []
  },
  {
   "cell_type": "markdown",
   "metadata": {},
   "source": [
    "## 折れ線グラフ"
   ]
  },
  {
   "cell_type": "code",
   "execution_count": 44,
   "metadata": {},
   "outputs": [
    {
     "data": {
      "text/plain": [
       "2016-10-31    35139\n",
       "2016-08-31    35060\n",
       "2016-09-30    34375\n",
       "2016-07-31    34115\n",
       "2016-11-30    33812\n",
       "Name: transaction_date, dtype: int64"
      ]
     },
     "execution_count": 44,
     "metadata": {},
     "output_type": "execute_result"
    }
   ],
   "source": [
    "transaction_date_dist = df_transactions_raw.transaction_date.value_counts()\n",
    "transaction_date_dist.head() # 一部"
   ]
  },
  {
   "cell_type": "code",
   "execution_count": 45,
   "metadata": {},
   "outputs": [
    {
     "data": {
      "image/png": "[encoded data removed]",
      "text/plain": [
       "<Figure size 1728x288 with 1 Axes>"
      ]
     },
     "metadata": {},
     "output_type": "display_data"
    }
   ],
   "source": [
    "fig, ax = plt.subplots(figsize=(24, 4))\n",
    "transaction_date_dist.plot(ax=ax) \n",
    "ax.set_title('transaction_date')\n",
    "ax.set_ylabel('Frequency')\n",
    "ax.yaxis.set_major_formatter(comma_formatter)\n",
    "plt.tight_layout()\n",
    "# plt.savefig(os.path.join(fig_dir, 'plot_transaction_date.png'), dpi=200)\n",
    "# - 月末にスパイク"
   ]
  },
  {
   "cell_type": "markdown",
   "metadata": {},
   "source": [
    "### 日付ごと"
   ]
  },
  {
   "cell_type": "code",
   "execution_count": 35,
   "metadata": {},
   "outputs": [
    {
     "data": {
      "image/png": "[encoded data removed]",
      "text/plain": [
       "<Figure size 432x288 with 1 Axes>"
      ]
     },
     "metadata": {},
     "output_type": "display_data"
    }
   ],
   "source": [
    "# transaction_dateの日付のみを取り出し、グルーピングし、それぞれの要素数を数える\n",
    "agg = df_transactions_raw.groupby(df_transactions_raw.transaction_date.dt.day).size()\n",
    "# display(agg)\n",
    "\n",
    "ax = agg.plot()\n",
    "ax.set_xlabel('transaction_date (date)')\n",
    "ax.set_ylabel('propotion')\n",
    "ax.set_title('transactions aggregated by day')\n",
    "ax.yaxis.set_major_formatter(comma_formatter)\n",
    "plt.tight_layout()\n",
    "# - なぜか月末のレコード数が多い"
   ]
  },
  {
   "cell_type": "code",
   "execution_count": null,
   "metadata": {
    "collapsed": true
   },
   "outputs": [],
   "source": []
  },
  {
   "cell_type": "code",
   "execution_count": null,
   "metadata": {
    "collapsed": true
   },
   "outputs": [],
   "source": []
  }
 ],
 "metadata": {
  "kernelspec": {
   "display_name": "Python 3",
   "language": "python",
   "name": "python3"
  },
  "language_info": {
   "codemirror_mode": {
    "name": "ipython",
    "version": 3
   },
   "file_extension": ".py",
   "mimetype": "text/x-python",
   "name": "python",
   "nbconvert_exporter": "python",
   "pygments_lexer": "ipython3",
   "version": "3.6.5"
  },
  "toc": {
   "colors": {
    "hover_highlight": "#DAA520",
    "navigate_num": "#000000",
    "navigate_text": "#333333",
    "running_highlight": "#FF0000",
    "selected_highlight": "#FFD700",
    "sidebar_border": "#EEEEEE",
    "wrapper_background": "#FFFFFF"
   },
   "moveMenuLeft": true,
   "nav_menu": {
    "height": "318px",
    "width": "252px"
   },
   "navigate_menu": true,
   "number_sections": true,
   "sideBar": true,
   "threshold": 4,
   "toc_cell": false,
   "toc_section_display": "block",
   "toc_window_display": true,
   "widenNotebook": false
  }
 },
 "nbformat": 4,
 "nbformat_minor": 2
}
