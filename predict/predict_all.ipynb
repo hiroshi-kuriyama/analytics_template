{
 "cells": [
  {
   "cell_type": "code",
   "execution_count": 20,
   "metadata": {},
   "outputs": [],
   "source": [
    "import numpy as np\n",
    "import pandas as pd\n",
    "import matplotlib.pyplot as plt\n",
    "import datetime\n",
    "import seaborn as sns\n",
    "# seabornのデフォルトパラメータに設定するコマンド\n",
    "sns.set()\n",
    "\n",
    "# 訓練データと検証データに分ける関数\n",
    "from sklearn.model_selection import train_test_split \n",
    "# 混同行列, 予測正解率を求める関数\n",
    "from sklearn.metrics import confusion_matrix, accuracy_score, f1_score, precision_score, recall_score"
   ]
  },
  {
   "cell_type": "code",
   "execution_count": 2,
   "metadata": {},
   "outputs": [],
   "source": [
    "%matplotlib inline"
   ]
  },
  {
   "cell_type": "code",
   "execution_count": 3,
   "metadata": {},
   "outputs": [],
   "source": [
    "tran_blocks = pd.read_csv('C:/Users/hiroshi_kuriyama/Desktop/新人研修/08_データ分析演習1/01_データ/analysis/transactions_last_blocks_with_mem_logs_median.txt', engine='python')"
   ]
  },
  {
   "cell_type": "code",
   "execution_count": 4,
   "metadata": {},
   "outputs": [],
   "source": [
    "# 日付型に変換\n",
    "tran_blocks['initial_date'] = pd.to_datetime(tran_blocks['initial_date'])\n",
    "tran_blocks['last_date'] = pd.to_datetime(tran_blocks['last_date'])\n",
    "tran_blocks['registration_init_time'] = pd.to_datetime(tran_blocks['registration_init_time'])"
   ]
  },
  {
   "cell_type": "code",
   "execution_count": 5,
   "metadata": {},
   "outputs": [],
   "source": [
    "# プラン料金に対して実際に支払った金額の割合\n",
    "\n",
    "tran_blocks['paid_ratio'] = tran_blocks['paid_mean'] / tran_blocks['price_mean']\n",
    "# プラン料金が0のときは0を代入\n",
    "tran_blocks['paid_ratio'] = tran_blocks['paid_ratio'].replace(np.inf, 0)\n",
    "tran_blocks['paid_ratio'] = tran_blocks['paid_ratio'].replace(np.NaN, 0)"
   ]
  },
  {
   "cell_type": "code",
   "execution_count": 6,
   "metadata": {},
   "outputs": [],
   "source": [
    "# membersデータから特徴量作成\n",
    "#city == 1 かどうか\n",
    "tran_blocks['is_city_1'] = (tran_blocks['city'] == 1) * 1\n",
    "\n",
    "\n",
    "#gender == male かどうか\n",
    "#gender == female かどうか\n",
    "# ※NULLはともに0のレコード\n",
    "tran_blocks['is_male'] = (tran_blocks['gender'] == 1) * 1\n",
    "tran_blocks['is_gen_null'] = tran_blocks['gender'].isnull() * 1\n",
    "\n",
    "\n",
    "#registered_via をダミー変数に置き換える\n",
    "ctgl_registered_via = pd.get_dummies(tran_blocks['registered_via'], drop_first=True, prefix='is_registered_via')\n",
    "tran_blocks = pd.concat([tran_blocks, ctgl_registered_via], axis=1)\n",
    "\n",
    "#method_mode をダミー変数に置き換える\n",
    "ctgl_registered_via = pd.get_dummies(tran_blocks['method_mode'], drop_first=True, prefix='is_method_mode')\n",
    "tran_blocks = pd.concat([tran_blocks, ctgl_registered_via], axis=1)"
   ]
  },
  {
   "cell_type": "code",
   "execution_count": 7,
   "metadata": {},
   "outputs": [],
   "source": [
    "# tran_blocks.dtypes"
   ]
  },
  {
   "cell_type": "code",
   "execution_count": 8,
   "metadata": {},
   "outputs": [
    {
     "data": {
      "text/html": [
       "<div>\n",
       "<style scoped>\n",
       "    .dataframe tbody tr th:only-of-type {\n",
       "        vertical-align: middle;\n",
       "    }\n",
       "\n",
       "    .dataframe tbody tr th {\n",
       "        vertical-align: top;\n",
       "    }\n",
       "\n",
       "    .dataframe thead th {\n",
       "        text-align: right;\n",
       "    }\n",
       "</style>\n",
       "<table border=\"1\" class=\"dataframe\">\n",
       "  <thead>\n",
       "    <tr style=\"text-align: right;\">\n",
       "      <th></th>\n",
       "      <th>is_churn</th>\n",
       "      <th>is_cancel</th>\n",
       "      <th>cumul_purchase_num</th>\n",
       "      <th>cumul_valid_days</th>\n",
       "      <th>return_point</th>\n",
       "      <th>transaction_freq</th>\n",
       "      <th>valid_days</th>\n",
       "      <th>price_mean</th>\n",
       "      <th>paid_mean</th>\n",
       "      <th>plan_days_mean</th>\n",
       "      <th>...</th>\n",
       "      <th>is_method_mode_32</th>\n",
       "      <th>is_method_mode_33</th>\n",
       "      <th>is_method_mode_34</th>\n",
       "      <th>is_method_mode_35</th>\n",
       "      <th>is_method_mode_36</th>\n",
       "      <th>is_method_mode_37</th>\n",
       "      <th>is_method_mode_38</th>\n",
       "      <th>is_method_mode_39</th>\n",
       "      <th>is_method_mode_40</th>\n",
       "      <th>is_method_mode_41</th>\n",
       "    </tr>\n",
       "  </thead>\n",
       "  <tbody>\n",
       "    <tr>\n",
       "      <th>count</th>\n",
       "      <td>185896.000000</td>\n",
       "      <td>185896.000000</td>\n",
       "      <td>185896.000000</td>\n",
       "      <td>185896.000000</td>\n",
       "      <td>185896.000000</td>\n",
       "      <td>185896.00000</td>\n",
       "      <td>185896.000000</td>\n",
       "      <td>185896.000000</td>\n",
       "      <td>185896.000000</td>\n",
       "      <td>185896.000000</td>\n",
       "      <td>...</td>\n",
       "      <td>185896.000000</td>\n",
       "      <td>185896.000000</td>\n",
       "      <td>185896.000000</td>\n",
       "      <td>185896.000000</td>\n",
       "      <td>185896.000000</td>\n",
       "      <td>185896.00000</td>\n",
       "      <td>185896.000000</td>\n",
       "      <td>185896.000000</td>\n",
       "      <td>185896.000000</td>\n",
       "      <td>185896.000000</td>\n",
       "    </tr>\n",
       "    <tr>\n",
       "      <th>unique</th>\n",
       "      <td>NaN</td>\n",
       "      <td>NaN</td>\n",
       "      <td>NaN</td>\n",
       "      <td>NaN</td>\n",
       "      <td>NaN</td>\n",
       "      <td>NaN</td>\n",
       "      <td>NaN</td>\n",
       "      <td>NaN</td>\n",
       "      <td>NaN</td>\n",
       "      <td>NaN</td>\n",
       "      <td>...</td>\n",
       "      <td>NaN</td>\n",
       "      <td>NaN</td>\n",
       "      <td>NaN</td>\n",
       "      <td>NaN</td>\n",
       "      <td>NaN</td>\n",
       "      <td>NaN</td>\n",
       "      <td>NaN</td>\n",
       "      <td>NaN</td>\n",
       "      <td>NaN</td>\n",
       "      <td>NaN</td>\n",
       "    </tr>\n",
       "    <tr>\n",
       "      <th>top</th>\n",
       "      <td>NaN</td>\n",
       "      <td>NaN</td>\n",
       "      <td>NaN</td>\n",
       "      <td>NaN</td>\n",
       "      <td>NaN</td>\n",
       "      <td>NaN</td>\n",
       "      <td>NaN</td>\n",
       "      <td>NaN</td>\n",
       "      <td>NaN</td>\n",
       "      <td>NaN</td>\n",
       "      <td>...</td>\n",
       "      <td>NaN</td>\n",
       "      <td>NaN</td>\n",
       "      <td>NaN</td>\n",
       "      <td>NaN</td>\n",
       "      <td>NaN</td>\n",
       "      <td>NaN</td>\n",
       "      <td>NaN</td>\n",
       "      <td>NaN</td>\n",
       "      <td>NaN</td>\n",
       "      <td>NaN</td>\n",
       "    </tr>\n",
       "    <tr>\n",
       "      <th>freq</th>\n",
       "      <td>NaN</td>\n",
       "      <td>NaN</td>\n",
       "      <td>NaN</td>\n",
       "      <td>NaN</td>\n",
       "      <td>NaN</td>\n",
       "      <td>NaN</td>\n",
       "      <td>NaN</td>\n",
       "      <td>NaN</td>\n",
       "      <td>NaN</td>\n",
       "      <td>NaN</td>\n",
       "      <td>...</td>\n",
       "      <td>NaN</td>\n",
       "      <td>NaN</td>\n",
       "      <td>NaN</td>\n",
       "      <td>NaN</td>\n",
       "      <td>NaN</td>\n",
       "      <td>NaN</td>\n",
       "      <td>NaN</td>\n",
       "      <td>NaN</td>\n",
       "      <td>NaN</td>\n",
       "      <td>NaN</td>\n",
       "    </tr>\n",
       "    <tr>\n",
       "      <th>first</th>\n",
       "      <td>NaN</td>\n",
       "      <td>NaN</td>\n",
       "      <td>NaN</td>\n",
       "      <td>NaN</td>\n",
       "      <td>NaN</td>\n",
       "      <td>NaN</td>\n",
       "      <td>NaN</td>\n",
       "      <td>NaN</td>\n",
       "      <td>NaN</td>\n",
       "      <td>NaN</td>\n",
       "      <td>...</td>\n",
       "      <td>NaN</td>\n",
       "      <td>NaN</td>\n",
       "      <td>NaN</td>\n",
       "      <td>NaN</td>\n",
       "      <td>NaN</td>\n",
       "      <td>NaN</td>\n",
       "      <td>NaN</td>\n",
       "      <td>NaN</td>\n",
       "      <td>NaN</td>\n",
       "      <td>NaN</td>\n",
       "    </tr>\n",
       "    <tr>\n",
       "      <th>last</th>\n",
       "      <td>NaN</td>\n",
       "      <td>NaN</td>\n",
       "      <td>NaN</td>\n",
       "      <td>NaN</td>\n",
       "      <td>NaN</td>\n",
       "      <td>NaN</td>\n",
       "      <td>NaN</td>\n",
       "      <td>NaN</td>\n",
       "      <td>NaN</td>\n",
       "      <td>NaN</td>\n",
       "      <td>...</td>\n",
       "      <td>NaN</td>\n",
       "      <td>NaN</td>\n",
       "      <td>NaN</td>\n",
       "      <td>NaN</td>\n",
       "      <td>NaN</td>\n",
       "      <td>NaN</td>\n",
       "      <td>NaN</td>\n",
       "      <td>NaN</td>\n",
       "      <td>NaN</td>\n",
       "      <td>NaN</td>\n",
       "    </tr>\n",
       "    <tr>\n",
       "      <th>mean</th>\n",
       "      <td>0.760377</td>\n",
       "      <td>0.019473</td>\n",
       "      <td>3.782066</td>\n",
       "      <td>158.248139</td>\n",
       "      <td>0.175778</td>\n",
       "      <td>1.52666</td>\n",
       "      <td>85.558081</td>\n",
       "      <td>244.053719</td>\n",
       "      <td>258.738506</td>\n",
       "      <td>56.453284</td>\n",
       "      <td>...</td>\n",
       "      <td>0.065623</td>\n",
       "      <td>0.016617</td>\n",
       "      <td>0.028489</td>\n",
       "      <td>0.215911</td>\n",
       "      <td>0.094273</td>\n",
       "      <td>0.03226</td>\n",
       "      <td>0.243539</td>\n",
       "      <td>0.071406</td>\n",
       "      <td>0.081244</td>\n",
       "      <td>0.052298</td>\n",
       "    </tr>\n",
       "    <tr>\n",
       "      <th>std</th>\n",
       "      <td>0.426855</td>\n",
       "      <td>0.138182</td>\n",
       "      <td>5.106224</td>\n",
       "      <td>238.945980</td>\n",
       "      <td>0.323684</td>\n",
       "      <td>2.20470</td>\n",
       "      <td>133.733644</td>\n",
       "      <td>418.531125</td>\n",
       "      <td>423.525001</td>\n",
       "      <td>98.021804</td>\n",
       "      <td>...</td>\n",
       "      <td>0.247622</td>\n",
       "      <td>0.127831</td>\n",
       "      <td>0.166366</td>\n",
       "      <td>0.411454</td>\n",
       "      <td>0.292209</td>\n",
       "      <td>0.17669</td>\n",
       "      <td>0.429219</td>\n",
       "      <td>0.257502</td>\n",
       "      <td>0.273211</td>\n",
       "      <td>0.222628</td>\n",
       "    </tr>\n",
       "    <tr>\n",
       "      <th>min</th>\n",
       "      <td>0.000000</td>\n",
       "      <td>0.000000</td>\n",
       "      <td>1.000000</td>\n",
       "      <td>-85.000000</td>\n",
       "      <td>0.000000</td>\n",
       "      <td>1.00000</td>\n",
       "      <td>1.000000</td>\n",
       "      <td>0.000000</td>\n",
       "      <td>0.000000</td>\n",
       "      <td>0.000000</td>\n",
       "      <td>...</td>\n",
       "      <td>0.000000</td>\n",
       "      <td>0.000000</td>\n",
       "      <td>0.000000</td>\n",
       "      <td>0.000000</td>\n",
       "      <td>0.000000</td>\n",
       "      <td>0.00000</td>\n",
       "      <td>0.000000</td>\n",
       "      <td>0.000000</td>\n",
       "      <td>0.000000</td>\n",
       "      <td>0.000000</td>\n",
       "    </tr>\n",
       "    <tr>\n",
       "      <th>25%</th>\n",
       "      <td>1.000000</td>\n",
       "      <td>0.000000</td>\n",
       "      <td>1.000000</td>\n",
       "      <td>0.000000</td>\n",
       "      <td>0.000000</td>\n",
       "      <td>1.00000</td>\n",
       "      <td>30.000000</td>\n",
       "      <td>0.000000</td>\n",
       "      <td>74.500000</td>\n",
       "      <td>7.000000</td>\n",
       "      <td>...</td>\n",
       "      <td>0.000000</td>\n",
       "      <td>0.000000</td>\n",
       "      <td>0.000000</td>\n",
       "      <td>0.000000</td>\n",
       "      <td>0.000000</td>\n",
       "      <td>0.00000</td>\n",
       "      <td>0.000000</td>\n",
       "      <td>0.000000</td>\n",
       "      <td>0.000000</td>\n",
       "      <td>0.000000</td>\n",
       "    </tr>\n",
       "    <tr>\n",
       "      <th>50%</th>\n",
       "      <td>1.000000</td>\n",
       "      <td>0.000000</td>\n",
       "      <td>1.000000</td>\n",
       "      <td>4.000000</td>\n",
       "      <td>0.000000</td>\n",
       "      <td>1.00000</td>\n",
       "      <td>31.000000</td>\n",
       "      <td>149.000000</td>\n",
       "      <td>149.000000</td>\n",
       "      <td>30.000000</td>\n",
       "      <td>...</td>\n",
       "      <td>0.000000</td>\n",
       "      <td>0.000000</td>\n",
       "      <td>0.000000</td>\n",
       "      <td>0.000000</td>\n",
       "      <td>0.000000</td>\n",
       "      <td>0.00000</td>\n",
       "      <td>0.000000</td>\n",
       "      <td>0.000000</td>\n",
       "      <td>0.000000</td>\n",
       "      <td>0.000000</td>\n",
       "    </tr>\n",
       "    <tr>\n",
       "      <th>75%</th>\n",
       "      <td>1.000000</td>\n",
       "      <td>0.000000</td>\n",
       "      <td>4.000000</td>\n",
       "      <td>278.000000</td>\n",
       "      <td>0.142857</td>\n",
       "      <td>1.00000</td>\n",
       "      <td>54.000000</td>\n",
       "      <td>150.000000</td>\n",
       "      <td>150.000000</td>\n",
       "      <td>30.000000</td>\n",
       "      <td>...</td>\n",
       "      <td>0.000000</td>\n",
       "      <td>0.000000</td>\n",
       "      <td>0.000000</td>\n",
       "      <td>0.000000</td>\n",
       "      <td>0.000000</td>\n",
       "      <td>0.00000</td>\n",
       "      <td>0.000000</td>\n",
       "      <td>0.000000</td>\n",
       "      <td>0.000000</td>\n",
       "      <td>0.000000</td>\n",
       "    </tr>\n",
       "    <tr>\n",
       "      <th>max</th>\n",
       "      <td>1.000000</td>\n",
       "      <td>1.000000</td>\n",
       "      <td>31.000000</td>\n",
       "      <td>1466.000000</td>\n",
       "      <td>1.000000</td>\n",
       "      <td>36.00000</td>\n",
       "      <td>765.000000</td>\n",
       "      <td>2000.000000</td>\n",
       "      <td>2000.000000</td>\n",
       "      <td>450.000000</td>\n",
       "      <td>...</td>\n",
       "      <td>1.000000</td>\n",
       "      <td>1.000000</td>\n",
       "      <td>1.000000</td>\n",
       "      <td>1.000000</td>\n",
       "      <td>1.000000</td>\n",
       "      <td>1.00000</td>\n",
       "      <td>1.000000</td>\n",
       "      <td>1.000000</td>\n",
       "      <td>1.000000</td>\n",
       "      <td>1.000000</td>\n",
       "    </tr>\n",
       "  </tbody>\n",
       "</table>\n",
       "<p>13 rows × 70 columns</p>\n",
       "</div>"
      ],
      "text/plain": [
       "             is_churn      is_cancel  cumul_purchase_num  cumul_valid_days  \\\n",
       "count   185896.000000  185896.000000       185896.000000     185896.000000   \n",
       "unique            NaN            NaN                 NaN               NaN   \n",
       "top               NaN            NaN                 NaN               NaN   \n",
       "freq              NaN            NaN                 NaN               NaN   \n",
       "first             NaN            NaN                 NaN               NaN   \n",
       "last              NaN            NaN                 NaN               NaN   \n",
       "mean         0.760377       0.019473            3.782066        158.248139   \n",
       "std          0.426855       0.138182            5.106224        238.945980   \n",
       "min          0.000000       0.000000            1.000000        -85.000000   \n",
       "25%          1.000000       0.000000            1.000000          0.000000   \n",
       "50%          1.000000       0.000000            1.000000          4.000000   \n",
       "75%          1.000000       0.000000            4.000000        278.000000   \n",
       "max          1.000000       1.000000           31.000000       1466.000000   \n",
       "\n",
       "         return_point  transaction_freq     valid_days     price_mean  \\\n",
       "count   185896.000000      185896.00000  185896.000000  185896.000000   \n",
       "unique            NaN               NaN            NaN            NaN   \n",
       "top               NaN               NaN            NaN            NaN   \n",
       "freq              NaN               NaN            NaN            NaN   \n",
       "first             NaN               NaN            NaN            NaN   \n",
       "last              NaN               NaN            NaN            NaN   \n",
       "mean         0.175778           1.52666      85.558081     244.053719   \n",
       "std          0.323684           2.20470     133.733644     418.531125   \n",
       "min          0.000000           1.00000       1.000000       0.000000   \n",
       "25%          0.000000           1.00000      30.000000       0.000000   \n",
       "50%          0.000000           1.00000      31.000000     149.000000   \n",
       "75%          0.142857           1.00000      54.000000     150.000000   \n",
       "max          1.000000          36.00000     765.000000    2000.000000   \n",
       "\n",
       "            paid_mean  plan_days_mean        ...          is_method_mode_32  \\\n",
       "count   185896.000000   185896.000000        ...              185896.000000   \n",
       "unique            NaN             NaN        ...                        NaN   \n",
       "top               NaN             NaN        ...                        NaN   \n",
       "freq              NaN             NaN        ...                        NaN   \n",
       "first             NaN             NaN        ...                        NaN   \n",
       "last              NaN             NaN        ...                        NaN   \n",
       "mean       258.738506       56.453284        ...                   0.065623   \n",
       "std        423.525001       98.021804        ...                   0.247622   \n",
       "min          0.000000        0.000000        ...                   0.000000   \n",
       "25%         74.500000        7.000000        ...                   0.000000   \n",
       "50%        149.000000       30.000000        ...                   0.000000   \n",
       "75%        150.000000       30.000000        ...                   0.000000   \n",
       "max       2000.000000      450.000000        ...                   1.000000   \n",
       "\n",
       "        is_method_mode_33  is_method_mode_34  is_method_mode_35  \\\n",
       "count       185896.000000      185896.000000      185896.000000   \n",
       "unique                NaN                NaN                NaN   \n",
       "top                   NaN                NaN                NaN   \n",
       "freq                  NaN                NaN                NaN   \n",
       "first                 NaN                NaN                NaN   \n",
       "last                  NaN                NaN                NaN   \n",
       "mean             0.016617           0.028489           0.215911   \n",
       "std              0.127831           0.166366           0.411454   \n",
       "min              0.000000           0.000000           0.000000   \n",
       "25%              0.000000           0.000000           0.000000   \n",
       "50%              0.000000           0.000000           0.000000   \n",
       "75%              0.000000           0.000000           0.000000   \n",
       "max              1.000000           1.000000           1.000000   \n",
       "\n",
       "       is_method_mode_36 is_method_mode_37 is_method_mode_38  \\\n",
       "count      185896.000000      185896.00000     185896.000000   \n",
       "unique               NaN               NaN               NaN   \n",
       "top                  NaN               NaN               NaN   \n",
       "freq                 NaN               NaN               NaN   \n",
       "first                NaN               NaN               NaN   \n",
       "last                 NaN               NaN               NaN   \n",
       "mean            0.094273           0.03226          0.243539   \n",
       "std             0.292209           0.17669          0.429219   \n",
       "min             0.000000           0.00000          0.000000   \n",
       "25%             0.000000           0.00000          0.000000   \n",
       "50%             0.000000           0.00000          0.000000   \n",
       "75%             0.000000           0.00000          0.000000   \n",
       "max             1.000000           1.00000          1.000000   \n",
       "\n",
       "        is_method_mode_39  is_method_mode_40  is_method_mode_41  \n",
       "count       185896.000000      185896.000000      185896.000000  \n",
       "unique                NaN                NaN                NaN  \n",
       "top                   NaN                NaN                NaN  \n",
       "freq                  NaN                NaN                NaN  \n",
       "first                 NaN                NaN                NaN  \n",
       "last                  NaN                NaN                NaN  \n",
       "mean             0.071406           0.081244           0.052298  \n",
       "std              0.257502           0.273211           0.222628  \n",
       "min              0.000000           0.000000           0.000000  \n",
       "25%              0.000000           0.000000           0.000000  \n",
       "50%              0.000000           0.000000           0.000000  \n",
       "75%              0.000000           0.000000           0.000000  \n",
       "max              1.000000           1.000000           1.000000  \n",
       "\n",
       "[13 rows x 70 columns]"
      ]
     },
     "execution_count": 8,
     "metadata": {},
     "output_type": "execute_result"
    }
   ],
   "source": [
    "tran_blocks.describe(include='all')"
   ]
  },
  {
   "cell_type": "code",
   "execution_count": 9,
   "metadata": {},
   "outputs": [],
   "source": [
    "# 欠損値があるか確認\n",
    "#tran_blocks.isnull().any() "
   ]
  },
  {
   "cell_type": "code",
   "execution_count": 10,
   "metadata": {},
   "outputs": [],
   "source": [
    "#tran_blocks.columns"
   ]
  },
  {
   "cell_type": "code",
   "execution_count": 11,
   "metadata": {},
   "outputs": [
    {
     "name": "stdout",
     "output_type": "stream",
     "text": [
      "shape of X and y for training:  (148716, 37) (148716,)\n",
      "shape of X and y for testing:  (37180, 37) (37180,)\n"
     ]
    }
   ],
   "source": [
    "# 乱数の種を設定\n",
    "np.random.seed(10) # 訓練データとテストデータに分ける際に, データの再現性を得られるようにする\n",
    "\n",
    "# 特徴量と目的変数に分ける\n",
    "X_kk = tran_blocks[['is_cancel', 'cumul_purchase_num', 'transaction_freq',\n",
    "       'valid_days', 'price_mean', 'paid_mean', 'plan_days_mean',\n",
    "       'plan_days_mode', 'price_mode', \n",
    "       'total_secs_per_day', 'num_unq_per_day', 'on_ratio', 'off_days_before_expire',\n",
    "        'paid_ratio', 'is_city_1',  'is_male', 'is_gen_null',\n",
    "       'is_registered_via_4', 'is_registered_via_7',\n",
    "       'is_registered_via_9', 'is_registered_via_13',\n",
    "        'is_method_mode_20',\n",
    "       'is_method_mode_22',\n",
    "       'is_method_mode_28', 'is_method_mode_29',\n",
    "       'is_method_mode_30', 'is_method_mode_31', 'is_method_mode_32',\n",
    "       'is_method_mode_33', 'is_method_mode_34', 'is_method_mode_35',\n",
    "       'is_method_mode_36', 'is_method_mode_37', 'is_method_mode_38',\n",
    "       'is_method_mode_39', 'is_method_mode_40', 'is_method_mode_41']]\n",
    "y_kk = tran_blocks['is_churn']\n",
    "\n",
    "# 特徴量名を取り出しておく\n",
    "feature_x_kk = X_kk.columns\n",
    "feature_y_kk = y_kk.name\n",
    "\n",
    "# 学習データと評価データに分ける\n",
    "X_kk_train, X_kk_test, y_kk_train, y_kk_test = train_test_split(X_kk, y_kk, test_size=0.2, random_state=0)\n",
    "print(\"shape of X and y for training: \", X_kk_train.shape, y_kk_train.shape)\n",
    "print(\"shape of X and y for testing: \", X_kk_test.shape, y_kk_test.shape)"
   ]
  },
  {
   "cell_type": "code",
   "execution_count": 12,
   "metadata": {},
   "outputs": [
    {
     "data": {
      "text/plain": [
       "is_churn    0.5\n",
       "dtype: float64"
      ]
     },
     "execution_count": 12,
     "metadata": {},
     "output_type": "execute_result"
    }
   ],
   "source": [
    "# 離反、再購読の割合を1:1にする\n",
    "kk_test = pd.concat([y_kk_test, X_kk_test], axis=1)\n",
    "kk_test_return = kk_test.query('is_churn == 0')\n",
    "kk_test_return_num = len(kk_test_return)\n",
    "kk_test_churn_sam = kk_test.query('is_churn == 1').sample(n=kk_test_return_num, random_state=0)\n",
    "kk_test_sam = pd.concat([kk_test_return, kk_test_churn_sam], axis=0)\n",
    "\n",
    "X_kk_test = kk_test_sam.iloc[:,1:]\n",
    "y_kk_test = kk_test_sam.iloc[:,:1]\n",
    "\n",
    "y_kk_test.mean()"
   ]
  },
  {
   "cell_type": "markdown",
   "metadata": {},
   "source": [
    "### 分類木"
   ]
  },
  {
   "cell_type": "code",
   "execution_count": 13,
   "metadata": {},
   "outputs": [
    {
     "ename": "ModuleNotFoundError",
     "evalue": "No module named 'pydotplus'",
     "output_type": "error",
     "traceback": [
      "\u001b[1;31m---------------------------------------------------------------------------\u001b[0m",
      "\u001b[1;31mModuleNotFoundError\u001b[0m                       Traceback (most recent call last)",
      "\u001b[1;32m<ipython-input-13-0f773a4d6aec>\u001b[0m in \u001b[0;36m<module>\u001b[1;34m()\u001b[0m\n\u001b[0;32m      4\u001b[0m \u001b[1;32mfrom\u001b[0m \u001b[0msklearn\u001b[0m\u001b[1;33m.\u001b[0m\u001b[0mexternals\u001b[0m\u001b[1;33m.\u001b[0m\u001b[0msix\u001b[0m \u001b[1;32mimport\u001b[0m \u001b[0mStringIO\u001b[0m\u001b[1;33m\u001b[0m\u001b[0m\n\u001b[0;32m      5\u001b[0m \u001b[1;32mfrom\u001b[0m \u001b[0mIPython\u001b[0m\u001b[1;33m.\u001b[0m\u001b[0mdisplay\u001b[0m \u001b[1;32mimport\u001b[0m \u001b[0mImage\u001b[0m\u001b[1;33m\u001b[0m\u001b[0m\n\u001b[1;32m----> 6\u001b[1;33m \u001b[1;32mimport\u001b[0m \u001b[0mpydotplus\u001b[0m\u001b[1;33m\u001b[0m\u001b[0m\n\u001b[0m",
      "\u001b[1;31mModuleNotFoundError\u001b[0m: No module named 'pydotplus'"
     ]
    }
   ],
   "source": [
    "from sklearn.tree import DecisionTreeClassifier\n",
    "# 以下, 決定木の可視化のための関数\n",
    "from sklearn.tree import export_graphviz\n",
    "from sklearn.externals.six import StringIO\n",
    "from IPython.display import Image\n",
    "import pydotplus"
   ]
  },
  {
   "cell_type": "markdown",
   "metadata": {},
   "source": [
    "* DecisionTreeClassifier:\n",
    "    * random_state: 乱数のシード\n",
    "    * max_depth: 木の深さ"
   ]
  },
  {
   "cell_type": "code",
   "execution_count": null,
   "metadata": {
    "scrolled": false
   },
   "outputs": [],
   "source": [
    "# 学習\n",
    "clf_dt_kk = DecisionTreeClassifier(random_state = 0, max_depth = 3)\n",
    "clf_dt_kk.fit(X=X_kk_train, y=y_kk_train)"
   ]
  },
  {
   "cell_type": "code",
   "execution_count": null,
   "metadata": {
    "collapsed": true
   },
   "outputs": [],
   "source": [
    "# 予測\n",
    "mat_dt_kk_prob = clf_dt_kk.predict_proba(X_kk_test) # 予測確率\n",
    "y_dt_kk_pred = clf_dt_kk.predict(X_kk_test) # 予測クラス"
   ]
  },
  {
   "cell_type": "code",
   "execution_count": null,
   "metadata": {
    "scrolled": true
   },
   "outputs": [],
   "source": [
    "# 分類木をプロット\n",
    "dot_data = StringIO()\n",
    "export_graphviz(decision_tree = clf_dt_kk, \n",
    "                out_file = dot_data, \n",
    "                feature_names = feature_x_kk,\n",
    "                class_names = [\"churn\", \"returned\"])\n",
    "graph = pydotplus.graph_from_dot_data(dot_data.getvalue())\n",
    "Image(graph.create_png())"
   ]
  },
  {
   "cell_type": "code",
   "execution_count": null,
   "metadata": {},
   "outputs": [],
   "source": [
    "# 混同行列・正解率確認\n",
    "cm_dt_kk = confusion_matrix(y_kk_test, y_dt_kk_pred)\n",
    "acc_dt_kk = accuracy_score(y_kk_test, y_dt_kk_pred)\n",
    "f1_dt_kk = f1_score(y_kk_test, y_dt_kk_pred)\n",
    "rec_dt_kk = recall_score(y_kk_test, y_dt_kk_pred)\n",
    "prec_dt_kk = precision_score(y_kk_test, y_dt_kk_pred)\n",
    "print(\"confusion matrix: \\n\", cm_dt_kk)\n",
    "print(\"accuracy: \\n\", acc_dt_kk)\n",
    "print(\"f1: \\n\", f1_dt_kk)\n",
    "print(\"recall: \\n\", rec_dt_kk)\n",
    "print(\"precision: \\n\", prec_dt_kk)"
   ]
  },
  {
   "cell_type": "code",
   "execution_count": null,
   "metadata": {},
   "outputs": [],
   "source": []
  },
  {
   "cell_type": "markdown",
   "metadata": {},
   "source": [
    "### ロジスティック回帰"
   ]
  },
  {
   "cell_type": "code",
   "execution_count": 14,
   "metadata": {},
   "outputs": [
    {
     "name": "stdout",
     "output_type": "stream",
     "text": [
      "Optimization terminated successfully.\n",
      "         Current function value: 0.280579\n",
      "         Iterations 9\n"
     ]
    },
    {
     "data": {
      "text/html": [
       "<table class=\"simpletable\">\n",
       "<caption>Logit Regression Results</caption>\n",
       "<tr>\n",
       "  <th>Dep. Variable:</th>     <td>is_churn</td>     <th>  No. Observations:  </th>  <td>148716</td> \n",
       "</tr>\n",
       "<tr>\n",
       "  <th>Model:</th>               <td>Logit</td>      <th>  Df Residuals:      </th>  <td>148679</td> \n",
       "</tr>\n",
       "<tr>\n",
       "  <th>Method:</th>               <td>MLE</td>       <th>  Df Model:          </th>  <td>    36</td> \n",
       "</tr>\n",
       "<tr>\n",
       "  <th>Date:</th>          <td>Mon, 18 Jun 2018</td> <th>  Pseudo R-squ.:     </th>  <td>0.4905</td> \n",
       "</tr>\n",
       "<tr>\n",
       "  <th>Time:</th>              <td>12:16:25</td>     <th>  Log-Likelihood:    </th> <td> -41727.</td>\n",
       "</tr>\n",
       "<tr>\n",
       "  <th>converged:</th>           <td>True</td>       <th>  LL-Null:           </th> <td> -81902.</td>\n",
       "</tr>\n",
       "<tr>\n",
       "  <th> </th>                      <td> </td>        <th>  LLR p-value:       </th>  <td> 0.000</td> \n",
       "</tr>\n",
       "</table>\n",
       "<table class=\"simpletable\">\n",
       "<tr>\n",
       "             <td></td>               <th>coef</th>     <th>std err</th>      <th>z</th>      <th>P>|z|</th>  <th>[0.025</th>    <th>0.975]</th>  \n",
       "</tr>\n",
       "<tr>\n",
       "  <th>is_cancel</th>              <td>    0.9681</td> <td>    0.067</td> <td>   14.388</td> <td> 0.000</td> <td>    0.836</td> <td>    1.100</td>\n",
       "</tr>\n",
       "<tr>\n",
       "  <th>cumul_purchase_num</th>     <td>   -0.1865</td> <td>    0.002</td> <td>  -80.956</td> <td> 0.000</td> <td>   -0.191</td> <td>   -0.182</td>\n",
       "</tr>\n",
       "<tr>\n",
       "  <th>transaction_freq</th>       <td>   -0.1736</td> <td>    0.010</td> <td>  -17.844</td> <td> 0.000</td> <td>   -0.193</td> <td>   -0.155</td>\n",
       "</tr>\n",
       "<tr>\n",
       "  <th>valid_days</th>             <td>    0.0025</td> <td>    0.000</td> <td>    9.042</td> <td> 0.000</td> <td>    0.002</td> <td>    0.003</td>\n",
       "</tr>\n",
       "<tr>\n",
       "  <th>price_mean</th>             <td>   -0.0124</td> <td>    0.001</td> <td>  -15.335</td> <td> 0.000</td> <td>   -0.014</td> <td>   -0.011</td>\n",
       "</tr>\n",
       "<tr>\n",
       "  <th>paid_mean</th>              <td>    0.0080</td> <td>    0.000</td> <td>   17.399</td> <td> 0.000</td> <td>    0.007</td> <td>    0.009</td>\n",
       "</tr>\n",
       "<tr>\n",
       "  <th>plan_days_mean</th>         <td>    0.0266</td> <td>    0.003</td> <td>    8.849</td> <td> 0.000</td> <td>    0.021</td> <td>    0.033</td>\n",
       "</tr>\n",
       "<tr>\n",
       "  <th>plan_days_mode</th>         <td>   -0.0059</td> <td>    0.002</td> <td>   -2.412</td> <td> 0.016</td> <td>   -0.011</td> <td>   -0.001</td>\n",
       "</tr>\n",
       "<tr>\n",
       "  <th>price_mode</th>             <td>    0.0007</td> <td>    0.001</td> <td>    1.177</td> <td> 0.239</td> <td>   -0.000</td> <td>    0.002</td>\n",
       "</tr>\n",
       "<tr>\n",
       "  <th>total_secs_per_day</th>     <td> 8.325e-06</td> <td> 2.55e-06</td> <td>    3.259</td> <td> 0.001</td> <td> 3.32e-06</td> <td> 1.33e-05</td>\n",
       "</tr>\n",
       "<tr>\n",
       "  <th>num_unq_per_day</th>        <td>   -0.0030</td> <td>    0.001</td> <td>   -4.170</td> <td> 0.000</td> <td>   -0.004</td> <td>   -0.002</td>\n",
       "</tr>\n",
       "<tr>\n",
       "  <th>on_ratio</th>               <td>   -0.7593</td> <td>    0.037</td> <td>  -20.402</td> <td> 0.000</td> <td>   -0.832</td> <td>   -0.686</td>\n",
       "</tr>\n",
       "<tr>\n",
       "  <th>off_days_before_expire</th> <td>    0.0149</td> <td>    0.001</td> <td>   15.229</td> <td> 0.000</td> <td>    0.013</td> <td>    0.017</td>\n",
       "</tr>\n",
       "<tr>\n",
       "  <th>paid_ratio</th>             <td>   -0.0154</td> <td>    0.041</td> <td>   -0.375</td> <td> 0.708</td> <td>   -0.096</td> <td>    0.065</td>\n",
       "</tr>\n",
       "<tr>\n",
       "  <th>is_city_1</th>              <td>    0.2484</td> <td>    0.030</td> <td>    8.182</td> <td> 0.000</td> <td>    0.189</td> <td>    0.308</td>\n",
       "</tr>\n",
       "<tr>\n",
       "  <th>is_male</th>                <td>    0.1132</td> <td>    0.021</td> <td>    5.400</td> <td> 0.000</td> <td>    0.072</td> <td>    0.154</td>\n",
       "</tr>\n",
       "<tr>\n",
       "  <th>is_gen_null</th>            <td>   -0.0314</td> <td>    0.030</td> <td>   -1.058</td> <td> 0.290</td> <td>   -0.090</td> <td>    0.027</td>\n",
       "</tr>\n",
       "<tr>\n",
       "  <th>is_registered_via_4</th>    <td>   -0.4613</td> <td>    0.028</td> <td>  -16.676</td> <td> 0.000</td> <td>   -0.516</td> <td>   -0.407</td>\n",
       "</tr>\n",
       "<tr>\n",
       "  <th>is_registered_via_7</th>    <td>   -0.2922</td> <td>    0.056</td> <td>   -5.256</td> <td> 0.000</td> <td>   -0.401</td> <td>   -0.183</td>\n",
       "</tr>\n",
       "<tr>\n",
       "  <th>is_registered_via_9</th>    <td>    0.3194</td> <td>    0.021</td> <td>   15.384</td> <td> 0.000</td> <td>    0.279</td> <td>    0.360</td>\n",
       "</tr>\n",
       "<tr>\n",
       "  <th>is_registered_via_13</th>   <td>   -2.9974</td> <td>    0.719</td> <td>   -4.168</td> <td> 0.000</td> <td>   -4.407</td> <td>   -1.588</td>\n",
       "</tr>\n",
       "<tr>\n",
       "  <th>is_method_mode_20</th>      <td>    2.3039</td> <td>    0.088</td> <td>   26.207</td> <td> 0.000</td> <td>    2.132</td> <td>    2.476</td>\n",
       "</tr>\n",
       "<tr>\n",
       "  <th>is_method_mode_22</th>      <td>    1.7991</td> <td>    0.128</td> <td>   14.109</td> <td> 0.000</td> <td>    1.549</td> <td>    2.049</td>\n",
       "</tr>\n",
       "<tr>\n",
       "  <th>is_method_mode_28</th>      <td>    3.0358</td> <td>    0.082</td> <td>   36.896</td> <td> 0.000</td> <td>    2.875</td> <td>    3.197</td>\n",
       "</tr>\n",
       "<tr>\n",
       "  <th>is_method_mode_29</th>      <td>    1.5594</td> <td>    0.054</td> <td>   28.876</td> <td> 0.000</td> <td>    1.454</td> <td>    1.665</td>\n",
       "</tr>\n",
       "<tr>\n",
       "  <th>is_method_mode_30</th>      <td>   -1.5756</td> <td>    0.123</td> <td>  -12.828</td> <td> 0.000</td> <td>   -1.816</td> <td>   -1.335</td>\n",
       "</tr>\n",
       "<tr>\n",
       "  <th>is_method_mode_31</th>      <td>    3.1983</td> <td>    0.187</td> <td>   17.069</td> <td> 0.000</td> <td>    2.831</td> <td>    3.566</td>\n",
       "</tr>\n",
       "<tr>\n",
       "  <th>is_method_mode_32</th>      <td>    1.1562</td> <td>    0.066</td> <td>   17.419</td> <td> 0.000</td> <td>    1.026</td> <td>    1.286</td>\n",
       "</tr>\n",
       "<tr>\n",
       "  <th>is_method_mode_33</th>      <td>    2.8514</td> <td>    0.132</td> <td>   21.624</td> <td> 0.000</td> <td>    2.593</td> <td>    3.110</td>\n",
       "</tr>\n",
       "<tr>\n",
       "  <th>is_method_mode_34</th>      <td>    3.5632</td> <td>    0.149</td> <td>   23.919</td> <td> 0.000</td> <td>    3.271</td> <td>    3.855</td>\n",
       "</tr>\n",
       "<tr>\n",
       "  <th>is_method_mode_35</th>      <td>    5.6457</td> <td>    0.079</td> <td>   71.730</td> <td> 0.000</td> <td>    5.491</td> <td>    5.800</td>\n",
       "</tr>\n",
       "<tr>\n",
       "  <th>is_method_mode_36</th>      <td>    1.3540</td> <td>    0.045</td> <td>   30.182</td> <td> 0.000</td> <td>    1.266</td> <td>    1.442</td>\n",
       "</tr>\n",
       "<tr>\n",
       "  <th>is_method_mode_37</th>      <td>   -0.1499</td> <td>    0.066</td> <td>   -2.282</td> <td> 0.022</td> <td>   -0.279</td> <td>   -0.021</td>\n",
       "</tr>\n",
       "<tr>\n",
       "  <th>is_method_mode_38</th>      <td>    2.6200</td> <td>    0.042</td> <td>   61.896</td> <td> 0.000</td> <td>    2.537</td> <td>    2.703</td>\n",
       "</tr>\n",
       "<tr>\n",
       "  <th>is_method_mode_39</th>      <td>    3.6524</td> <td>    0.060</td> <td>   60.712</td> <td> 0.000</td> <td>    3.534</td> <td>    3.770</td>\n",
       "</tr>\n",
       "<tr>\n",
       "  <th>is_method_mode_40</th>      <td>   -0.2607</td> <td>    0.049</td> <td>   -5.319</td> <td> 0.000</td> <td>   -0.357</td> <td>   -0.165</td>\n",
       "</tr>\n",
       "<tr>\n",
       "  <th>is_method_mode_41</th>      <td>    3.2970</td> <td>    0.084</td> <td>   39.427</td> <td> 0.000</td> <td>    3.133</td> <td>    3.461</td>\n",
       "</tr>\n",
       "</table>"
      ],
      "text/plain": [
       "<class 'statsmodels.iolib.summary.Summary'>\n",
       "\"\"\"\n",
       "                           Logit Regression Results                           \n",
       "==============================================================================\n",
       "Dep. Variable:               is_churn   No. Observations:               148716\n",
       "Model:                          Logit   Df Residuals:                   148679\n",
       "Method:                           MLE   Df Model:                           36\n",
       "Date:                Mon, 18 Jun 2018   Pseudo R-squ.:                  0.4905\n",
       "Time:                        12:16:25   Log-Likelihood:                -41727.\n",
       "converged:                       True   LL-Null:                       -81902.\n",
       "                                        LLR p-value:                     0.000\n",
       "==========================================================================================\n",
       "                             coef    std err          z      P>|z|      [0.025      0.975]\n",
       "------------------------------------------------------------------------------------------\n",
       "is_cancel                  0.9681      0.067     14.388      0.000       0.836       1.100\n",
       "cumul_purchase_num        -0.1865      0.002    -80.956      0.000      -0.191      -0.182\n",
       "transaction_freq          -0.1736      0.010    -17.844      0.000      -0.193      -0.155\n",
       "valid_days                 0.0025      0.000      9.042      0.000       0.002       0.003\n",
       "price_mean                -0.0124      0.001    -15.335      0.000      -0.014      -0.011\n",
       "paid_mean                  0.0080      0.000     17.399      0.000       0.007       0.009\n",
       "plan_days_mean             0.0266      0.003      8.849      0.000       0.021       0.033\n",
       "plan_days_mode            -0.0059      0.002     -2.412      0.016      -0.011      -0.001\n",
       "price_mode                 0.0007      0.001      1.177      0.239      -0.000       0.002\n",
       "total_secs_per_day      8.325e-06   2.55e-06      3.259      0.001    3.32e-06    1.33e-05\n",
       "num_unq_per_day           -0.0030      0.001     -4.170      0.000      -0.004      -0.002\n",
       "on_ratio                  -0.7593      0.037    -20.402      0.000      -0.832      -0.686\n",
       "off_days_before_expire     0.0149      0.001     15.229      0.000       0.013       0.017\n",
       "paid_ratio                -0.0154      0.041     -0.375      0.708      -0.096       0.065\n",
       "is_city_1                  0.2484      0.030      8.182      0.000       0.189       0.308\n",
       "is_male                    0.1132      0.021      5.400      0.000       0.072       0.154\n",
       "is_gen_null               -0.0314      0.030     -1.058      0.290      -0.090       0.027\n",
       "is_registered_via_4       -0.4613      0.028    -16.676      0.000      -0.516      -0.407\n",
       "is_registered_via_7       -0.2922      0.056     -5.256      0.000      -0.401      -0.183\n",
       "is_registered_via_9        0.3194      0.021     15.384      0.000       0.279       0.360\n",
       "is_registered_via_13      -2.9974      0.719     -4.168      0.000      -4.407      -1.588\n",
       "is_method_mode_20          2.3039      0.088     26.207      0.000       2.132       2.476\n",
       "is_method_mode_22          1.7991      0.128     14.109      0.000       1.549       2.049\n",
       "is_method_mode_28          3.0358      0.082     36.896      0.000       2.875       3.197\n",
       "is_method_mode_29          1.5594      0.054     28.876      0.000       1.454       1.665\n",
       "is_method_mode_30         -1.5756      0.123    -12.828      0.000      -1.816      -1.335\n",
       "is_method_mode_31          3.1983      0.187     17.069      0.000       2.831       3.566\n",
       "is_method_mode_32          1.1562      0.066     17.419      0.000       1.026       1.286\n",
       "is_method_mode_33          2.8514      0.132     21.624      0.000       2.593       3.110\n",
       "is_method_mode_34          3.5632      0.149     23.919      0.000       3.271       3.855\n",
       "is_method_mode_35          5.6457      0.079     71.730      0.000       5.491       5.800\n",
       "is_method_mode_36          1.3540      0.045     30.182      0.000       1.266       1.442\n",
       "is_method_mode_37         -0.1499      0.066     -2.282      0.022      -0.279      -0.021\n",
       "is_method_mode_38          2.6200      0.042     61.896      0.000       2.537       2.703\n",
       "is_method_mode_39          3.6524      0.060     60.712      0.000       3.534       3.770\n",
       "is_method_mode_40         -0.2607      0.049     -5.319      0.000      -0.357      -0.165\n",
       "is_method_mode_41          3.2970      0.084     39.427      0.000       3.133       3.461\n",
       "==========================================================================================\n",
       "\"\"\""
      ]
     },
     "execution_count": 14,
     "metadata": {},
     "output_type": "execute_result"
    }
   ],
   "source": [
    "import statsmodels.api as sm\n",
    "from scipy import stats\n",
    "stats.chisqprob = lambda chisq, df: stats.chi2.sf(chisq, df)\n",
    "# 学習\n",
    "logit = sm.Logit(y_kk_train, X_kk_train)\n",
    "result = logit.fit()\n",
    "result.summary()"
   ]
  },
  {
   "cell_type": "code",
   "execution_count": 15,
   "metadata": {
    "collapsed": true
   },
   "outputs": [],
   "source": [
    "from sklearn.linear_model import LogisticRegression"
   ]
  },
  {
   "cell_type": "markdown",
   "metadata": {},
   "source": [
    "* LogisticRegression\n",
    "    * random_state: 乱数のシード\n",
    "    * C: 正則化項。C が小さいほど正則化が強くなる。今回は不要なため, Cを十分を大きくして正則化を無効にする。"
   ]
  },
  {
   "cell_type": "code",
   "execution_count": 16,
   "metadata": {
    "scrolled": false
   },
   "outputs": [
    {
     "data": {
      "text/plain": [
       "LogisticRegression(C=100000000, class_weight=None, dual=False,\n",
       "          fit_intercept=True, intercept_scaling=1, max_iter=100,\n",
       "          multi_class='ovr', n_jobs=1, penalty='l2', random_state=0,\n",
       "          solver='liblinear', tol=0.0001, verbose=0, warm_start=False)"
      ]
     },
     "execution_count": 16,
     "metadata": {},
     "output_type": "execute_result"
    }
   ],
   "source": [
    "# 学習\n",
    "reg_logi_kk = LogisticRegression(random_state=0, C=100000000)\n",
    "reg_logi_kk.fit(X=X_kk_train, y=y_kk_train)"
   ]
  },
  {
   "cell_type": "code",
   "execution_count": 17,
   "metadata": {
    "scrolled": false
   },
   "outputs": [
    {
     "data": {
      "text/plain": [
       "array([[ 2.33145969e-01, -1.98411335e-01, -8.41798018e-02,\n",
       "         1.09461899e-03, -1.30872782e-02,  1.00547789e-02,\n",
       "         2.16903230e-02, -1.04689175e-03, -7.36666549e-04,\n",
       "         3.52811477e-06, -4.56295530e-03, -2.43160028e-01,\n",
       "         1.72479071e-02, -5.95514161e-01,  3.98523248e-01,\n",
       "         1.84089479e-01, -5.04920796e-02, -3.40126957e-01,\n",
       "         3.05898794e-01,  3.12812393e-01, -2.86081651e-01,\n",
       "         1.64155323e-01,  4.92713974e-02,  3.60756895e-01,\n",
       "        -5.35748621e-02, -8.77694651e-01,  5.78135070e-02,\n",
       "        -1.66819638e-01,  7.40933476e-02,  1.49343107e-01,\n",
       "         2.05858088e+00, -3.08621185e-01, -7.87319371e-01,\n",
       "         9.35469244e-01,  1.39442309e+00, -1.65500967e+00,\n",
       "         5.19295515e-01]])"
      ]
     },
     "execution_count": 17,
     "metadata": {},
     "output_type": "execute_result"
    }
   ],
   "source": [
    "# 学習結果\n",
    "reg_logi_kk.coef_"
   ]
  },
  {
   "cell_type": "code",
   "execution_count": 18,
   "metadata": {
    "collapsed": true
   },
   "outputs": [],
   "source": [
    "# 予測\n",
    "mat_logi_kk_prob = reg_logi_kk.predict_proba(X_kk_test) # 予測確率\n",
    "y_logi_kk_pred = reg_logi_kk.predict(X_kk_test) # 予測クラス"
   ]
  },
  {
   "cell_type": "code",
   "execution_count": 19,
   "metadata": {},
   "outputs": [
    {
     "name": "stdout",
     "output_type": "stream",
     "text": [
      "confusion matrix: \n",
      " [[5689 3210]\n",
      " [ 421 8478]]\n",
      "accuracy: \n",
      " 0.7959883132936285\n",
      "f1: \n",
      " 0.8236265604507698\n",
      "recall: \n",
      " 0.952691313630745\n",
      "precision: \n",
      " 0.7253593429158111\n"
     ]
    }
   ],
   "source": [
    "# 混同行列・正解率確認\n",
    "cm_logi_kk = confusion_matrix(y_kk_test, y_logi_kk_pred)\n",
    "acc_logi_kk = accuracy_score(y_kk_test, y_logi_kk_pred)\n",
    "f1_logi_kk = f1_score(y_kk_test, y_logi_kk_pred)\n",
    "rec_logi_kk = recall_score(y_kk_test, y_logi_kk_pred)\n",
    "prec_logi_kk = precision_score(y_kk_test, y_logi_kk_pred)\n",
    "print(\"confusion matrix: \\n\", cm_logi_kk)\n",
    "print(\"accuracy: \\n\", acc_logi_kk)\n",
    "print(\"f1: \\n\", f1_logi_kk)\n",
    "print(\"recall: \\n\", rec_logi_kk)\n",
    "print(\"precision: \\n\", prec_logi_kk)"
   ]
  },
  {
   "cell_type": "code",
   "execution_count": null,
   "metadata": {},
   "outputs": [],
   "source": []
  },
  {
   "cell_type": "markdown",
   "metadata": {},
   "source": [
    "## ランダムフォレスト"
   ]
  },
  {
   "cell_type": "code",
   "execution_count": 24,
   "metadata": {
    "collapsed": true
   },
   "outputs": [],
   "source": [
    "from sklearn.ensemble import RandomForestClassifier"
   ]
  },
  {
   "cell_type": "markdown",
   "metadata": {},
   "source": [
    "* RandomForestRegressor: \n",
    "    * random_state: 乱数のシード\n",
    "    * n_estimators: 木の数"
   ]
  },
  {
   "cell_type": "code",
   "execution_count": 25,
   "metadata": {},
   "outputs": [
    {
     "data": {
      "text/plain": [
       "RandomForestClassifier(bootstrap=True, class_weight=None, criterion='gini',\n",
       "            max_depth=None, max_features='auto', max_leaf_nodes=None,\n",
       "            min_impurity_decrease=0.0, min_impurity_split=None,\n",
       "            min_samples_leaf=1, min_samples_split=2,\n",
       "            min_weight_fraction_leaf=0.0, n_estimators=500, n_jobs=1,\n",
       "            oob_score=False, random_state=0, verbose=0, warm_start=False)"
      ]
     },
     "execution_count": 25,
     "metadata": {},
     "output_type": "execute_result"
    }
   ],
   "source": [
    "reg_rf_kk = RandomForestClassifier(random_state=0, n_estimators=500)\n",
    "reg_rf_kk.fit(X=X_kk_train, y=y_kk_train)"
   ]
  },
  {
   "cell_type": "code",
   "execution_count": 26,
   "metadata": {
    "collapsed": true
   },
   "outputs": [],
   "source": [
    "# 予測\n",
    "y_rf_kk_pred = reg_rf_kk.predict(X_kk_test)"
   ]
  },
  {
   "cell_type": "code",
   "execution_count": 27,
   "metadata": {},
   "outputs": [
    {
     "name": "stdout",
     "output_type": "stream",
     "text": [
      "confusion matrix: \n",
      " [[6573 2326]\n",
      " [ 420 8479]]\n",
      "accuracy: \n",
      " 0.8457130014608383\n",
      "f1: \n",
      " 0.8606374340235485\n",
      "recall: \n",
      " 0.952803685807394\n",
      "precision: \n",
      " 0.784729291994447\n"
     ]
    }
   ],
   "source": [
    "# 混同行列・正解率確認\n",
    "cm_rf_kk = confusion_matrix(y_kk_test, y_rf_kk_pred)\n",
    "acc_rf_kk = accuracy_score(y_kk_test, y_rf_kk_pred)\n",
    "f1_rf_kk = f1_score(y_kk_test, y_rf_kk_pred)\n",
    "rec_rf_kk = recall_score(y_kk_test, y_rf_kk_pred)\n",
    "prec_rf_kk = precision_score(y_kk_test, y_rf_kk_pred)\n",
    "print(\"confusion matrix: \\n\", cm_rf_kk)\n",
    "print(\"accuracy: \\n\", acc_rf_kk)\n",
    "print(\"f1: \\n\", f1_rf_kk)\n",
    "print(\"recall: \\n\", rec_rf_kk)\n",
    "print(\"precision: \\n\", prec_rf_kk)"
   ]
  },
  {
   "cell_type": "markdown",
   "metadata": {},
   "source": [
    "# LightGBM"
   ]
  },
  {
   "cell_type": "code",
   "execution_count": 28,
   "metadata": {},
   "outputs": [],
   "source": [
    "import lightgbm as lgb"
   ]
  },
  {
   "cell_type": "code",
   "execution_count": 29,
   "metadata": {},
   "outputs": [
    {
     "data": {
      "text/plain": [
       "LGBMClassifier(boosting_type='gbdt', class_weight=None, colsample_bytree=1.0,\n",
       "        learning_rate=0.1, max_depth=-1, min_child_samples=20,\n",
       "        min_child_weight=0.001, min_split_gain=0.0, n_estimators=100,\n",
       "        n_jobs=-1, num_leaves=31, objective=None, random_state=None,\n",
       "        reg_alpha=0.0, reg_lambda=0.0, silent=True, subsample=1.0,\n",
       "        subsample_for_bin=200000, subsample_freq=1)"
      ]
     },
     "execution_count": 29,
     "metadata": {},
     "output_type": "execute_result"
    }
   ],
   "source": [
    "# 学習\n",
    "clf_lgb_kk = lgb.LGBMClassifier()\n",
    "clf_lgb_kk.fit(X_kk_train, y_kk_train)"
   ]
  },
  {
   "cell_type": "code",
   "execution_count": 30,
   "metadata": {},
   "outputs": [
    {
     "name": "stderr",
     "output_type": "stream",
     "text": [
      "C:\\Users\\hiroshi_kuriyama\\AppData\\Local\\conda\\conda\\envs\\vim-test\\lib\\site-packages\\sklearn\\preprocessing\\label.py:151: DeprecationWarning: The truth value of an empty array is ambiguous. Returning False, but in future this will result in an error. Use `array.size > 0` to check that an array is not empty.\n",
      "  if diff:\n"
     ]
    }
   ],
   "source": [
    "y_lgb_kk_pred = clf_lgb_kk.predict(X_kk_test)"
   ]
  },
  {
   "cell_type": "code",
   "execution_count": 31,
   "metadata": {},
   "outputs": [
    {
     "name": "stdout",
     "output_type": "stream",
     "text": [
      "confusion matrix: \n",
      " [[6613 2286]\n",
      " [ 392 8507]]\n",
      "accuracy: \n",
      " 0.8495336554669064\n",
      "f1: \n",
      " 0.8640056875888686\n",
      "recall: \n",
      " 0.9559501067535678\n",
      "precision: \n",
      " 0.7881960529973131\n"
     ]
    }
   ],
   "source": [
    "# 混同行列・正解率確認\n",
    "cm_lgb_kk = confusion_matrix(y_kk_test, y_lgb_kk_pred)\n",
    "acc_lgb_kk = accuracy_score(y_kk_test, y_lgb_kk_pred)\n",
    "f1_lgb_kk = f1_score(y_kk_test, y_lgb_kk_pred)\n",
    "rec_lgb_kk = recall_score(y_kk_test, y_lgb_kk_pred)\n",
    "prec_lgb_kk = precision_score(y_kk_test, y_lgb_kk_pred)\n",
    "print(\"confusion matrix: \\n\", cm_lgb_kk)\n",
    "print(\"accuracy: \\n\", acc_lgb_kk)\n",
    "print(\"f1: \\n\", f1_lgb_kk)\n",
    "print(\"recall: \\n\", rec_lgb_kk)\n",
    "print(\"precision: \\n\", prec_lgb_kk)"
   ]
  },
  {
   "cell_type": "markdown",
   "metadata": {},
   "source": [
    "# XGBoost"
   ]
  },
  {
   "cell_type": "code",
   "execution_count": 32,
   "metadata": {},
   "outputs": [
    {
     "ename": "ModuleNotFoundError",
     "evalue": "No module named 'xgboost'",
     "output_type": "error",
     "traceback": [
      "\u001b[1;31m---------------------------------------------------------------------------\u001b[0m",
      "\u001b[1;31mModuleNotFoundError\u001b[0m                       Traceback (most recent call last)",
      "\u001b[1;32m<ipython-input-32-5943d1bfe3f1>\u001b[0m in \u001b[0;36m<module>\u001b[1;34m()\u001b[0m\n\u001b[1;32m----> 1\u001b[1;33m \u001b[1;32mimport\u001b[0m \u001b[0mxgboost\u001b[0m \u001b[1;32mas\u001b[0m \u001b[0mxgb\u001b[0m\u001b[1;33m\u001b[0m\u001b[0m\n\u001b[0m",
      "\u001b[1;31mModuleNotFoundError\u001b[0m: No module named 'xgboost'"
     ]
    }
   ],
   "source": [
    "import xgboost as xgb"
   ]
  },
  {
   "cell_type": "code",
   "execution_count": null,
   "metadata": {},
   "outputs": [],
   "source": [
    "# 学習\n",
    "clf_xgb_kk = xgb.XGBClassifier()\n",
    "clf_xgb_kk.fit(X_kk_train, y_kk_train)"
   ]
  },
  {
   "cell_type": "code",
   "execution_count": null,
   "metadata": {},
   "outputs": [],
   "source": [
    "# 予測値\n",
    "y_xgb_kk_pred = clf_xgb_kk.predict(X_kk_test)"
   ]
  },
  {
   "cell_type": "code",
   "execution_count": null,
   "metadata": {},
   "outputs": [],
   "source": [
    "# 混同行列・正解率確認\n",
    "cm_xgb_kk = confusion_matrix(y_kk_test, y_xgb_kk_pred)\n",
    "acc_xgb_kk = accuracy_score(y_kk_test, y_xgb_kk_pred)\n",
    "f1_xgb_kk = f1_score(y_kk_test, y_xgb_kk_pred)\n",
    "rec_xgb_kk = recall_score(y_kk_test, y_xgb_kk_pred)\n",
    "prec_xgb_kk = precision_score(y_kk_test, y_xgb_kk_pred)\n",
    "print(\"confusion matrix: \\n\", cm_xgb_kk)\n",
    "print(\"accuracy: \\n\", acc_xgb_kk)\n",
    "print(\"f1: \\n\", f1_xgb_kk)\n",
    "print(\"recall: \\n\", rec_xgb_kk)\n",
    "print(\"precision: \\n\", prec_xgb_kk)"
   ]
  },
  {
   "cell_type": "code",
   "execution_count": null,
   "metadata": {},
   "outputs": [],
   "source": []
  }
 ],
 "metadata": {
  "kernelspec": {
   "display_name": "Python 3",
   "language": "python",
   "name": "python3"
  },
  "language_info": {
   "codemirror_mode": {
    "name": "ipython",
    "version": 3
   },
   "file_extension": ".py",
   "mimetype": "text/x-python",
   "name": "python",
   "nbconvert_exporter": "python",
   "pygments_lexer": "ipython3",
   "version": "3.6.5"
  }
 },
 "nbformat": 4,
 "nbformat_minor": 2
}
